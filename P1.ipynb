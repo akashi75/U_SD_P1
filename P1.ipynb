{
 "cells": [
  {
   "cell_type": "markdown",
   "metadata": {},
   "source": [
    "## Read in an Image"
   ]
  },
  {
   "cell_type": "markdown",
   "metadata": {},
   "source": [
    "# Self-Driving Car Engineer Nanodegree\n",
    "\n",
    "\n",
    "## Project: **Finding Lane Lines on the Road** \n",
    "***\n",
    "In this project, you will use the tools you learned about in the lesson to identify lane lines on the road.  You can develop your pipeline on a series of individual images, and later apply the result to a video stream (really just a series of images). Check out the video clip \"raw-lines-example.mp4\" (also contained in this repository) to see what the output should look like after using the helper functions below. \n",
    "\n",
    "Once you have a result that looks roughly like \"raw-lines-example.mp4\", you'll need to get creative and try to average and/or extrapolate the line segments you've detected to map out the full extent of the lane lines.  You can see an example of the result you're going for in the video \"P1_example.mp4\".  Ultimately, you would like to draw just one line for the left side of the lane, and one for the right.\n",
    "\n",
    "In addition to implementing code, there is a brief writeup to complete. The writeup should be completed in a separate file, which can be either a markdown file or a pdf document. There is a [write up template](https://github.com/udacity/CarND-LaneLines-P1/blob/master/writeup_template.md) that can be used to guide the writing process. Completing both the code in the Ipython notebook and the writeup template will cover all of the [rubric points](https://review.udacity.com/#!/rubrics/322/view) for this project.\n",
    "\n",
    "---\n",
    "Let's have a look at our first image called 'test_images/solidWhiteRight.jpg'.  Run the 2 cells below (hit Shift-Enter or the \"play\" button above) to display the image.\n",
    "\n",
    "**Note: If, at any point, you encounter frozen display windows or other confounding issues, you can always start again with a clean slate by going to the \"Kernel\" menu above and selecting \"Restart & Clear Output\".**\n",
    "\n",
    "---"
   ]
  },
  {
   "cell_type": "markdown",
   "metadata": {},
   "source": [
    "**The tools you have are color selection, region of interest selection, grayscaling, Gaussian smoothing, Canny Edge Detection and Hough Tranform line detection.  You  are also free to explore and try other techniques that were not presented in the lesson.  Your goal is piece together a pipeline to detect the line segments in the image, then average/extrapolate them and draw them onto the image for display (as below).  Once you have a working pipeline, try it out on the video stream below.**\n",
    "\n",
    "---\n",
    "\n",
    "<figure>\n",
    " <img src=\"examples/line-segments-example.jpg\" width=\"380\" alt=\"Combined Image\" />\n",
    " <figcaption>\n",
    " <p></p> \n",
    " <p style=\"text-align: center;\"> Your output should look something like this (above) after detecting line segments using the helper functions below </p> \n",
    " </figcaption>\n",
    "</figure>\n",
    " <p></p> \n",
    "<figure>\n",
    " <img src=\"examples/laneLines_thirdPass.jpg\" width=\"380\" alt=\"Combined Image\" />\n",
    " <figcaption>\n",
    " <p></p> \n",
    " <p style=\"text-align: center;\"> Your goal is to connect/average/extrapolate line segments to get output like this</p> \n",
    " </figcaption>\n",
    "</figure>"
   ]
  },
  {
   "cell_type": "markdown",
   "metadata": {},
   "source": [
    "**Run the cell below to import some packages.  If you get an `import error` for a package you've already installed, try changing your kernel (select the Kernel menu above --> Change Kernel).  Still have problems?  Try relaunching Jupyter Notebook from the terminal prompt.  Also, consult the forums for more troubleshooting tips.**  "
   ]
  },
  {
   "cell_type": "markdown",
   "metadata": {},
   "source": [
    "## Import Packages"
   ]
  },
  {
   "cell_type": "code",
   "execution_count": 1,
   "metadata": {},
   "outputs": [],
   "source": [
    "#importing some useful packages\n",
    "import matplotlib.pyplot as plt\n",
    "import matplotlib.image as mpimg\n",
    "import numpy as np\n",
    "import cv2\n",
    "%matplotlib inline"
   ]
  },
  {
   "cell_type": "code",
   "execution_count": 2,
   "metadata": {},
   "outputs": [],
   "source": [
    "#reading in an image\n",
    "#image = mpimg.imread('test_images/solidWhiteRight.jpg')\n",
    "\n",
    "#printing out some stats and plotting\n",
    "#print('This image is:', type(image), 'with dimensions:', image.shape)\n",
    "#plt.imshow(image)  # if you wanted to show a single color channel image called 'gray', for example, call as plt.imshow(gray, cmap='gray')"
   ]
  },
  {
   "cell_type": "markdown",
   "metadata": {},
   "source": [
    "## Ideas for Lane Detection Pipeline"
   ]
  },
  {
   "cell_type": "markdown",
   "metadata": {},
   "source": [
    "**Some OpenCV functions (beyond those introduced in the lesson) that might be useful for this project are:**\n",
    "\n",
    "`cv2.inRange()` for color selection  \n",
    "`cv2.fillPoly()` for regions selection  \n",
    "`cv2.line()` to draw lines on an image given endpoints  \n",
    "`cv2.addWeighted()` to coadd / overlay two images\n",
    "`cv2.cvtColor()` to grayscale or change color\n",
    "`cv2.imwrite()` to output images to file  \n",
    "`cv2.bitwise_and()` to apply a mask to an image\n",
    "\n",
    "**Check out the OpenCV documentation to learn about these and discover even more awesome functionality!**"
   ]
  },
  {
   "cell_type": "markdown",
   "metadata": {},
   "source": [
    "## Helper Functions"
   ]
  },
  {
   "cell_type": "markdown",
   "metadata": {},
   "source": [
    "Below are some helper functions to help get you started. They should look familiar from the lesson!"
   ]
  },
  {
   "cell_type": "code",
   "execution_count": 3,
   "metadata": {},
   "outputs": [],
   "source": [
    "import math\n",
    "\n",
    "def grayscale(img):\n",
    "    \"\"\"Applies the Grayscale transform\n",
    "    This will return an image with only one color channel\n",
    "    but NOTE: to see the returned image as grayscale\n",
    "    (assuming your grayscaled image is called 'gray')\n",
    "    you should call plt.imshow(gray, cmap='gray')\"\"\"\n",
    "    #return cv2.cvtColor(img, cv2.COLOR_RGB2GRAY)\n",
    "    # Or use BGR2GRAY if you read an image with cv2.imread()\n",
    "    return cv2.cvtColor(img, cv2.COLOR_BGR2GRAY)\n",
    "\n",
    "def hsv(img):\n",
    "    return cv2.cvtColor(img, cv2.COLOR_RGB2HSV)\n",
    "    \n",
    "def canny(img, low_threshold, high_threshold):\n",
    "    \"\"\"Applies the Canny transform\"\"\"\n",
    "    return cv2.Canny(img, low_threshold, high_threshold)\n",
    "\n",
    "def gaussian_blur(img, kernel_size):\n",
    "    \"\"\"Applies a Gaussian Noise kernel\"\"\"\n",
    "    return cv2.GaussianBlur(img, (kernel_size, kernel_size), 0)\n",
    "\n",
    "def region_of_interest(img, vertices):\n",
    "    \"\"\"\n",
    "    Applies an image mask.\n",
    "    \n",
    "    Only keeps the region of the image defined by the polygon\n",
    "    formed from `vertices`. The rest of the image is set to black.\n",
    "    \"\"\"\n",
    "    #defining a blank mask to start with\n",
    "    mask = np.zeros_like(img)   \n",
    "    \n",
    "    #defining a 3 channel or 1 channel color to fill the mask with depending on the input image\n",
    "    if len(img.shape) > 2:\n",
    "        channel_count = img.shape[2]  # i.e. 3 or 4 depending on your image\n",
    "        ignore_mask_color = (255,) * channel_count\n",
    "    else:\n",
    "        ignore_mask_color = 255\n",
    "        \n",
    "    #filling pixels inside the polygon defined by \"vertices\" with the fill color    \n",
    "    cv2.fillPoly(mask, vertices, ignore_mask_color)\n",
    "    \n",
    "    #returning the image only where mask pixels are nonzero\n",
    "    masked_image = cv2.bitwise_and(img, mask)\n",
    "    return masked_image\n",
    "\n",
    "\n",
    "def draw_lines(img, lines, color=[255, 0, 0], thickness=2):\n",
    "    \"\"\"\n",
    "    NOTE: this is the function you might want to use as a starting point once you want to \n",
    "    average/extrapolate the line segments you detect to map out the full\n",
    "    extent of the lane (going from the result shown in raw-lines-example.mp4\n",
    "    to that shown in P1_example.mp4).  \n",
    "    \n",
    "    Think about things like separating line segments by their \n",
    "    slope ((y2-y1)/(x2-x1)) to decide which segments are part of the left\n",
    "    line vs. the right line.  Then, you can average the position of each of \n",
    "    the lines and extrapolate to the top and bottom of the lane.\n",
    "    \n",
    "    This function draws `lines` with `color` and `thickness`.    \n",
    "    Lines are drawn on the image inplace (mutates the image).\n",
    "    If you want to make the lines semi-transparent, think about combining\n",
    "    this function with the weighted_img() function below\n",
    "    \"\"\"\n",
    "    for line in lines:\n",
    "        for x1,y1,x2,y2 in line:\n",
    "            cv2.line(img, (x1, y1), (x2, y2), color, thickness)\n",
    "\n",
    "def hough_lines(img, rho, theta, threshold, min_line_len, max_line_gap):\n",
    "    \"\"\"\n",
    "    `img` should be the output of a Canny transform.\n",
    "        \n",
    "    Returns an image with hough lines drawn.\n",
    "    \"\"\"\n",
    "    print(\"in hough lines call\")\n",
    "    print(img.shape)\n",
    "    lines = cv2.HoughLinesP(img, rho, theta, threshold, np.array([]), minLineLength=min_line_len, maxLineGap=max_line_gap)\n",
    "    line_img = np.zeros((img.shape[0], img.shape[1], 3), dtype=np.uint8)\n",
    "    draw_lines(line_img, lines)\n",
    "    return line_img\n",
    "\n",
    "# Python 3 has support for cool math symbols.\n",
    "\n",
    "def weighted_img(img, initial_img, α=0.8, β=1., λ=0.):\n",
    "    \"\"\"\n",
    "    `img` is the output of the hough_lines(), An image with lines drawn on it.\n",
    "    Should be a blank image (all black) with lines drawn on it.\n",
    "    \n",
    "    `initial_img` should be the image before any processing.\n",
    "    \n",
    "    The result image is computed as follows:\n",
    "    \n",
    "    initial_img * α + img * β + λ\n",
    "    NOTE: initial_img and img must be the same shape!\n",
    "    \"\"\"\n",
    "    print(\"in weighted image call\")\n",
    "    print(img.shape)\n",
    "    print(initial_img.shape)\n",
    "    \n",
    "    return cv2.addWeighted(initial_img, α, img, β, λ)"
   ]
  },
  {
   "cell_type": "markdown",
   "metadata": {},
   "source": [
    "## Test Images\n",
    "\n",
    "Build your pipeline to work on the images in the directory \"test_images\"  \n",
    "**You should make sure your pipeline works well on these images before you try the videos.**"
   ]
  },
  {
   "cell_type": "code",
   "execution_count": 4,
   "metadata": {},
   "outputs": [
    {
     "data": {
      "text/plain": [
       "['whiteCarLaneSwitch.jpg',\n",
       " 'solidYellowCurve2.jpg',\n",
       " 'solidWhiteRight.jpg',\n",
       " 'solidYellowLeft.jpg',\n",
       " 'solidYellowCurve.jpg',\n",
       " 'solidWhiteCurve.jpg']"
      ]
     },
     "execution_count": 4,
     "metadata": {},
     "output_type": "execute_result"
    }
   ],
   "source": [
    "import os\n",
    "os.listdir(\"test_images/\")"
   ]
  },
  {
   "cell_type": "markdown",
   "metadata": {},
   "source": [
    "## Build a Lane Finding Pipeline\n",
    "\n"
   ]
  },
  {
   "cell_type": "markdown",
   "metadata": {},
   "source": [
    "Build the pipeline and run your solution on all test_images. Make copies into the `test_images_output` directory, and you can use the images in your writeup report.\n",
    "\n",
    "Try tuning the various parameters, especially the low and high Canny thresholds as well as the Hough lines parameters."
   ]
  },
  {
   "cell_type": "code",
   "execution_count": 6,
   "metadata": {
    "scrolled": true
   },
   "outputs": [
    {
     "name": "stdout",
     "output_type": "stream",
     "text": [
      "in hough lines call\n",
      "(540, 960)\n",
      "in weighted image call\n",
      "(540, 960, 3)\n",
      "(540, 960, 3)\n"
     ]
    },
    {
     "data": {
      "image/png": "[encoded data removed]",
      "text/plain": [
       "<matplotlib.figure.Figure at 0x7fd6148b1438>"
      ]
     },
     "metadata": {},
     "output_type": "display_data"
    },
    {
     "name": "stdout",
     "output_type": "stream",
     "text": [
      "in hough lines call\n",
      "(540, 960)\n",
      "in weighted image call\n",
      "(540, 960, 3)\n",
      "(540, 960, 3)\n"
     ]
    },
    {
     "data": {
      "image/png": "[encoded data removed]",
      "text/plain": [
       "<matplotlib.figure.Figure at 0x7fd614816128>"
      ]
     },
     "metadata": {},
     "output_type": "display_data"
    },
    {
     "name": "stdout",
     "output_type": "stream",
     "text": [
      "in hough lines call\n",
      "(540, 960)\n",
      "in weighted image call\n",
      "(540, 960, 3)\n",
      "(540, 960, 3)\n"
     ]
    },
    {
     "data": {
      "image/png": "[encoded data removed]",
      "text/plain": [
       "<matplotlib.figure.Figure at 0x7fd6148b1518>"
      ]
     },
     "metadata": {},
     "output_type": "display_data"
    },
    {
     "name": "stdout",
     "output_type": "stream",
     "text": [
      "in hough lines call\n",
      "(540, 960)\n",
      "in weighted image call\n",
      "(540, 960, 3)\n",
      "(540, 960, 3)\n"
     ]
    },
    {
     "data": {
      "image/png": "[encoded data removed]",
      "text/plain": [
       "<matplotlib.figure.Figure at 0x7fd6147509b0>"
      ]
     },
     "metadata": {},
     "output_type": "display_data"
    },
    {
     "name": "stdout",
     "output_type": "stream",
     "text": [
      "in hough lines call\n",
      "(540, 960)\n",
      "in weighted image call\n",
      "(540, 960, 3)\n",
      "(540, 960, 3)\n"
     ]
    },
    {
     "data": {
      "image/png": "[encoded data removed]",
      "text/plain": [
       "<matplotlib.figure.Figure at 0x7fd614742eb8>"
      ]
     },
     "metadata": {},
     "output_type": "display_data"
    },
    {
     "name": "stdout",
     "output_type": "stream",
     "text": [
      "in hough lines call\n",
      "(540, 960)\n",
      "in weighted image call\n",
      "(540, 960, 3)\n",
      "(540, 960, 3)\n"
     ]
    },
    {
     "data": {
      "image/png": "[encoded data removed]",
      "text/plain": [
       "<matplotlib.figure.Figure at 0x7fd614724668>"
      ]
     },
     "metadata": {},
     "output_type": "display_data"
    }
   ],
   "source": [
    "# Read the images from folder\n",
    "for index, img in enumerate(os.listdir(\"test_images/\")):\n",
    "    img = mpimg.imread('test_images/' + img)\n",
    "    #img=mpimg.imread('test_images/solidYellowLeft.jpg')   \n",
    "  \n",
    "    # grayscale image\n",
    "    gray=cv2.cvtColor(img, cv2.COLOR_BGR2GRAY)\n",
    "    \n",
    "    # hsv the image\n",
    "    #hsv=hsv(img)\n",
    "    hsv= cv2.cvtColor(img, cv2.COLOR_RGB2HSV)\n",
    "    \n",
    "    # gaussian blur\n",
    "    gb=gaussian_blur(gray,5)\n",
    "\n",
    "\n",
    "    # define range of color in HSV\n",
    "    lower_yel = np.array([20, 100, 100])\n",
    "    upper_yel = np.array([40, 255, 255])\n",
    "    #lower_wht = np.array([0,0,0]) \n",
    "    #upper_wht = np.array([0,0,255])\n",
    "\n",
    "    yelmask = cv2.inRange(hsv, lower_yel, upper_yel)\n",
    "    whtmask = cv2.inRange(gray, 100, 255)\n",
    "    #whtmask = cv2.inRange(gray, 200, 255)\n",
    "    fullmask = cv2.bitwise_or(whtmask, yelmask)\n",
    "    # subgray = (gray / 2).astype('uint8')\n",
    "    fullmask2 = cv2.bitwise_and(gray, fullmask)\n",
    "\n",
    "    # edge detection with canny\n",
    "    #kernel_size=7\n",
    "    #mask_edges= cv2.GaussianBlur(fullmask2,(kernel_size, kernel_size),0)\n",
    "    low_threshold=20\n",
    "    high_threshold=100\n",
    "    edges = cv2.Canny(gb, low_threshold, high_threshold)\n",
    "    #plt.imshow(edges)    \n",
    "    # ROI mask\n",
    "    x = edges.shape[1]\n",
    "    y = edges.shape[0]\n",
    "    vertices = np.array([[(x*0.,y),(x*.45, y*.60), (x*.55, y*.60), (x,y)]], dtype=np.int32)\n",
    "    mask_edges = region_of_interest(edges, vertices) \n",
    "\n",
    "    #plt.imshow(mask_edges)\n",
    "    hough_rho = 2\n",
    "    hough_theta = np.pi/180\n",
    "    hough_threshold = 100\n",
    "    hough_min_line_length = 40\n",
    "    hough_max_line_gap = 120\n",
    "    hough_img = hough_lines(mask_edges,hough_rho,hough_theta,hough_threshold,hough_min_line_length,hough_max_line_gap)\n",
    "    #plt.imshow(img) \n",
    "    result = weighted_img(hough_img,img)\n",
    "    \n",
    "    plt.imshow(result)\n",
    "    plt.show()\n",
    "    "
   ]
  },
  {
   "cell_type": "markdown",
   "metadata": {},
   "source": [
    "## Test on Videos\n",
    "\n",
    "You know what's cooler than drawing lanes over images? Drawing lanes over video!\n",
    "\n",
    "We can test our solution on two provided videos:\n",
    "\n",
    "`solidWhiteRight.mp4`\n",
    "\n",
    "`solidYellowLeft.mp4`\n",
    "\n",
    "**Note: if you get an import error when you run the next cell, try changing your kernel (select the Kernel menu above --> Change Kernel). Still have problems? Try relaunching Jupyter Notebook from the terminal prompt. Also, consult the forums for more troubleshooting tips.**\n",
    "\n",
    "**If you get an error that looks like this:**\n",
    "```\n",
    "NeedDownloadError: Need ffmpeg exe. \n",
    "You can download it by calling: \n",
    "imageio.plugins.ffmpeg.download()\n",
    "```\n",
    "**Follow the instructions in the error message and check out [this forum post](https://discussions.udacity.com/t/project-error-of-test-on-videos/274082) for more troubleshooting tips across operating systems.**"
   ]
  },
  {
   "cell_type": "code",
   "execution_count": 7,
   "metadata": {},
   "outputs": [],
   "source": [
    "# Import everything needed to edit/save/watch video clips\n",
    "from moviepy.editor import VideoFileClip\n",
    "from IPython.display import HTML"
   ]
  },
  {
   "cell_type": "code",
   "execution_count": 10,
   "metadata": {},
   "outputs": [],
   "source": [
    "def process_image(image):\n",
    "    # NOTE: The output you return should be a color image (3 channel) for processing video below\n",
    "    # TODO: put your pipeline here,\n",
    "    # you should return the final output (image where lines are drawn on lanes)\n",
    "     # grayscale image\n",
    "    gray=cv2.cvtColor(img, cv2.COLOR_BGR2GRAY)\n",
    "    \n",
    "    # hsv the image\n",
    "    #hsv=hsv(img)\n",
    "    hsv= cv2.cvtColor(img, cv2.COLOR_RGB2HSV)\n",
    "    \n",
    "    # gaussian blur\n",
    "    gb=gaussian_blur(gray,5)\n",
    "\n",
    "\n",
    "    # define range of color in HSV\n",
    "    lower_yel = np.array([20, 100, 100])\n",
    "    upper_yel = np.array([40, 255, 255])\n",
    "    #lower_wht = np.array([0,0,0]) \n",
    "    #upper_wht = np.array([0,0,255])\n",
    "\n",
    "    yelmask = cv2.inRange(hsv, lower_yel, upper_yel)\n",
    "    whtmask = cv2.inRange(gray, 100, 255)\n",
    "    #whtmask = cv2.inRange(gray, 200, 255)\n",
    "    fullmask = cv2.bitwise_or(whtmask, yelmask)\n",
    "    # subgray = (gray / 2).astype('uint8')\n",
    "    fullmask2 = cv2.bitwise_and(gray, fullmask)\n",
    "\n",
    "    # edge detection with canny\n",
    "    #kernel_size=7\n",
    "    #mask_edges= cv2.GaussianBlur(fullmask2,(kernel_size, kernel_size),0)\n",
    "    low_threshold=20\n",
    "    high_threshold=100\n",
    "    edges = cv2.Canny(gb, low_threshold, high_threshold)\n",
    "    #plt.imshow(edges)    \n",
    "    # ROI mask\n",
    "    x = edges.shape[1]\n",
    "    y = edges.shape[0]\n",
    "    vertices = np.array([[(x*0.,y),(x*.45, y*.56), (x*.55, y*.56), (x,y)]], dtype=np.int32)\n",
    "    mask_edges = region_of_interest(edges, vertices) \n",
    "\n",
    "    hough_rho = 2\n",
    "    hough_theta = np.pi/180\n",
    "    hough_threshold = 100\n",
    "    hough_min_line_length = 40\n",
    "    hough_max_line_gap = 120\n",
    "    hough_img = hough_lines(mask_edges,hough_rho,hough_theta,hough_threshold,hough_min_line_length,hough_max_line_gap)\n",
    "    result = weighted_img(hough_img,img)\n",
    "    return result"
   ]
  },
  {
   "cell_type": "markdown",
   "metadata": {},
   "source": [
    "Let's try the one with the solid white lane on the right first ..."
   ]
  },
  {
   "cell_type": "code",
   "execution_count": 11,
   "metadata": {},
   "outputs": [
    {
     "name": "stdout",
     "output_type": "stream",
     "text": [
      "in hough lines call\n",
      "(540, 960)\n",
      "in weighted image call\n",
      "(540, 960, 3)\n",
      "(540, 960, 3)\n",
      "[MoviePy] >>>> Building video test_videos/white.mp4\n",
      "[MoviePy] Writing video test_videos/white.mp4\n"
     ]
    },
    {
     "name": "stderr",
     "output_type": "stream",
     "text": [
      "  2%|▏         | 4/222 [00:00<00:05, 38.79it/s]"
     ]
    },
    {
     "name": "stdout",
     "output_type": "stream",
     "text": [
      "in hough lines call\n",
      "(540, 960)\n",
      "in weighted image call\n",
      "(540, 960, 3)\n",
      "(540, 960, 3)\n",
      "in hough lines call\n",
      "(540, 960)\n",
      "in weighted image call\n",
      "(540, 960, 3)\n",
      "(540, 960, 3)\n",
      "in hough lines call\n",
      "(540, 960)\n",
      "in weighted image call\n",
      "(540, 960, 3)\n",
      "(540, 960, 3)\n",
      "in hough lines call\n",
      "(540, 960)\n",
      "in weighted image call\n",
      "(540, 960, 3)\n",
      "(540, 960, 3)\n",
      "in hough lines call\n",
      "(540, 960)\n",
      "in weighted image call\n",
      "(540, 960, 3)\n",
      "(540, 960, 3)\n",
      "in hough lines call\n",
      "(540, 960)\n",
      "in weighted image call\n",
      "(540, 960, 3)\n",
      "(540, 960, 3)\n",
      "in hough lines call\n",
      "(540, 960)\n",
      "in weighted image call\n",
      "(540, 960, 3)\n",
      "(540, 960, 3)\n"
     ]
    },
    {
     "name": "stderr",
     "output_type": "stream",
     "text": [
      "\r",
      "  4%|▎         | 8/222 [00:00<00:05, 38.57it/s]"
     ]
    },
    {
     "name": "stdout",
     "output_type": "stream",
     "text": [
      "in hough lines call\n",
      "(540, 960)\n",
      "in weighted image call\n",
      "(540, 960, 3)\n",
      "(540, 960, 3)\n"
     ]
    },
    {
     "name": "stderr",
     "output_type": "stream",
     "text": [
      "\r",
      "  5%|▌         | 12/222 [00:00<00:05, 38.65it/s]"
     ]
    },
    {
     "name": "stdout",
     "output_type": "stream",
     "text": [
      "in hough lines call\n",
      "(540, 960)\n",
      "in weighted image call\n",
      "(540, 960, 3)\n",
      "(540, 960, 3)\n",
      "in hough lines call\n",
      "(540, 960)\n",
      "in weighted image call\n",
      "(540, 960, 3)\n",
      "(540, 960, 3)\n",
      "in hough lines call\n",
      "(540, 960)\n",
      "in weighted image call\n",
      "(540, 960, 3)\n",
      "(540, 960, 3)\n",
      "in hough lines call\n",
      "(540, 960)\n",
      "in weighted image call\n",
      "(540, 960, 3)\n",
      "(540, 960, 3)\n",
      "in hough lines call\n",
      "(540, 960)\n",
      "in weighted image call\n",
      "(540, 960, 3)\n",
      "(540, 960, 3)\n",
      "in hough lines call\n",
      "(540, 960)\n",
      "in weighted image call\n",
      "(540, 960, 3)\n",
      "(540, 960, 3)\n",
      "in hough lines call\n",
      "(540, 960)\n",
      "in weighted image call\n",
      "(540, 960, 3)\n",
      "(540, 960, 3)\n"
     ]
    },
    {
     "name": "stderr",
     "output_type": "stream",
     "text": [
      "\r",
      "  7%|▋         | 16/222 [00:00<00:05, 38.83it/s]"
     ]
    },
    {
     "name": "stdout",
     "output_type": "stream",
     "text": [
      "in hough lines call\n",
      "(540, 960)\n",
      "in weighted image call\n",
      "(540, 960, 3)\n",
      "(540, 960, 3)\n"
     ]
    },
    {
     "name": "stderr",
     "output_type": "stream",
     "text": [
      "\r",
      "  9%|▉         | 20/222 [00:00<00:05, 37.71it/s]"
     ]
    },
    {
     "name": "stdout",
     "output_type": "stream",
     "text": [
      "in hough lines call\n",
      "(540, 960)\n",
      "in weighted image call\n",
      "(540, 960, 3)\n",
      "(540, 960, 3)\n",
      "in hough lines call\n",
      "(540, 960)\n",
      "in weighted image call\n",
      "(540, 960, 3)\n",
      "(540, 960, 3)\n",
      "in hough lines call\n",
      "(540, 960)\n",
      "in weighted image call\n",
      "(540, 960, 3)\n",
      "(540, 960, 3)\n",
      "in hough lines call\n",
      "(540, 960)\n",
      "in weighted image call\n",
      "(540, 960, 3)\n",
      "(540, 960, 3)\n",
      "in hough lines call\n",
      "(540, 960)\n",
      "in weighted image call\n",
      "(540, 960, 3)\n",
      "(540, 960, 3)\n",
      "in hough lines call\n",
      "(540, 960)\n",
      "in weighted image call\n",
      "(540, 960, 3)\n",
      "(540, 960, 3)\n",
      "in hough lines call\n",
      "(540, 960)\n",
      "in weighted image call\n",
      "(540, 960, 3)\n",
      "(540, 960, 3)\n"
     ]
    },
    {
     "name": "stderr",
     "output_type": "stream",
     "text": [
      "\r",
      " 11%|█         | 24/222 [00:00<00:05, 37.74it/s]"
     ]
    },
    {
     "name": "stdout",
     "output_type": "stream",
     "text": [
      "in hough lines call\n",
      "(540, 960)\n",
      "in weighted image call\n",
      "(540, 960, 3)\n",
      "(540, 960, 3)\n"
     ]
    },
    {
     "name": "stderr",
     "output_type": "stream",
     "text": [
      "\r",
      " 13%|█▎        | 29/222 [00:00<00:04, 38.94it/s]"
     ]
    },
    {
     "name": "stdout",
     "output_type": "stream",
     "text": [
      "in hough lines call\n",
      "(540, 960)\n",
      "in weighted image call\n",
      "(540, 960, 3)\n",
      "(540, 960, 3)\n",
      "in hough lines call\n",
      "(540, 960)\n",
      "in weighted image call\n",
      "(540, 960, 3)\n",
      "(540, 960, 3)\n",
      "in hough lines call\n",
      "(540, 960)\n",
      "in weighted image call\n",
      "(540, 960, 3)\n",
      "(540, 960, 3)\n",
      "in hough lines call\n",
      "(540, 960)\n",
      "in weighted image call\n",
      "(540, 960, 3)\n",
      "(540, 960, 3)\n",
      "in hough lines call\n",
      "(540, 960)\n",
      "in weighted image call\n",
      "(540, 960, 3)\n",
      "(540, 960, 3)\n",
      "in hough lines call\n",
      "(540, 960)\n",
      "in weighted image call\n",
      "(540, 960, 3)\n",
      "(540, 960, 3)\n",
      "in hough lines call\n",
      "(540, 960)\n",
      "in weighted image call\n",
      "(540, 960, 3)\n",
      "(540, 960, 3)\n",
      "in hough lines call\n",
      "(540, 960)\n",
      "in weighted image call\n",
      "(540, 960, 3)\n",
      "(540, 960, 3)\n",
      "in hough lines call\n",
      "(540, 960)\n",
      "in weighted image call\n",
      "(540, 960, 3)\n",
      "(540, 960, 3)\n"
     ]
    },
    {
     "name": "stderr",
     "output_type": "stream",
     "text": [
      " 17%|█▋        | 38/222 [00:00<00:04, 39.06it/s]"
     ]
    },
    {
     "name": "stdout",
     "output_type": "stream",
     "text": [
      "in hough lines call\n",
      "(540, 960)\n",
      "in weighted image call\n",
      "(540, 960, 3)\n",
      "(540, 960, 3)\n",
      "in hough lines call\n",
      "(540, 960)\n",
      "in weighted image call\n",
      "(540, 960, 3)\n",
      "(540, 960, 3)\n",
      "in hough lines call\n",
      "(540, 960)\n",
      "in weighted image call\n",
      "(540, 960, 3)\n",
      "(540, 960, 3)\n",
      "in hough lines call\n",
      "(540, 960)\n",
      "in weighted image call\n",
      "(540, 960, 3)\n",
      "(540, 960, 3)\n",
      "in hough lines call\n",
      "(540, 960)\n",
      "in weighted image call\n",
      "(540, 960, 3)\n",
      "(540, 960, 3)\n",
      "in hough lines call\n",
      "(540, 960)\n",
      "in weighted image call\n",
      "(540, 960, 3)\n",
      "(540, 960, 3)\n",
      "in hough lines call\n",
      "(540, 960)\n",
      "in weighted image call\n",
      "(540, 960, 3)\n",
      "(540, 960, 3)\n",
      "in hough lines call\n",
      "(540, 960)\n",
      "in weighted image call\n",
      "(540, 960, 3)\n",
      "(540, 960, 3)\n"
     ]
    },
    {
     "name": "stderr",
     "output_type": "stream",
     "text": [
      " 21%|██        | 46/222 [00:01<00:04, 37.55it/s]"
     ]
    },
    {
     "name": "stdout",
     "output_type": "stream",
     "text": [
      "in hough lines call\n",
      "(540, 960)\n",
      "in weighted image call\n",
      "(540, 960, 3)\n",
      "(540, 960, 3)\n",
      "in hough lines call\n",
      "(540, 960)\n",
      "in weighted image call\n",
      "(540, 960, 3)\n",
      "(540, 960, 3)\n",
      "in hough lines call\n",
      "(540, 960)\n",
      "in weighted image call\n",
      "(540, 960, 3)\n",
      "(540, 960, 3)\n",
      "in hough lines call\n",
      "(540, 960)\n",
      "in weighted image call\n",
      "(540, 960, 3)\n",
      "(540, 960, 3)\n",
      "in hough lines call\n",
      "(540, 960)\n",
      "in weighted image call\n",
      "(540, 960, 3)\n",
      "(540, 960, 3)\n",
      "in hough lines call\n",
      "(540, 960)\n",
      "in weighted image call\n",
      "(540, 960, 3)\n",
      "(540, 960, 3)\n",
      "in hough lines call\n",
      "(540, 960)\n",
      "in weighted image call\n",
      "(540, 960, 3)\n",
      "(540, 960, 3)\n"
     ]
    },
    {
     "name": "stderr",
     "output_type": "stream",
     "text": [
      "\r",
      " 23%|██▎       | 50/222 [00:01<00:04, 36.07it/s]"
     ]
    },
    {
     "name": "stdout",
     "output_type": "stream",
     "text": [
      "in hough lines call\n",
      "(540, 960)\n",
      "in weighted image call\n",
      "(540, 960, 3)\n",
      "(540, 960, 3)\n",
      "in hough lines call\n",
      "(540, 960)\n",
      "in weighted image call\n",
      "(540, 960, 3)\n",
      "(540, 960, 3)\n",
      "in hough lines call\n",
      "(540, 960)\n",
      "in weighted image call\n",
      "(540, 960, 3)\n",
      "(540, 960, 3)\n",
      "in hough lines call\n",
      "(540, 960)\n",
      "in weighted image call\n",
      "(540, 960, 3)\n",
      "(540, 960, 3)\n",
      "in hough lines call\n",
      "(540, 960)\n",
      "in weighted image call\n",
      "(540, 960, 3)\n",
      "(540, 960, 3)\n"
     ]
    },
    {
     "name": "stderr",
     "output_type": "stream",
     "text": [
      "\r",
      " 24%|██▍       | 54/222 [00:01<00:04, 35.63it/s]"
     ]
    },
    {
     "name": "stdout",
     "output_type": "stream",
     "text": [
      "in hough lines call\n",
      "(540, 960)\n",
      "in weighted image call\n",
      "(540, 960, 3)\n",
      "(540, 960, 3)\n",
      "in hough lines call\n",
      "(540, 960)\n",
      "in weighted image call\n",
      "(540, 960, 3)\n",
      "(540, 960, 3)\n"
     ]
    },
    {
     "name": "stderr",
     "output_type": "stream",
     "text": [
      "\r",
      " 26%|██▌       | 58/222 [00:01<00:04, 34.00it/s]"
     ]
    },
    {
     "name": "stdout",
     "output_type": "stream",
     "text": [
      "in hough lines call\n",
      "(540, 960)\n",
      "in weighted image call\n",
      "(540, 960, 3)\n",
      "(540, 960, 3)\n",
      "in hough lines call\n",
      "(540, 960)\n",
      "in weighted image call\n",
      "(540, 960, 3)\n",
      "(540, 960, 3)\n",
      "in hough lines call\n",
      "(540, 960)\n",
      "in weighted image call\n",
      "(540, 960, 3)\n",
      "(540, 960, 3)\n",
      "in hough lines call\n",
      "(540, 960)\n",
      "in weighted image call\n",
      "(540, 960, 3)\n",
      "(540, 960, 3)\n",
      "in hough lines call\n",
      "(540, 960)\n",
      "in weighted image call\n",
      "(540, 960, 3)\n",
      "(540, 960, 3)\n",
      "in hough lines call\n",
      "(540, 960)\n",
      "in weighted image call\n",
      "(540, 960, 3)\n",
      "(540, 960, 3)\n"
     ]
    },
    {
     "name": "stderr",
     "output_type": "stream",
     "text": [
      "\r",
      " 28%|██▊       | 62/222 [00:01<00:04, 33.67it/s]"
     ]
    },
    {
     "name": "stdout",
     "output_type": "stream",
     "text": [
      "in hough lines call\n",
      "(540, 960)\n",
      "in weighted image call\n",
      "(540, 960, 3)\n",
      "(540, 960, 3)\n"
     ]
    },
    {
     "name": "stderr",
     "output_type": "stream",
     "text": [
      "\r",
      " 30%|██▉       | 66/222 [00:01<00:04, 34.20it/s]"
     ]
    },
    {
     "name": "stdout",
     "output_type": "stream",
     "text": [
      "in hough lines call\n",
      "(540, 960)\n",
      "in weighted image call\n",
      "(540, 960, 3)\n",
      "(540, 960, 3)\n",
      "in hough lines call\n",
      "(540, 960)\n",
      "in weighted image call\n",
      "(540, 960, 3)\n",
      "(540, 960, 3)\n",
      "in hough lines call\n",
      "(540, 960)\n",
      "in weighted image call\n",
      "(540, 960, 3)\n",
      "(540, 960, 3)\n",
      "in hough lines call\n",
      "(540, 960)\n",
      "in weighted image call\n",
      "(540, 960, 3)\n",
      "(540, 960, 3)\n",
      "in hough lines call\n",
      "(540, 960)\n",
      "in weighted image call\n",
      "(540, 960, 3)\n",
      "(540, 960, 3)\n",
      "in hough lines call\n",
      "(540, 960)\n",
      "in weighted image call\n",
      "(540, 960, 3)\n",
      "(540, 960, 3)\n",
      "in hough lines call\n",
      "(540, 960)\n",
      "in weighted image call\n",
      "(540, 960, 3)\n",
      "(540, 960, 3)\n",
      "in hough lines call\n",
      "(540, 960)\n"
     ]
    },
    {
     "name": "stderr",
     "output_type": "stream",
     "text": [
      " 33%|███▎      | 74/222 [00:02<00:04, 33.76it/s]"
     ]
    },
    {
     "name": "stdout",
     "output_type": "stream",
     "text": [
      "in weighted image call\n",
      "(540, 960, 3)\n",
      "(540, 960, 3)\n",
      "in hough lines call\n",
      "(540, 960)\n",
      "in weighted image call\n",
      "(540, 960, 3)\n",
      "(540, 960, 3)\n",
      "in hough lines call\n",
      "(540, 960)\n",
      "in weighted image call\n",
      "(540, 960, 3)\n",
      "(540, 960, 3)\n",
      "in hough lines call\n",
      "(540, 960)\n",
      "in weighted image call\n",
      "(540, 960, 3)\n",
      "(540, 960, 3)\n",
      "in hough lines call\n",
      "(540, 960)\n",
      "in weighted image call\n",
      "(540, 960, 3)\n",
      "(540, 960, 3)\n",
      "in hough lines call\n",
      "(540, 960)\n",
      "in weighted image call\n",
      "(540, 960, 3)\n",
      "(540, 960, 3)\n",
      "in hough lines call\n",
      "(540, 960)\n",
      "in weighted image call\n",
      "(540, 960, 3)\n",
      "(540, 960, 3)\n",
      "in hough lines call"
     ]
    },
    {
     "name": "stderr",
     "output_type": "stream",
     "text": [
      "\r",
      " 35%|███▌      | 78/222 [00:02<00:04, 32.92it/s]"
     ]
    },
    {
     "name": "stdout",
     "output_type": "stream",
     "text": [
      "\n",
      "(540, 960)\n",
      "in weighted image call\n",
      "(540, 960, 3)\n",
      "(540, 960, 3)\n",
      "in hough lines call\n",
      "(540, 960)\n",
      "in weighted image call\n",
      "(540, 960, 3)\n",
      "(540, 960, 3)\n",
      "in hough lines call\n",
      "(540, 960)\n",
      "in weighted image call\n",
      "(540, 960, 3)\n",
      "(540, 960, 3)\n",
      "in hough lines call\n",
      "(540, 960)\n",
      "in weighted image call\n",
      "(540, 960, 3)\n",
      "(540, 960, 3)\n",
      "in hough lines call\n",
      "(540, 960)\n",
      "in weighted image call\n",
      "(540, 960, 3)\n",
      "(540, 960, 3)\n"
     ]
    },
    {
     "name": "stderr",
     "output_type": "stream",
     "text": [
      "\r",
      " 37%|███▋      | 82/222 [00:02<00:04, 33.16it/s]"
     ]
    },
    {
     "name": "stdout",
     "output_type": "stream",
     "text": [
      "in hough lines call\n",
      "(540, 960)\n",
      "in weighted image call\n",
      "(540, 960, 3)\n",
      "(540, 960, 3)\n",
      "in hough lines call\n",
      "(540, 960)\n",
      "in weighted image call\n",
      "(540, 960, 3)\n",
      "(540, 960, 3)\n"
     ]
    },
    {
     "name": "stderr",
     "output_type": "stream",
     "text": [
      "\r",
      " 39%|███▊      | 86/222 [00:02<00:04, 32.88it/s]"
     ]
    },
    {
     "name": "stdout",
     "output_type": "stream",
     "text": [
      "in hough lines call\n",
      "(540, 960)\n",
      "in weighted image call\n",
      "(540, 960, 3)\n",
      "(540, 960, 3)\n",
      "in hough lines call\n",
      "(540, 960)\n",
      "in weighted image call\n",
      "(540, 960, 3)\n",
      "(540, 960, 3)\n",
      "in hough lines call\n",
      "(540, 960)\n",
      "in weighted image call\n",
      "(540, 960, 3)\n",
      "(540, 960, 3)\n",
      "in hough lines call\n",
      "(540, 960)\n",
      "in weighted image call\n",
      "(540, 960, 3)\n",
      "(540, 960, 3)\n",
      "in hough lines call\n",
      "(540, 960)\n",
      "in weighted image call\n",
      "(540, 960, 3)\n",
      "(540, 960, 3)\n",
      "in hough lines call\n",
      "(540, 960)\n",
      "in weighted image call\n",
      "(540, 960, 3)\n",
      "(540, 960, 3)\n"
     ]
    },
    {
     "name": "stderr",
     "output_type": "stream",
     "text": [
      "\r",
      " 41%|████      | 90/222 [00:02<00:04, 32.61it/s]"
     ]
    },
    {
     "name": "stdout",
     "output_type": "stream",
     "text": [
      "in hough lines call\n",
      "(540, 960)\n",
      "in weighted image call\n",
      "(540, 960, 3)\n",
      "(540, 960, 3)\n"
     ]
    },
    {
     "name": "stderr",
     "output_type": "stream",
     "text": [
      "\r",
      " 42%|████▏     | 94/222 [00:02<00:03, 32.95it/s]"
     ]
    },
    {
     "name": "stdout",
     "output_type": "stream",
     "text": [
      "in hough lines call\n",
      "(540, 960)\n",
      "in weighted image call\n",
      "(540, 960, 3)\n",
      "(540, 960, 3)\n",
      "in hough lines call\n",
      "(540, 960)\n",
      "in weighted image call\n",
      "(540, 960, 3)\n",
      "(540, 960, 3)\n",
      "in hough lines call\n",
      "(540, 960)\n",
      "in weighted image call\n",
      "(540, 960, 3)\n",
      "(540, 960, 3)\n",
      "in hough lines call\n",
      "(540, 960)\n",
      "in weighted image call\n",
      "(540, 960, 3)\n",
      "(540, 960, 3)\n",
      "in hough lines call\n",
      "(540, 960)\n",
      "in weighted image call\n",
      "(540, 960, 3)\n",
      "(540, 960, 3)\n",
      "in hough lines call\n",
      "(540, 960)\n",
      "in weighted image call\n",
      "(540, 960, 3)\n",
      "(540, 960, 3)\n",
      "in hough lines call\n",
      "(540, 960)\n",
      "in weighted image call\n",
      "(540, 960, 3)\n",
      "(540, 960, 3)\n",
      "in hough lines call\n",
      "(540, 960)\n"
     ]
    },
    {
     "name": "stderr",
     "output_type": "stream",
     "text": [
      " 46%|████▌     | 102/222 [00:02<00:03, 34.02it/s]"
     ]
    },
    {
     "name": "stdout",
     "output_type": "stream",
     "text": [
      "in weighted image call\n",
      "(540, 960, 3)\n",
      "(540, 960, 3)\n",
      "in hough lines call\n",
      "(540, 960)\n",
      "in weighted image call\n",
      "(540, 960, 3)\n",
      "(540, 960, 3)\n",
      "in hough lines call\n",
      "(540, 960)\n",
      "in weighted image call\n",
      "(540, 960, 3)\n",
      "(540, 960, 3)\n",
      "in hough lines call\n",
      "(540, 960)\n",
      "in weighted image call\n",
      "(540, 960, 3)\n",
      "(540, 960, 3)\n",
      "in hough lines call\n",
      "(540, 960)\n",
      "in weighted image call\n",
      "(540, 960, 3)\n",
      "(540, 960, 3)\n",
      "in hough lines call\n",
      "(540, 960)\n",
      "in weighted image call\n",
      "(540, 960, 3)\n",
      "(540, 960, 3)\n",
      "in hough lines call\n",
      "(540, 960)\n",
      "in weighted image call\n",
      "(540, 960, 3)\n",
      "(540, 960, 3)\n"
     ]
    },
    {
     "name": "stderr",
     "output_type": "stream",
     "text": [
      "\r",
      " 48%|████▊     | 106/222 [00:03<00:03, 32.65it/s]"
     ]
    },
    {
     "name": "stdout",
     "output_type": "stream",
     "text": [
      "in hough lines call\n",
      "(540, 960)\n",
      "in weighted image call\n",
      "(540, 960, 3)\n",
      "(540, 960, 3)\n",
      "in hough lines call\n",
      "(540, 960)\n",
      "in weighted image call\n",
      "(540, 960, 3)\n",
      "(540, 960, 3)\n",
      "in hough lines call\n",
      "(540, 960)\n",
      "in weighted image call\n",
      "(540, 960, 3)\n",
      "(540, 960, 3)\n",
      "in hough lines call\n",
      "(540, 960)\n",
      "in weighted image call\n",
      "(540, 960, 3)\n",
      "(540, 960, 3)\n",
      "in hough lines call\n",
      "(540, 960)\n",
      "in weighted image call\n",
      "(540, 960, 3)\n",
      "(540, 960, 3)\n"
     ]
    },
    {
     "name": "stderr",
     "output_type": "stream",
     "text": [
      "\r",
      " 50%|████▉     | 110/222 [00:03<00:03, 33.65it/s]"
     ]
    },
    {
     "name": "stdout",
     "output_type": "stream",
     "text": [
      "in hough lines call\n",
      "(540, 960)\n",
      "in weighted image call\n",
      "(540, 960, 3)\n",
      "(540, 960, 3)\n",
      "in hough lines call\n",
      "(540, 960)\n",
      "in weighted image call\n",
      "(540, 960, 3)\n",
      "(540, 960, 3)\n"
     ]
    },
    {
     "name": "stderr",
     "output_type": "stream",
     "text": [
      "\r",
      " 51%|█████▏    | 114/222 [00:03<00:03, 32.94it/s]"
     ]
    },
    {
     "name": "stdout",
     "output_type": "stream",
     "text": [
      "in hough lines call\n",
      "(540, 960)\n",
      "in weighted image call\n",
      "(540, 960, 3)\n",
      "(540, 960, 3)\n",
      "in hough lines call\n",
      "(540, 960)\n",
      "in weighted image call\n",
      "(540, 960, 3)\n",
      "(540, 960, 3)\n",
      "in hough lines call\n",
      "(540, 960)\n",
      "in weighted image call\n",
      "(540, 960, 3)\n",
      "(540, 960, 3)\n",
      "in hough lines call\n",
      "(540, 960)\n",
      "in weighted image call\n",
      "(540, 960, 3)\n",
      "(540, 960, 3)\n",
      "in hough lines call\n",
      "(540, 960)\n",
      "in weighted image call\n",
      "(540, 960, 3)\n",
      "(540, 960, 3)\n",
      "in hough lines call\n",
      "(540, 960)\n",
      "in weighted image call\n",
      "(540, 960, 3)\n",
      "(540, 960, 3)\n"
     ]
    },
    {
     "name": "stderr",
     "output_type": "stream",
     "text": [
      "\r",
      " 53%|█████▎    | 118/222 [00:03<00:03, 32.65it/s]"
     ]
    },
    {
     "name": "stdout",
     "output_type": "stream",
     "text": [
      "in hough lines call\n",
      "(540, 960)\n",
      "in weighted image call\n",
      "(540, 960, 3)\n",
      "(540, 960, 3)\n"
     ]
    },
    {
     "name": "stderr",
     "output_type": "stream",
     "text": [
      "\r",
      " 55%|█████▍    | 122/222 [00:03<00:03, 33.20it/s]"
     ]
    },
    {
     "name": "stdout",
     "output_type": "stream",
     "text": [
      "in hough lines call\n",
      "(540, 960)\n",
      "in weighted image call\n",
      "(540, 960, 3)\n",
      "(540, 960, 3)\n",
      "in hough lines call\n",
      "(540, 960)\n",
      "in weighted image call\n",
      "(540, 960, 3)\n",
      "(540, 960, 3)\n",
      "in hough lines call\n",
      "(540, 960)\n",
      "in weighted image call\n",
      "(540, 960, 3)\n",
      "(540, 960, 3)\n",
      "in hough lines call\n",
      "(540, 960)\n",
      "in weighted image call\n",
      "(540, 960, 3)\n",
      "(540, 960, 3)\n",
      "in hough lines call\n",
      "(540, 960)\n",
      "in weighted image call\n",
      "(540, 960, 3)\n",
      "(540, 960, 3)\n",
      "in hough lines call\n",
      "(540, 960)\n",
      "in weighted image call\n",
      "(540, 960, 3)\n",
      "(540, 960, 3)\n",
      "in hough lines call\n",
      "(540, 960)\n",
      "in weighted image call\n",
      "(540, 960, 3)\n",
      "(540, 960, 3)\n",
      "in hough lines call\n",
      "(540, 960)\n"
     ]
    },
    {
     "name": "stderr",
     "output_type": "stream",
     "text": [
      " 59%|█████▊    | 130/222 [00:03<00:02, 34.63it/s]"
     ]
    },
    {
     "name": "stdout",
     "output_type": "stream",
     "text": [
      "in weighted image call\n",
      "(540, 960, 3)\n",
      "(540, 960, 3)\n",
      "in hough lines call\n",
      "(540, 960)\n",
      "in weighted image call\n",
      "(540, 960, 3)\n",
      "(540, 960, 3)\n",
      "in hough lines call\n",
      "(540, 960)\n",
      "in weighted image call\n",
      "(540, 960, 3)\n",
      "(540, 960, 3)\n",
      "in hough lines call\n",
      "(540, 960)\n",
      "in weighted image call\n",
      "(540, 960, 3)\n",
      "(540, 960, 3)\n",
      "in hough lines call\n",
      "(540, 960)\n",
      "in weighted image call\n",
      "(540, 960, 3)\n",
      "(540, 960, 3)\n",
      "in hough lines call\n",
      "(540, 960)\n",
      "in weighted image call\n",
      "(540, 960, 3)\n",
      "(540, 960, 3)\n",
      "in hough lines call\n",
      "(540, 960)\n",
      "in weighted image call\n",
      "(540, 960, 3)\n",
      "(540, 960, 3)\n",
      "in hough lines call\n",
      "(540, 960)\n",
      "in weighted image call\n",
      "(540, 960, 3)\n",
      "(540, 960, 3)\n"
     ]
    },
    {
     "name": "stderr",
     "output_type": "stream",
     "text": [
      "\r",
      " 60%|██████    | 134/222 [00:03<00:02, 33.43it/s]"
     ]
    },
    {
     "name": "stdout",
     "output_type": "stream",
     "text": [
      "in hough lines call\n",
      "(540, 960)\n",
      "in weighted image call\n",
      "(540, 960, 3)\n",
      "(540, 960, 3)\n",
      "in hough lines call\n",
      "(540, 960)\n",
      "in weighted image call\n",
      "(540, 960, 3)\n",
      "(540, 960, 3)\n",
      "in hough lines call\n",
      "(540, 960)\n",
      "in weighted image call\n",
      "(540, 960, 3)\n",
      "(540, 960, 3)\n",
      "in hough lines call\n",
      "(540, 960)\n",
      "in weighted image call\n",
      "(540, 960, 3)\n",
      "(540, 960, 3)\n"
     ]
    },
    {
     "name": "stderr",
     "output_type": "stream",
     "text": [
      "\r",
      " 62%|██████▏   | 138/222 [00:03<00:02, 32.33it/s]"
     ]
    },
    {
     "name": "stdout",
     "output_type": "stream",
     "text": [
      "in hough lines call\n",
      "(540, 960)\n",
      "in weighted image call\n",
      "(540, 960, 3)\n",
      "(540, 960, 3)\n",
      "in hough lines call\n",
      "(540, 960)\n",
      "in weighted image call\n",
      "(540, 960, 3)\n",
      "(540, 960, 3)\n"
     ]
    },
    {
     "name": "stderr",
     "output_type": "stream",
     "text": [
      "\r",
      " 64%|██████▍   | 142/222 [00:04<00:02, 31.76it/s]"
     ]
    },
    {
     "name": "stdout",
     "output_type": "stream",
     "text": [
      "in hough lines call\n",
      "(540, 960)\n",
      "in weighted image call\n",
      "(540, 960, 3)\n",
      "(540, 960, 3)\n",
      "in hough lines call\n",
      "(540, 960)\n",
      "in weighted image call\n",
      "(540, 960, 3)\n",
      "(540, 960, 3)\n",
      "in hough lines call\n",
      "(540, 960)\n",
      "in weighted image call\n",
      "(540, 960, 3)\n",
      "(540, 960, 3)\n",
      "in hough lines call\n",
      "(540, 960)\n",
      "in weighted image call\n",
      "(540, 960, 3)\n",
      "(540, 960, 3)\n",
      "in hough lines call\n",
      "(540, 960)\n",
      "in weighted image call\n",
      "(540, 960, 3)\n",
      "(540, 960, 3)\n",
      "in hough lines call\n",
      "(540, 960)\n",
      "in weighted image call\n",
      "(540, 960, 3)\n",
      "(540, 960, 3)\n"
     ]
    },
    {
     "name": "stderr",
     "output_type": "stream",
     "text": [
      "\r",
      " 66%|██████▌   | 146/222 [00:04<00:02, 31.75it/s]"
     ]
    },
    {
     "name": "stdout",
     "output_type": "stream",
     "text": [
      "in hough lines call\n",
      "(540, 960)\n",
      "in weighted image call\n",
      "(540, 960, 3)\n",
      "(540, 960, 3)\n"
     ]
    },
    {
     "name": "stderr",
     "output_type": "stream",
     "text": [
      "\r",
      " 68%|██████▊   | 150/222 [00:04<00:02, 32.51it/s]"
     ]
    },
    {
     "name": "stdout",
     "output_type": "stream",
     "text": [
      "in hough lines call\n",
      "(540, 960)\n",
      "in weighted image call\n",
      "(540, 960, 3)\n",
      "(540, 960, 3)\n",
      "in hough lines call\n",
      "(540, 960)\n",
      "in weighted image call\n",
      "(540, 960, 3)\n",
      "(540, 960, 3)\n",
      "in hough lines call\n",
      "(540, 960)\n",
      "in weighted image call\n",
      "(540, 960, 3)\n",
      "(540, 960, 3)\n",
      "in hough lines call\n",
      "(540, 960)\n",
      "in weighted image call\n",
      "(540, 960, 3)\n",
      "(540, 960, 3)\n",
      "in hough lines call\n",
      "(540, 960)\n",
      "in weighted image call\n",
      "(540, 960, 3)\n",
      "(540, 960, 3)\n",
      "in hough lines call\n",
      "(540, 960)\n",
      "in weighted image call\n",
      "(540, 960, 3)\n",
      "(540, 960, 3)\n",
      "in hough lines call\n",
      "(540, 960)\n",
      "in weighted image call\n",
      "(540, 960, 3)\n",
      "(540, 960, 3)\n"
     ]
    },
    {
     "name": "stderr",
     "output_type": "stream",
     "text": [
      "\r",
      " 69%|██████▉   | 154/222 [00:04<00:02, 32.11it/s]"
     ]
    },
    {
     "name": "stdout",
     "output_type": "stream",
     "text": [
      "in hough lines call\n",
      "(540, 960)\n",
      "in weighted image call\n",
      "(540, 960, 3)\n",
      "(540, 960, 3)\n",
      "in hough lines call\n",
      "(540, 960)\n",
      "in weighted image call\n",
      "(540, 960, 3)\n",
      "(540, 960, 3)\n",
      "in hough lines call\n",
      "(540, 960)\n",
      "in weighted image call\n",
      "(540, 960, 3)\n",
      "(540, 960, 3)\n",
      "in hough lines call\n",
      "(540, 960)\n",
      "in weighted image call\n",
      "(540, 960, 3)\n",
      "(540, 960, 3)\n",
      "in hough lines call\n",
      "(540, 960)\n"
     ]
    },
    {
     "name": "stderr",
     "output_type": "stream",
     "text": [
      "\r",
      " 71%|███████   | 158/222 [00:04<00:02, 31.45it/s]"
     ]
    },
    {
     "name": "stdout",
     "output_type": "stream",
     "text": [
      "in weighted image call\n",
      "(540, 960, 3)\n",
      "(540, 960, 3)\n",
      "in hough lines call\n",
      "(540, 960)\n",
      "in weighted image call\n",
      "(540, 960, 3)\n",
      "(540, 960, 3)\n"
     ]
    },
    {
     "name": "stderr",
     "output_type": "stream",
     "text": [
      "\r",
      " 73%|███████▎  | 162/222 [00:04<00:01, 31.25it/s]"
     ]
    },
    {
     "name": "stdout",
     "output_type": "stream",
     "text": [
      "in hough lines call\n",
      "(540, 960)\n",
      "in weighted image call\n",
      "(540, 960, 3)\n",
      "(540, 960, 3)\n",
      "in hough lines call\n",
      "(540, 960)\n",
      "in weighted image call\n",
      "(540, 960, 3)\n",
      "(540, 960, 3)\n",
      "in hough lines call\n",
      "(540, 960)\n",
      "in weighted image call\n",
      "(540, 960, 3)\n",
      "(540, 960, 3)\n",
      "in hough lines call\n",
      "(540, 960)\n",
      "in weighted image call\n",
      "(540, 960, 3)\n",
      "(540, 960, 3)\n",
      "in hough lines call\n",
      "(540, 960)\n",
      "in weighted image call\n",
      "(540, 960, 3)\n",
      "(540, 960, 3)\n",
      "in hough lines call\n",
      "(540, 960)\n",
      "in weighted image call\n",
      "(540, 960, 3)\n",
      "(540, 960, 3)\n"
     ]
    },
    {
     "name": "stderr",
     "output_type": "stream",
     "text": [
      "\r",
      " 75%|███████▍  | 166/222 [00:04<00:01, 31.16it/s]"
     ]
    },
    {
     "name": "stdout",
     "output_type": "stream",
     "text": [
      "in hough lines call\n",
      "(540, 960)\n",
      "in weighted image call\n",
      "(540, 960, 3)\n",
      "(540, 960, 3)\n"
     ]
    },
    {
     "name": "stderr",
     "output_type": "stream",
     "text": [
      "\r",
      " 77%|███████▋  | 170/222 [00:04<00:01, 31.79it/s]"
     ]
    },
    {
     "name": "stdout",
     "output_type": "stream",
     "text": [
      "in hough lines call\n",
      "(540, 960)\n",
      "in weighted image call\n",
      "(540, 960, 3)\n",
      "(540, 960, 3)\n",
      "in hough lines call\n",
      "(540, 960)\n",
      "in weighted image call\n",
      "(540, 960, 3)\n",
      "(540, 960, 3)\n",
      "in hough lines call\n",
      "(540, 960)\n",
      "in weighted image call\n",
      "(540, 960, 3)\n",
      "(540, 960, 3)\n",
      "in hough lines call\n",
      "(540, 960)\n",
      "in weighted image call\n",
      "(540, 960, 3)\n",
      "(540, 960, 3)\n",
      "in hough lines call\n",
      "(540, 960)\n",
      "in weighted image call\n",
      "(540, 960, 3)\n",
      "(540, 960, 3)\n",
      "in hough lines call\n",
      "(540, 960)\n",
      "in weighted image call\n",
      "(540, 960, 3)\n",
      "(540, 960, 3)\n",
      "in hough lines call\n",
      "(540, 960)\n",
      "in weighted image call\n",
      "(540, 960, 3)\n",
      "(540, 960, 3)\n"
     ]
    },
    {
     "name": "stderr",
     "output_type": "stream",
     "text": [
      " 80%|████████  | 178/222 [00:05<00:01, 32.32it/s]"
     ]
    },
    {
     "name": "stdout",
     "output_type": "stream",
     "text": [
      "in hough lines call\n",
      "(540, 960)\n",
      "in weighted image call\n",
      "(540, 960, 3)\n",
      "(540, 960, 3)\n",
      "in hough lines call\n",
      "(540, 960)\n",
      "in weighted image call\n",
      "(540, 960, 3)\n",
      "(540, 960, 3)\n",
      "in hough lines call\n",
      "(540, 960)\n",
      "in weighted image call\n",
      "(540, 960, 3)\n",
      "(540, 960, 3)\n",
      "in hough lines call\n",
      "(540, 960)\n",
      "in weighted image call\n",
      "(540, 960, 3)\n",
      "(540, 960, 3)\n",
      "in hough lines call\n",
      "(540, 960)\n",
      "in weighted image call\n",
      "(540, 960, 3)\n",
      "(540, 960, 3)\n",
      "in hough lines call\n",
      "(540, 960)\n",
      "in weighted image call\n",
      "(540, 960, 3)\n",
      "(540, 960, 3)\n",
      "in hough lines call\n",
      "(540, 960)\n",
      "in weighted image call\n",
      "(540, 960, 3)\n",
      "(540, 960, 3)\n"
     ]
    },
    {
     "name": "stderr",
     "output_type": "stream",
     "text": [
      "\r",
      " 82%|████████▏ | 182/222 [00:05<00:01, 30.69it/s]"
     ]
    },
    {
     "name": "stdout",
     "output_type": "stream",
     "text": [
      "in hough lines call\n",
      "(540, 960)\n",
      "in weighted image call\n",
      "(540, 960, 3)\n",
      "(540, 960, 3)\n",
      "in hough lines call\n",
      "(540, 960)\n",
      "in weighted image call\n",
      "(540, 960, 3)\n",
      "(540, 960, 3)\n",
      "in hough lines call\n",
      "(540, 960)\n",
      "in weighted image call\n",
      "(540, 960, 3)\n",
      "(540, 960, 3)\n",
      "in hough lines call\n",
      "(540, 960)\n",
      "in weighted image call\n",
      "(540, 960, 3)\n",
      "(540, 960, 3)\n",
      "in hough lines call\n",
      "(540, 960)\n",
      "in weighted image call\n",
      "(540, 960, 3)\n",
      "(540, 960, 3)\n"
     ]
    },
    {
     "name": "stderr",
     "output_type": "stream",
     "text": [
      "\r",
      " 84%|████████▍ | 186/222 [00:05<00:01, 29.95it/s]"
     ]
    },
    {
     "name": "stdout",
     "output_type": "stream",
     "text": [
      "in hough lines call\n",
      "(540, 960)\n",
      "in weighted image call\n",
      "(540, 960, 3)\n",
      "(540, 960, 3)\n"
     ]
    },
    {
     "name": "stderr",
     "output_type": "stream",
     "text": [
      "\r",
      " 86%|████████▌ | 190/222 [00:05<00:01, 29.39it/s]"
     ]
    },
    {
     "name": "stdout",
     "output_type": "stream",
     "text": [
      "in hough lines call\n",
      "(540, 960)\n",
      "in weighted image call\n",
      "(540, 960, 3)\n",
      "(540, 960, 3)\n",
      "in hough lines call\n",
      "(540, 960)\n",
      "in weighted image call\n",
      "(540, 960, 3)\n",
      "(540, 960, 3)\n",
      "in hough lines call\n",
      "(540, 960)\n",
      "in weighted image call\n",
      "(540, 960, 3)\n",
      "(540, 960, 3)\n",
      "in hough lines call\n",
      "(540, 960)\n",
      "in weighted image call\n",
      "(540, 960, 3)\n",
      "(540, 960, 3)\n",
      "in hough lines call\n",
      "(540, 960)\n",
      "in weighted image call\n",
      "(540, 960, 3)\n",
      "(540, 960, 3)\n",
      "in hough lines call\n",
      "(540, 960)\n",
      "in weighted image call\n",
      "(540, 960, 3)\n",
      "(540, 960, 3)\n"
     ]
    },
    {
     "name": "stderr",
     "output_type": "stream",
     "text": [
      " 89%|████████▊ | 197/222 [00:05<00:00, 30.93it/s]"
     ]
    },
    {
     "name": "stdout",
     "output_type": "stream",
     "text": [
      "in hough lines call\n",
      "(540, 960)\n",
      "in weighted image call\n",
      "(540, 960, 3)\n",
      "(540, 960, 3)\n",
      "in hough lines call\n",
      "(540, 960)\n",
      "in weighted image call\n",
      "(540, 960, 3)\n",
      "(540, 960, 3)\n",
      "in hough lines call\n",
      "(540, 960)\n",
      "in weighted image call\n",
      "(540, 960, 3)\n",
      "(540, 960, 3)\n",
      "in hough lines call\n",
      "(540, 960)\n",
      "in weighted image call\n",
      "(540, 960, 3)\n",
      "(540, 960, 3)\n",
      "in hough lines call\n",
      "(540, 960)\n",
      "in weighted image call\n",
      "(540, 960, 3)\n",
      "(540, 960, 3)\n",
      "in hough lines call\n",
      "(540, 960)\n",
      "in weighted image call\n",
      "(540, 960, 3)\n",
      "(540, 960, 3)\n",
      "in hough lines call\n",
      "(540, 960)\n",
      "in weighted image call\n",
      "(540, 960, 3)\n",
      "(540, 960, 3)\n"
     ]
    },
    {
     "name": "stderr",
     "output_type": "stream",
     "text": [
      "\r",
      " 91%|█████████ | 201/222 [00:06<00:00, 30.72it/s]"
     ]
    },
    {
     "name": "stdout",
     "output_type": "stream",
     "text": [
      "in hough lines call\n",
      "(540, 960)\n",
      "in weighted image call\n",
      "(540, 960, 3)\n",
      "(540, 960, 3)\n",
      "in hough lines call\n",
      "(540, 960)\n",
      "in weighted image call\n",
      "(540, 960, 3)\n",
      "(540, 960, 3)\n",
      "in hough lines call\n",
      "(540, 960)\n",
      "in weighted image call\n",
      "(540, 960, 3)\n",
      "(540, 960, 3)\n",
      "in hough lines call\n",
      "(540, 960)\n",
      "in weighted image call\n",
      "(540, 960, 3)\n",
      "(540, 960, 3)\n",
      "in hough lines call\n",
      "(540, 960)\n",
      "in weighted image call\n",
      "(540, 960, 3)\n",
      "(540, 960, 3)\n"
     ]
    },
    {
     "name": "stderr",
     "output_type": "stream",
     "text": [
      "\r",
      " 92%|█████████▏| 205/222 [00:06<00:00, 31.75it/s]"
     ]
    },
    {
     "name": "stdout",
     "output_type": "stream",
     "text": [
      "in hough lines call\n",
      "(540, 960)\n",
      "in weighted image call\n",
      "(540, 960, 3)\n",
      "(540, 960, 3)\n"
     ]
    },
    {
     "name": "stderr",
     "output_type": "stream",
     "text": [
      "\r",
      " 94%|█████████▍| 209/222 [00:06<00:00, 31.16it/s]"
     ]
    },
    {
     "name": "stdout",
     "output_type": "stream",
     "text": [
      "in hough lines call\n",
      "(540, 960)\n",
      "in weighted image call\n",
      "(540, 960, 3)\n",
      "(540, 960, 3)\n",
      "in hough lines call\n",
      "(540, 960)\n",
      "in weighted image call\n",
      "(540, 960, 3)\n",
      "(540, 960, 3)\n",
      "in hough lines call\n",
      "(540, 960)\n",
      "in weighted image call\n",
      "(540, 960, 3)\n",
      "(540, 960, 3)\n",
      "in hough lines call\n",
      "(540, 960)\n",
      "in weighted image call\n",
      "(540, 960, 3)\n",
      "(540, 960, 3)\n",
      "in hough lines call\n",
      "(540, 960)\n",
      "in weighted image call\n",
      "(540, 960, 3)\n",
      "(540, 960, 3)\n",
      "in hough lines call\n",
      "(540, 960)\n",
      "in weighted image call\n",
      "(540, 960, 3)\n",
      "(540, 960, 3)\n",
      "in hough lines call\n",
      "(540, 960)\n",
      "in weighted image call\n",
      "(540, 960, 3)\n",
      "(540, 960, 3)\n"
     ]
    },
    {
     "name": "stderr",
     "output_type": "stream",
     "text": [
      " 98%|█████████▊| 217/222 [00:06<00:00, 31.81it/s]"
     ]
    },
    {
     "name": "stdout",
     "output_type": "stream",
     "text": [
      "in hough lines call\n",
      "(540, 960)\n",
      "in weighted image call\n",
      "(540, 960, 3)\n",
      "(540, 960, 3)\n",
      "in hough lines call\n",
      "(540, 960)\n",
      "in weighted image call\n",
      "(540, 960, 3)\n",
      "(540, 960, 3)\n",
      "in hough lines call\n",
      "(540, 960)\n",
      "in weighted image call\n",
      "(540, 960, 3)\n",
      "(540, 960, 3)\n",
      "in hough lines call\n",
      "(540, 960)\n",
      "in weighted image call\n",
      "(540, 960, 3)\n",
      "(540, 960, 3)\n",
      "in hough lines call\n",
      "(540, 960)\n",
      "in weighted image call\n",
      "(540, 960, 3)\n",
      "(540, 960, 3)\n",
      "in hough lines call\n",
      "(540, 960)\n",
      "in weighted image call\n",
      "(540, 960, 3)\n",
      "(540, 960, 3)\n",
      "in hough lines call\n",
      "(540, 960)\n",
      "in weighted image call\n",
      "(540, 960, 3)\n",
      "(540, 960, 3)\n"
     ]
    },
    {
     "name": "stderr",
     "output_type": "stream",
     "text": [
      "100%|█████████▉| 221/222 [00:06<00:00, 31.96it/s]\n"
     ]
    },
    {
     "name": "stdout",
     "output_type": "stream",
     "text": [
      "in hough lines call\n",
      "(540, 960)\n",
      "in weighted image call\n",
      "(540, 960, 3)\n",
      "(540, 960, 3)\n",
      "in hough lines call\n",
      "(540, 960)\n",
      "in weighted image call\n",
      "(540, 960, 3)\n",
      "(540, 960, 3)\n",
      "[MoviePy] Done.\n",
      "[MoviePy] >>>> Video ready: test_videos/white.mp4 \n",
      "\n",
      "CPU times: user 10.5 s, sys: 360 ms, total: 10.9 s\n",
      "Wall time: 6.96 s\n"
     ]
    }
   ],
   "source": [
    "white_output = 'test_videos/white.mp4'\n",
    "clip1 = VideoFileClip(\"test_videos/solidWhiteRight.mp4\")\n",
    "white_clip = clip1.fl_image(process_image) \n",
    "%time white_clip.write_videofile(white_output, audio=False)"
   ]
  },
  {
   "cell_type": "markdown",
   "metadata": {},
   "source": [
    "Play the video inline, or if you prefer find the video in your filesystem (should be in the same directory) and play it in your video player of choice."
   ]
  },
  {
   "cell_type": "code",
   "execution_count": 12,
   "metadata": {},
   "outputs": [
    {
     "data": {
      "text/html": [
       "\n",
       "<video width=\"960\" height=\"540\" controls>\n",
       "  <source src=\"test_videos/white.mp4\">\n",
       "</video>\n"
      ],
      "text/plain": [
       "<IPython.core.display.HTML object>"
      ]
     },
     "execution_count": 12,
     "metadata": {},
     "output_type": "execute_result"
    }
   ],
   "source": [
    "HTML(\"\"\"\n",
    "<video width=\"960\" height=\"540\" controls>\n",
    "  <source src=\"{0}\">\n",
    "</video>\n",
    "\"\"\".format(white_output))"
   ]
  },
  {
   "cell_type": "markdown",
   "metadata": {},
   "source": [
    "## Improve the draw_lines() function\n",
    "\n",
    "**At this point, if you were successful with making the pipeline and tuning parameters, you probably have the Hough line segments drawn onto the road, but what about identifying the full extent of the lane and marking it clearly as in the example video (P1_example.mp4)?  Think about defining a line to run the full length of the visible lane based on the line segments you identified with the Hough Transform. As mentioned previously, try to average and/or extrapolate the line segments you've detected to map out the full extent of the lane lines. You can see an example of the result you're going for in the video \"P1_example.mp4\".**\n",
    "\n",
    "**Go back and modify your draw_lines function accordingly and try re-running your pipeline. The new output should draw a single, solid line over the left lane line and a single, solid line over the right lane line. The lines should start from the bottom of the image and extend out to the top of the region of interest.**"
   ]
  },
  {
   "cell_type": "markdown",
   "metadata": {},
   "source": [
    "Now for the one with the solid yellow lane on the left. This one's more tricky!"
   ]
  },
  {
   "cell_type": "code",
   "execution_count": 13,
   "metadata": {
    "scrolled": true
   },
   "outputs": [
    {
     "name": "stdout",
     "output_type": "stream",
     "text": [
      "in hough lines call\n",
      "(540, 960)\n",
      "in weighted image call\n",
      "(540, 960, 3)\n",
      "(540, 960, 3)\n",
      "[MoviePy] >>>> Building video test_videos/yellow.mp4\n",
      "[MoviePy] Writing video test_videos/yellow.mp4\n"
     ]
    },
    {
     "name": "stderr",
     "output_type": "stream",
     "text": [
      "  1%|          | 4/682 [00:00<00:20, 33.71it/s]"
     ]
    },
    {
     "name": "stdout",
     "output_type": "stream",
     "text": [
      "in hough lines call\n",
      "(540, 960)\n",
      "in weighted image call\n",
      "(540, 960, 3)\n",
      "(540, 960, 3)\n",
      "in hough lines call\n",
      "(540, 960)\n",
      "in weighted image call\n",
      "(540, 960, 3)\n",
      "(540, 960, 3)\n",
      "in hough lines call\n",
      "(540, 960)\n",
      "in weighted image call\n",
      "(540, 960, 3)\n",
      "(540, 960, 3)\n",
      "in hough lines call\n",
      "(540, 960)\n",
      "in weighted image call\n",
      "(540, 960, 3)\n",
      "(540, 960, 3)\n",
      "in hough lines call\n",
      "(540, 960)\n",
      "in weighted image call\n",
      "(540, 960, 3)\n",
      "(540, 960, 3)\n",
      "in hough lines call\n",
      "(540, 960)\n",
      "in weighted image call\n",
      "(540, 960, 3)\n",
      "(540, 960, 3)\n"
     ]
    },
    {
     "name": "stderr",
     "output_type": "stream",
     "text": [
      "\r",
      "  1%|          | 8/682 [00:00<00:19, 35.15it/s]"
     ]
    },
    {
     "name": "stdout",
     "output_type": "stream",
     "text": [
      "in hough lines call\n",
      "(540, 960)\n",
      "in weighted image call\n",
      "(540, 960, 3)\n",
      "(540, 960, 3)\n",
      "in hough lines call\n",
      "(540, 960)\n",
      "in weighted image call\n",
      "(540, 960, 3)\n",
      "(540, 960, 3)\n"
     ]
    },
    {
     "name": "stderr",
     "output_type": "stream",
     "text": [
      "\r",
      "  2%|▏         | 13/682 [00:00<00:18, 36.70it/s]"
     ]
    },
    {
     "name": "stdout",
     "output_type": "stream",
     "text": [
      "in hough lines call\n",
      "(540, 960)\n",
      "in weighted image call\n",
      "(540, 960, 3)\n",
      "(540, 960, 3)\n",
      "in hough lines call\n",
      "(540, 960)\n",
      "in weighted image call\n",
      "(540, 960, 3)\n",
      "(540, 960, 3)\n",
      "in hough lines call\n",
      "(540, 960)\n",
      "in weighted image call\n",
      "(540, 960, 3)\n",
      "(540, 960, 3)\n",
      "in hough lines call\n",
      "(540, 960)\n",
      "in weighted image call\n",
      "(540, 960, 3)\n",
      "(540, 960, 3)\n",
      "in hough lines call\n",
      "(540, 960)\n",
      "in weighted image call\n",
      "(540, 960, 3)\n",
      "(540, 960, 3)\n",
      "in hough lines call\n",
      "(540, 960)\n",
      "in weighted image call\n",
      "(540, 960, 3)\n",
      "(540, 960, 3)\n",
      "in hough lines call\n",
      "(540, 960)\n",
      "in weighted image call\n",
      "(540, 960, 3)\n",
      "(540, 960, 3)\n",
      "in hough lines call\n",
      "(540, 960)\n",
      "in weighted image call\n",
      "(540, 960, 3)\n",
      "(540, 960, 3)\n",
      "in hough lines call\n",
      "(540, 960)\n",
      "in weighted image call\n",
      "(540, 960, 3)\n",
      "(540, 960, 3)\n"
     ]
    },
    {
     "name": "stderr",
     "output_type": "stream",
     "text": [
      "  3%|▎         | 23/682 [00:00<00:16, 40.11it/s]"
     ]
    },
    {
     "name": "stdout",
     "output_type": "stream",
     "text": [
      "in hough lines call\n",
      "(540, 960)\n",
      "in weighted image call\n",
      "(540, 960, 3)\n",
      "(540, 960, 3)\n",
      "in hough lines call\n",
      "(540, 960)\n",
      "in weighted image call\n",
      "(540, 960, 3)\n",
      "(540, 960, 3)\n",
      "in hough lines call\n",
      "(540, 960)\n",
      "in weighted image call\n",
      "(540, 960, 3)\n",
      "(540, 960, 3)\n",
      "in hough lines call\n",
      "(540, 960)\n",
      "in weighted image call\n",
      "(540, 960, 3)\n",
      "(540, 960, 3)\n",
      "in hough lines call\n",
      "(540, 960)\n",
      "in weighted image call\n",
      "(540, 960, 3)\n",
      "(540, 960, 3)\n",
      "in hough lines call\n",
      "(540, 960)\n",
      "in weighted image call\n",
      "(540, 960, 3)\n",
      "(540, 960, 3)\n",
      "in hough lines call\n",
      "(540, 960)\n",
      "in weighted image call\n",
      "(540, 960, 3)\n",
      "(540, 960, 3)\n",
      "in hough lines call\n",
      "(540, 960)\n",
      "in weighted image call\n",
      "(540, 960, 3)\n",
      "(540, 960, 3)\n",
      "in hough lines call\n",
      "(540, 960)\n",
      "in weighted image call\n",
      "(540, 960, 3)\n",
      "(540, 960, 3)\n"
     ]
    },
    {
     "name": "stderr",
     "output_type": "stream",
     "text": [
      "  5%|▍         | 33/682 [00:00<00:15, 41.85it/s]"
     ]
    },
    {
     "name": "stdout",
     "output_type": "stream",
     "text": [
      "in hough lines call\n",
      "(540, 960)\n",
      "in weighted image call\n",
      "(540, 960, 3)\n",
      "(540, 960, 3)\n",
      "in hough lines call\n",
      "(540, 960)\n",
      "in weighted image call\n",
      "(540, 960, 3)\n",
      "(540, 960, 3)\n",
      "in hough lines call\n",
      "(540, 960)\n",
      "in weighted image call\n",
      "(540, 960, 3)\n",
      "(540, 960, 3)\n",
      "in hough lines call\n",
      "(540, 960)\n",
      "in weighted image call\n",
      "(540, 960, 3)\n",
      "(540, 960, 3)\n",
      "in hough lines call\n",
      "(540, 960)\n",
      "in weighted image call\n",
      "(540, 960, 3)\n",
      "(540, 960, 3)\n",
      "in hough lines call\n",
      "(540, 960)\n",
      "in weighted image call\n",
      "(540, 960, 3)\n",
      "(540, 960, 3)\n",
      "in hough lines call\n",
      "(540, 960)\n",
      "in weighted image call\n",
      "(540, 960, 3)\n",
      "(540, 960, 3)\n",
      "in hough lines call\n",
      "(540, 960)\n",
      "in weighted image call\n",
      "(540, 960, 3)\n",
      "(540, 960, 3)\n",
      "in hough lines call\n",
      "(540, 960)\n",
      "in weighted image call\n",
      "(540, 960, 3)\n",
      "(540, 960, 3)\n"
     ]
    },
    {
     "name": "stderr",
     "output_type": "stream",
     "text": [
      "  6%|▌         | 42/682 [00:01<00:15, 41.36it/s]"
     ]
    },
    {
     "name": "stdout",
     "output_type": "stream",
     "text": [
      "in hough lines call\n",
      "(540, 960)\n",
      "in weighted image call\n",
      "(540, 960, 3)\n",
      "(540, 960, 3)\n",
      "in hough lines call\n",
      "(540, 960)\n",
      "in weighted image call\n",
      "(540, 960, 3)\n",
      "(540, 960, 3)\n",
      "in hough lines call\n",
      "(540, 960)\n",
      "in weighted image call\n",
      "(540, 960, 3)\n",
      "(540, 960, 3)\n",
      "in hough lines call\n",
      "(540, 960)\n",
      "in weighted image call\n",
      "(540, 960, 3)\n",
      "(540, 960, 3)\n",
      "in hough lines call\n",
      "(540, 960)\n",
      "in weighted image call\n",
      "(540, 960, 3)\n",
      "(540, 960, 3)\n",
      "in hough lines call\n",
      "(540, 960)\n",
      "in weighted image call\n",
      "(540, 960, 3)\n",
      "(540, 960, 3)\n",
      "in hough lines call\n",
      "(540, 960)\n",
      "in weighted image call\n",
      "(540, 960, 3)\n",
      "(540, 960, 3)\n",
      "in hough lines call\n",
      "(540, 960)\n",
      "in weighted image call\n",
      "(540, 960, 3)\n",
      "(540, 960, 3)\n"
     ]
    },
    {
     "name": "stderr",
     "output_type": "stream",
     "text": [
      "\r",
      "  7%|▋         | 47/682 [00:01<00:16, 39.31it/s]"
     ]
    },
    {
     "name": "stdout",
     "output_type": "stream",
     "text": [
      "in hough lines call\n",
      "(540, 960)\n",
      "in weighted image call\n",
      "(540, 960, 3)\n",
      "(540, 960, 3)\n",
      "in hough lines call\n",
      "(540, 960)\n",
      "in weighted image call\n",
      "(540, 960, 3)\n",
      "(540, 960, 3)\n",
      "in hough lines call\n",
      "(540, 960)\n",
      "in weighted image call\n",
      "(540, 960, 3)\n",
      "(540, 960, 3)\n",
      "in hough lines call\n",
      "(540, 960)\n",
      "in weighted image call\n",
      "(540, 960, 3)\n",
      "(540, 960, 3)\n",
      "in hough lines call\n",
      "(540, 960)\n",
      "in weighted image call\n",
      "(540, 960, 3)\n",
      "(540, 960, 3)\n",
      "in hough lines call\n",
      "(540, 960)\n",
      "in weighted image call\n",
      "(540, 960, 3)\n",
      "(540, 960, 3)\n",
      "in hough lines call\n",
      "(540, 960)\n",
      "in weighted image call\n",
      "(540, 960, 3)\n",
      "(540, 960, 3)\n"
     ]
    },
    {
     "name": "stderr",
     "output_type": "stream",
     "text": [
      "  8%|▊         | 55/682 [00:01<00:18, 34.54it/s]"
     ]
    },
    {
     "name": "stdout",
     "output_type": "stream",
     "text": [
      "in hough lines call\n",
      "(540, 960)\n",
      "in weighted image call\n",
      "(540, 960, 3)\n",
      "(540, 960, 3)\n",
      "in hough lines call\n",
      "(540, 960)\n",
      "in weighted image call\n",
      "(540, 960, 3)\n",
      "(540, 960, 3)\n",
      "in hough lines call\n",
      "(540, 960)\n",
      "in weighted image call\n",
      "(540, 960, 3)\n",
      "(540, 960, 3)\n",
      "in hough lines call\n",
      "(540, 960)\n",
      "in weighted image call\n",
      "(540, 960, 3)\n",
      "(540, 960, 3)\n",
      "in hough lines call\n",
      "(540, 960)\n",
      "in weighted image call\n",
      "(540, 960, 3)\n",
      "(540, 960, 3)\n",
      "in hough lines call\n",
      "(540, 960)\n",
      "in weighted image call\n",
      "(540, 960, 3)\n",
      "(540, 960, 3)\n",
      "in hough lines call\n",
      "(540, 960)\n",
      "in weighted image call\n",
      "(540, 960, 3)\n",
      "(540, 960, 3)\n"
     ]
    },
    {
     "name": "stderr",
     "output_type": "stream",
     "text": [
      "  9%|▉         | 63/682 [00:01<00:17, 35.25it/s]"
     ]
    },
    {
     "name": "stdout",
     "output_type": "stream",
     "text": [
      "in hough lines call\n",
      "(540, 960)\n",
      "in weighted image call\n",
      "(540, 960, 3)\n",
      "(540, 960, 3)\n",
      "in hough lines call\n",
      "(540, 960)\n",
      "in weighted image call\n",
      "(540, 960, 3)\n",
      "(540, 960, 3)\n",
      "in hough lines call\n",
      "(540, 960)\n",
      "in weighted image call\n",
      "(540, 960, 3)\n",
      "(540, 960, 3)\n",
      "in hough lines call\n",
      "(540, 960)\n",
      "in weighted image call\n",
      "(540, 960, 3)\n",
      "(540, 960, 3)\n",
      "in hough lines call\n",
      "(540, 960)\n",
      "in weighted image call\n",
      "(540, 960, 3)\n",
      "(540, 960, 3)\n",
      "in hough lines call\n",
      "(540, 960)\n",
      "in weighted image call\n",
      "(540, 960, 3)\n",
      "(540, 960, 3)\n",
      "in hough lines call\n",
      "(540, 960)\n",
      "in weighted image call\n",
      "(540, 960, 3)\n",
      "(540, 960, 3)\n",
      "in hough lines call\n",
      "(540, 960)\n"
     ]
    },
    {
     "name": "stderr",
     "output_type": "stream",
     "text": [
      "\r",
      " 10%|▉         | 67/682 [00:01<00:17, 34.24it/s]"
     ]
    },
    {
     "name": "stdout",
     "output_type": "stream",
     "text": [
      "in weighted image call\n",
      "(540, 960, 3)\n",
      "(540, 960, 3)\n",
      "in hough lines call\n",
      "(540, 960)\n",
      "in weighted image call\n",
      "(540, 960, 3)\n",
      "(540, 960, 3)\n",
      "in hough lines call\n",
      "(540, 960)\n",
      "in weighted image call\n",
      "(540, 960, 3)\n",
      "(540, 960, 3)\n",
      "in hough lines call\n",
      "(540, 960)\n",
      "in weighted image call\n",
      "(540, 960, 3)\n",
      "(540, 960, 3)\n",
      "in hough lines call\n",
      "(540, 960)\n",
      "in weighted image call\n",
      "(540, 960, 3)\n",
      "(540, 960, 3)\n",
      "in hough lines call\n",
      "(540, 960)\n",
      "in weighted image call\n",
      "(540, 960, 3)\n",
      "(540, 960, 3)\n"
     ]
    },
    {
     "name": "stderr",
     "output_type": "stream",
     "text": [
      "\r",
      " 10%|█         | 71/682 [00:01<00:17, 34.26it/s]"
     ]
    },
    {
     "name": "stdout",
     "output_type": "stream",
     "text": [
      "in hough lines call\n",
      "(540, 960)\n",
      "in weighted image call\n",
      "(540, 960, 3)\n",
      "(540, 960, 3)\n"
     ]
    },
    {
     "name": "stderr",
     "output_type": "stream",
     "text": [
      "\r",
      " 11%|█         | 75/682 [00:01<00:17, 35.35it/s]"
     ]
    },
    {
     "name": "stdout",
     "output_type": "stream",
     "text": [
      "in hough lines call\n",
      "(540, 960)\n",
      "in weighted image call\n",
      "(540, 960, 3)\n",
      "(540, 960, 3)\n",
      "in hough lines call\n",
      "(540, 960)\n",
      "in weighted image call\n",
      "(540, 960, 3)\n",
      "(540, 960, 3)\n",
      "in hough lines call\n",
      "(540, 960)\n",
      "in weighted image call\n",
      "(540, 960, 3)\n",
      "(540, 960, 3)\n",
      "in hough lines call\n",
      "(540, 960)\n",
      "in weighted image call\n",
      "(540, 960, 3)\n",
      "(540, 960, 3)\n",
      "in hough lines call\n",
      "(540, 960)\n",
      "in weighted image call\n",
      "(540, 960, 3)\n",
      "(540, 960, 3)\n",
      "in hough lines call\n",
      "(540, 960)\n",
      "in weighted image call\n",
      "(540, 960, 3)\n",
      "(540, 960, 3)\n",
      "in hough lines call\n",
      "(540, 960)\n"
     ]
    },
    {
     "name": "stderr",
     "output_type": "stream",
     "text": [
      "\r",
      " 12%|█▏        | 79/682 [00:02<00:17, 34.43it/s]"
     ]
    },
    {
     "name": "stdout",
     "output_type": "stream",
     "text": [
      "in weighted image call\n",
      "(540, 960, 3)\n",
      "(540, 960, 3)\n",
      "in hough lines call\n",
      "(540, 960)\n",
      "in weighted image call\n",
      "(540, 960, 3)\n",
      "(540, 960, 3)\n"
     ]
    },
    {
     "name": "stderr",
     "output_type": "stream",
     "text": [
      "\r",
      " 12%|█▏        | 83/682 [00:02<00:17, 34.80it/s]"
     ]
    },
    {
     "name": "stdout",
     "output_type": "stream",
     "text": [
      "in hough lines call\n",
      "(540, 960)\n",
      "in weighted image call\n",
      "(540, 960, 3)\n",
      "(540, 960, 3)\n",
      "in hough lines call\n",
      "(540, 960)\n",
      "in weighted image call\n",
      "(540, 960, 3)\n",
      "(540, 960, 3)\n",
      "in hough lines call\n",
      "(540, 960)\n",
      "in weighted image call\n",
      "(540, 960, 3)\n",
      "(540, 960, 3)\n",
      "in hough lines call\n",
      "(540, 960)\n",
      "in weighted image call\n",
      "(540, 960, 3)\n",
      "(540, 960, 3)\n",
      "in hough lines call\n",
      "(540, 960)\n",
      "in weighted image call\n",
      "(540, 960, 3)\n",
      "(540, 960, 3)\n",
      "in hough lines call\n",
      "(540, 960)\n"
     ]
    },
    {
     "name": "stderr",
     "output_type": "stream",
     "text": [
      "\r",
      " 13%|█▎        | 87/682 [00:02<00:16, 35.44it/s]"
     ]
    },
    {
     "name": "stdout",
     "output_type": "stream",
     "text": [
      "in weighted image call\n",
      "(540, 960, 3)\n",
      "(540, 960, 3)\n",
      "in hough lines call\n",
      "(540, 960)\n",
      "in weighted image call\n",
      "(540, 960, 3)\n",
      "(540, 960, 3)\n",
      "in hough lines call\n",
      "(540, 960)\n",
      "in weighted image call\n",
      "(540, 960, 3)\n",
      "(540, 960, 3)\n"
     ]
    },
    {
     "name": "stderr",
     "output_type": "stream",
     "text": [
      "\r",
      " 13%|█▎        | 91/682 [00:02<00:16, 35.25it/s]"
     ]
    },
    {
     "name": "stdout",
     "output_type": "stream",
     "text": [
      "in hough lines call\n",
      "(540, 960)\n",
      "in weighted image call\n",
      "(540, 960, 3)\n",
      "(540, 960, 3)\n",
      "in hough lines call\n",
      "(540, 960)\n",
      "in weighted image call\n",
      "(540, 960, 3)\n",
      "(540, 960, 3)\n",
      "in hough lines call\n",
      "(540, 960)\n",
      "in weighted image call\n",
      "(540, 960, 3)\n",
      "(540, 960, 3)\n",
      "in hough lines call\n",
      "(540, 960)\n",
      "in weighted image call\n",
      "(540, 960, 3)\n",
      "(540, 960, 3)\n",
      "in hough lines call\n",
      "(540, 960)\n",
      "in weighted image call\n",
      "(540, 960, 3)\n",
      "(540, 960, 3)\n",
      "in hough lines call\n",
      "(540, 960)\n",
      "in weighted image call\n",
      "(540, 960, 3)\n",
      "(540, 960, 3)\n",
      "in hough lines call\n",
      "(540, 960)\n",
      "in weighted image call\n",
      "(540, 960, 3)\n",
      "(540, 960, 3)\n"
     ]
    },
    {
     "name": "stderr",
     "output_type": "stream",
     "text": [
      "\r",
      " 14%|█▍        | 95/682 [00:02<00:17, 34.30it/s]"
     ]
    },
    {
     "name": "stdout",
     "output_type": "stream",
     "text": [
      "in hough lines call\n",
      "(540, 960)\n",
      "in weighted image call\n",
      "(540, 960, 3)\n",
      "(540, 960, 3)\n",
      "in hough lines call\n",
      "(540, 960)\n",
      "in weighted image call\n",
      "(540, 960, 3)\n",
      "(540, 960, 3)\n",
      "in hough lines call\n",
      "(540, 960)\n",
      "in weighted image call\n",
      "(540, 960, 3)\n",
      "(540, 960, 3)\n",
      "in hough lines call\n",
      "(540, 960)\n",
      "in weighted image call\n",
      "(540, 960, 3)\n",
      "(540, 960, 3)\n"
     ]
    },
    {
     "name": "stderr",
     "output_type": "stream",
     "text": [
      "\r",
      " 15%|█▍        | 99/682 [00:02<00:17, 33.40it/s]"
     ]
    },
    {
     "name": "stdout",
     "output_type": "stream",
     "text": [
      "in hough lines call\n",
      "(540, 960)\n",
      "in weighted image call\n",
      "(540, 960, 3)\n",
      "(540, 960, 3)\n",
      "in hough lines call\n",
      "(540, 960)\n",
      "in weighted image call\n",
      "(540, 960, 3)\n",
      "(540, 960, 3)\n",
      "in hough lines call\n",
      "(540, 960)\n"
     ]
    },
    {
     "name": "stderr",
     "output_type": "stream",
     "text": [
      "\r",
      " 15%|█▌        | 103/682 [00:02<00:17, 32.85it/s]"
     ]
    },
    {
     "name": "stdout",
     "output_type": "stream",
     "text": [
      "in weighted image call\n",
      "(540, 960, 3)\n",
      "(540, 960, 3)\n",
      "in hough lines call\n",
      "(540, 960)\n",
      "in weighted image call\n",
      "(540, 960, 3)\n",
      "(540, 960, 3)\n",
      "in hough lines call\n",
      "(540, 960)\n",
      "in weighted image call\n",
      "(540, 960, 3)\n",
      "(540, 960, 3)\n",
      "in hough lines call\n",
      "(540, 960)\n",
      "in weighted image call\n",
      "(540, 960, 3)\n",
      "(540, 960, 3)\n",
      "in hough lines call\n",
      "(540, 960)\n",
      "in weighted image call\n",
      "(540, 960, 3)\n",
      "(540, 960, 3)\n"
     ]
    },
    {
     "name": "stderr",
     "output_type": "stream",
     "text": [
      "\r",
      " 16%|█▌        | 107/682 [00:02<00:17, 32.91it/s]"
     ]
    },
    {
     "name": "stdout",
     "output_type": "stream",
     "text": [
      "in hough lines call\n",
      "(540, 960)\n",
      "in weighted image call\n",
      "(540, 960, 3)\n",
      "(540, 960, 3)\n",
      "in hough lines call\n",
      "(540, 960)\n",
      "in weighted image call\n",
      "(540, 960, 3)\n",
      "(540, 960, 3)\n"
     ]
    },
    {
     "name": "stderr",
     "output_type": "stream",
     "text": [
      "\r",
      " 16%|█▋        | 111/682 [00:03<00:17, 33.25it/s]"
     ]
    },
    {
     "name": "stdout",
     "output_type": "stream",
     "text": [
      "in hough lines call\n",
      "(540, 960)\n",
      "in weighted image call\n",
      "(540, 960, 3)\n",
      "(540, 960, 3)\n",
      "in hough lines call\n",
      "(540, 960)\n",
      "in weighted image call\n",
      "(540, 960, 3)\n",
      "(540, 960, 3)\n",
      "in hough lines call\n",
      "(540, 960)\n",
      "in weighted image call\n",
      "(540, 960, 3)\n",
      "(540, 960, 3)\n",
      "in hough lines call\n",
      "(540, 960)\n",
      "in weighted image call\n",
      "(540, 960, 3)\n",
      "(540, 960, 3)\n",
      "in hough lines call\n",
      "(540, 960)\n",
      "in weighted image call\n",
      "(540, 960, 3)\n",
      "(540, 960, 3)\n",
      "in hough lines call\n",
      "(540, 960)\n",
      "in weighted image call\n",
      "(540, 960, 3)\n",
      "(540, 960, 3)\n",
      "in hough lines call\n",
      "(540, 960)\n",
      "in weighted image call\n",
      "(540, 960, 3)\n",
      "(540, 960, 3)\n",
      "in hough lines call\n",
      "(540, 960)\n"
     ]
    },
    {
     "name": "stderr",
     "output_type": "stream",
     "text": [
      " 17%|█▋        | 119/682 [00:03<00:16, 34.04it/s]"
     ]
    },
    {
     "name": "stdout",
     "output_type": "stream",
     "text": [
      "in weighted image call\n",
      "(540, 960, 3)\n",
      "(540, 960, 3)\n",
      "in hough lines call\n",
      "(540, 960)\n",
      "in weighted image call\n",
      "(540, 960, 3)\n",
      "(540, 960, 3)\n",
      "in hough lines call\n",
      "(540, 960)\n",
      "in weighted image call\n",
      "(540, 960, 3)\n",
      "(540, 960, 3)\n",
      "in hough lines call\n",
      "(540, 960)\n",
      "in weighted image call\n",
      "(540, 960, 3)\n",
      "(540, 960, 3)\n",
      "in hough lines call\n",
      "(540, 960)\n",
      "in weighted image call\n",
      "(540, 960, 3)\n",
      "(540, 960, 3)\n",
      "in hough lines call\n",
      "(540, 960)\n",
      "in weighted image call\n",
      "(540, 960, 3)\n",
      "(540, 960, 3)\n",
      "in hough lines call\n",
      "(540, 960)\n",
      "in weighted image call\n",
      "(540, 960, 3)\n",
      "(540, 960, 3)\n"
     ]
    },
    {
     "name": "stderr",
     "output_type": "stream",
     "text": [
      "\r",
      " 18%|█▊        | 123/682 [00:03<00:16, 33.14it/s]"
     ]
    },
    {
     "name": "stdout",
     "output_type": "stream",
     "text": [
      "in hough lines call\n",
      "(540, 960)\n",
      "in weighted image call\n",
      "(540, 960, 3)\n",
      "(540, 960, 3)\n",
      "in hough lines call\n",
      "(540, 960)\n",
      "in weighted image call\n",
      "(540, 960, 3)\n",
      "(540, 960, 3)\n",
      "in hough lines call\n",
      "(540, 960)\n",
      "in weighted image call\n",
      "(540, 960, 3)\n",
      "(540, 960, 3)\n",
      "in hough lines call\n",
      "(540, 960)\n",
      "in weighted image call\n",
      "(540, 960, 3)\n",
      "(540, 960, 3)\n",
      "in hough lines call\n",
      "(540, 960)\n",
      "in weighted image call\n",
      "(540, 960, 3)\n",
      "(540, 960, 3)\n"
     ]
    },
    {
     "name": "stderr",
     "output_type": "stream",
     "text": [
      "\r",
      " 19%|█▊        | 127/682 [00:03<00:16, 33.68it/s]"
     ]
    },
    {
     "name": "stdout",
     "output_type": "stream",
     "text": [
      "in hough lines call\n",
      "(540, 960)\n",
      "in weighted image call\n",
      "(540, 960, 3)\n",
      "(540, 960, 3)\n",
      "in hough lines call\n",
      "(540, 960)\n",
      "in weighted image call\n",
      "(540, 960, 3)\n",
      "(540, 960, 3)\n"
     ]
    },
    {
     "name": "stderr",
     "output_type": "stream",
     "text": [
      "\r",
      " 19%|█▉        | 131/682 [00:03<00:16, 33.46it/s]"
     ]
    },
    {
     "name": "stdout",
     "output_type": "stream",
     "text": [
      "in hough lines call\n",
      "(540, 960)\n",
      "in weighted image call\n",
      "(540, 960, 3)\n",
      "(540, 960, 3)\n",
      "in hough lines call\n",
      "(540, 960)\n",
      "in weighted image call\n",
      "(540, 960, 3)\n",
      "(540, 960, 3)\n",
      "in hough lines call\n",
      "(540, 960)\n",
      "in weighted image call\n",
      "(540, 960, 3)\n",
      "(540, 960, 3)\n",
      "in hough lines call\n",
      "(540, 960)\n",
      "in weighted image call\n",
      "(540, 960, 3)\n",
      "(540, 960, 3)\n",
      "in hough lines call\n",
      "(540, 960)\n",
      "in weighted image call\n",
      "(540, 960, 3)\n",
      "(540, 960, 3)\n"
     ]
    },
    {
     "name": "stderr",
     "output_type": "stream",
     "text": [
      "\r",
      " 20%|█▉        | 135/682 [00:03<00:16, 33.55it/s]"
     ]
    },
    {
     "name": "stdout",
     "output_type": "stream",
     "text": [
      "in hough lines call\n",
      "(540, 960)\n",
      "in weighted image call\n",
      "(540, 960, 3)\n",
      "(540, 960, 3)\n",
      "in hough lines call\n",
      "(540, 960)\n",
      "in weighted image call\n",
      "(540, 960, 3)\n",
      "(540, 960, 3)\n"
     ]
    },
    {
     "name": "stderr",
     "output_type": "stream",
     "text": [
      "\r",
      " 20%|██        | 139/682 [00:03<00:16, 32.19it/s]"
     ]
    },
    {
     "name": "stdout",
     "output_type": "stream",
     "text": [
      "in hough lines call\n",
      "(540, 960)\n",
      "in weighted image call\n",
      "(540, 960, 3)\n",
      "(540, 960, 3)\n",
      "in hough lines call\n",
      "(540, 960)\n",
      "in weighted image call\n",
      "(540, 960, 3)\n",
      "(540, 960, 3)\n",
      "in hough lines call\n",
      "(540, 960)\n",
      "in weighted image call\n",
      "(540, 960, 3)\n",
      "(540, 960, 3)\n",
      "in hough lines call\n",
      "(540, 960)\n",
      "in weighted image call\n",
      "(540, 960, 3)\n",
      "(540, 960, 3)\n",
      "in hough lines call\n",
      "(540, 960)\n",
      "in weighted image call\n",
      "(540, 960, 3)\n",
      "(540, 960, 3)\n",
      "in hough lines call\n",
      "(540, 960)\n",
      "in weighted image call\n",
      "(540, 960, 3)\n",
      "(540, 960, 3)\n",
      "in hough lines call\n",
      "(540, 960)\n",
      "in weighted image call\n",
      "(540, 960, 3)\n",
      "(540, 960, 3)\n"
     ]
    },
    {
     "name": "stderr",
     "output_type": "stream",
     "text": [
      " 22%|██▏       | 147/682 [00:04<00:16, 33.43it/s]"
     ]
    },
    {
     "name": "stdout",
     "output_type": "stream",
     "text": [
      "in hough lines call\n",
      "(540, 960)\n",
      "in weighted image call\n",
      "(540, 960, 3)\n",
      "(540, 960, 3)\n",
      "in hough lines call\n",
      "(540, 960)\n",
      "in weighted image call\n",
      "(540, 960, 3)\n",
      "(540, 960, 3)\n",
      "in hough lines call\n",
      "(540, 960)\n",
      "in weighted image call\n",
      "(540, 960, 3)\n",
      "(540, 960, 3)\n",
      "in hough lines call\n",
      "(540, 960)\n",
      "in weighted image call\n",
      "(540, 960, 3)\n",
      "(540, 960, 3)\n",
      "in hough lines call\n",
      "(540, 960)\n",
      "in weighted image call\n",
      "(540, 960, 3)\n",
      "(540, 960, 3)\n",
      "in hough lines call\n",
      "(540, 960)\n",
      "in weighted image call\n",
      "(540, 960, 3)\n",
      "(540, 960, 3)\n",
      "in hough lines call\n",
      "(540, 960)\n",
      "in weighted image call\n",
      "(540, 960, 3)\n",
      "(540, 960, 3)\n",
      "in hough lines call\n",
      "(540, 960)\n"
     ]
    },
    {
     "name": "stderr",
     "output_type": "stream",
     "text": [
      "\r",
      " 22%|██▏       | 151/682 [00:04<00:15, 33.48it/s]"
     ]
    },
    {
     "name": "stdout",
     "output_type": "stream",
     "text": [
      "in weighted image call\n",
      "(540, 960, 3)\n",
      "(540, 960, 3)\n",
      "in hough lines call\n",
      "(540, 960)\n",
      "in weighted image call\n",
      "(540, 960, 3)\n",
      "(540, 960, 3)\n",
      "in hough lines call\n",
      "(540, 960)\n",
      "in weighted image call\n",
      "(540, 960, 3)\n",
      "(540, 960, 3)\n",
      "in hough lines call\n",
      "(540, 960)\n",
      "in weighted image call\n",
      "(540, 960, 3)\n",
      "(540, 960, 3)\n",
      "in hough lines call\n",
      "(540, 960)\n",
      "in weighted image call\n",
      "(540, 960, 3)\n",
      "(540, 960, 3)\n",
      "in hough lines call\n",
      "(540, 960)\n"
     ]
    },
    {
     "name": "stderr",
     "output_type": "stream",
     "text": [
      "\r",
      " 23%|██▎       | 155/682 [00:04<00:15, 34.21it/s]"
     ]
    },
    {
     "name": "stdout",
     "output_type": "stream",
     "text": [
      "in weighted image call\n",
      "(540, 960, 3)\n",
      "(540, 960, 3)\n",
      "in hough lines call\n",
      "(540, 960)\n",
      "in weighted image call\n",
      "(540, 960, 3)\n",
      "(540, 960, 3)\n"
     ]
    },
    {
     "name": "stderr",
     "output_type": "stream",
     "text": [
      "\r",
      " 23%|██▎       | 159/682 [00:04<00:15, 33.52it/s]"
     ]
    },
    {
     "name": "stdout",
     "output_type": "stream",
     "text": [
      "in hough lines call\n",
      "(540, 960)\n",
      "in weighted image call\n",
      "(540, 960, 3)\n",
      "(540, 960, 3)\n",
      "in hough lines call\n",
      "(540, 960)\n",
      "in weighted image call\n",
      "(540, 960, 3)\n",
      "(540, 960, 3)\n",
      "in hough lines call\n",
      "(540, 960)\n",
      "in weighted image call\n",
      "(540, 960, 3)\n",
      "(540, 960, 3)\n",
      "in hough lines call\n",
      "(540, 960)\n",
      "in weighted image call\n",
      "(540, 960, 3)\n",
      "(540, 960, 3)\n",
      "in hough lines call\n",
      "(540, 960)\n",
      "in weighted image call\n",
      "(540, 960, 3)\n",
      "(540, 960, 3)\n",
      "in hough lines call\n",
      "(540, 960)\n"
     ]
    },
    {
     "name": "stderr",
     "output_type": "stream",
     "text": [
      "\r",
      " 24%|██▍       | 163/682 [00:04<00:15, 34.14it/s]"
     ]
    },
    {
     "name": "stdout",
     "output_type": "stream",
     "text": [
      "in weighted image call\n",
      "(540, 960, 3)\n",
      "(540, 960, 3)\n",
      "in hough lines call\n",
      "(540, 960)\n",
      "in weighted image call\n",
      "(540, 960, 3)\n",
      "(540, 960, 3)\n"
     ]
    },
    {
     "name": "stderr",
     "output_type": "stream",
     "text": [
      "\r",
      " 24%|██▍       | 167/682 [00:04<00:15, 34.06it/s]"
     ]
    },
    {
     "name": "stdout",
     "output_type": "stream",
     "text": [
      "in hough lines call\n",
      "(540, 960)\n",
      "in weighted image call\n",
      "(540, 960, 3)\n",
      "(540, 960, 3)\n",
      "in hough lines call\n",
      "(540, 960)\n",
      "in weighted image call\n",
      "(540, 960, 3)\n",
      "(540, 960, 3)\n",
      "in hough lines call\n",
      "(540, 960)\n",
      "in weighted image call\n",
      "(540, 960, 3)\n",
      "(540, 960, 3)\n",
      "in hough lines call\n",
      "(540, 960)\n",
      "in weighted image call\n",
      "(540, 960, 3)\n",
      "(540, 960, 3)\n",
      "in hough lines call\n",
      "(540, 960)\n",
      "in weighted image call\n",
      "(540, 960, 3)\n",
      "(540, 960, 3)\n",
      "in hough lines call\n",
      "(540, 960)\n",
      "in weighted image call\n",
      "(540, 960, 3)\n",
      "(540, 960, 3)\n",
      "in hough lines call\n",
      "(540, 960)\n",
      "in weighted image call\n",
      "(540, 960, 3)\n",
      "(540, 960, 3)\n"
     ]
    },
    {
     "name": "stderr",
     "output_type": "stream",
     "text": [
      " 26%|██▌       | 175/682 [00:04<00:14, 33.82it/s]"
     ]
    },
    {
     "name": "stdout",
     "output_type": "stream",
     "text": [
      "in hough lines call\n",
      "(540, 960)\n",
      "in weighted image call\n",
      "(540, 960, 3)\n",
      "(540, 960, 3)\n",
      "in hough lines call\n",
      "(540, 960)\n",
      "in weighted image call\n",
      "(540, 960, 3)\n",
      "(540, 960, 3)\n",
      "in hough lines call\n",
      "(540, 960)\n",
      "in weighted image call\n",
      "(540, 960, 3)\n",
      "(540, 960, 3)\n",
      "in hough lines call\n",
      "(540, 960)\n",
      "in weighted image call\n",
      "(540, 960, 3)\n",
      "(540, 960, 3)\n",
      "in hough lines call\n",
      "(540, 960)\n",
      "in weighted image call\n",
      "(540, 960, 3)\n",
      "(540, 960, 3)\n",
      "in hough lines call\n",
      "(540, 960)\n",
      "in weighted image call\n",
      "(540, 960, 3)\n",
      "(540, 960, 3)\n",
      "in hough lines call\n",
      "(540, 960)\n",
      "in weighted image call\n",
      "(540, 960, 3)\n",
      "(540, 960, 3)\n"
     ]
    },
    {
     "name": "stderr",
     "output_type": "stream",
     "text": [
      "\r",
      " 26%|██▌       | 179/682 [00:05<00:15, 33.12it/s]"
     ]
    },
    {
     "name": "stdout",
     "output_type": "stream",
     "text": [
      "in hough lines call\n",
      "(540, 960)\n",
      "in weighted image call\n",
      "(540, 960, 3)\n",
      "(540, 960, 3)\n",
      "in hough lines call\n",
      "(540, 960)\n",
      "in weighted image call\n",
      "(540, 960, 3)\n",
      "(540, 960, 3)\n",
      "in hough lines call\n",
      "(540, 960)\n",
      "in weighted image call\n",
      "(540, 960, 3)\n",
      "(540, 960, 3)\n",
      "in hough lines call\n",
      "(540, 960)\n",
      "in weighted image call\n",
      "(540, 960, 3)\n",
      "(540, 960, 3)\n",
      "in hough lines call\n",
      "(540, 960)\n",
      "in weighted image call\n",
      "(540, 960, 3)\n",
      "(540, 960, 3)\n"
     ]
    },
    {
     "name": "stderr",
     "output_type": "stream",
     "text": [
      "\r",
      " 27%|██▋       | 183/682 [00:05<00:14, 33.68it/s]"
     ]
    },
    {
     "name": "stdout",
     "output_type": "stream",
     "text": [
      "in hough lines call\n",
      "(540, 960)\n",
      "in weighted image call\n",
      "(540, 960, 3)\n",
      "(540, 960, 3)\n",
      "in hough lines call\n",
      "(540, 960)\n",
      "in weighted image call\n",
      "(540, 960, 3)\n",
      "(540, 960, 3)\n"
     ]
    },
    {
     "name": "stderr",
     "output_type": "stream",
     "text": [
      "\r",
      " 27%|██▋       | 187/682 [00:05<00:15, 32.24it/s]"
     ]
    },
    {
     "name": "stdout",
     "output_type": "stream",
     "text": [
      "in hough lines call\n",
      "(540, 960)\n",
      "in weighted image call\n",
      "(540, 960, 3)\n",
      "(540, 960, 3)\n",
      "in hough lines call\n",
      "(540, 960)\n",
      "in weighted image call\n",
      "(540, 960, 3)\n",
      "(540, 960, 3)\n",
      "in hough lines call\n",
      "(540, 960)\n",
      "in weighted image call\n",
      "(540, 960, 3)\n",
      "(540, 960, 3)\n",
      "in hough lines call\n",
      "(540, 960)\n",
      "in weighted image call\n",
      "(540, 960, 3)\n",
      "(540, 960, 3)\n"
     ]
    },
    {
     "name": "stderr",
     "output_type": "stream",
     "text": [
      "\r",
      " 28%|██▊       | 191/682 [00:05<00:14, 32.76it/s]"
     ]
    },
    {
     "name": "stdout",
     "output_type": "stream",
     "text": [
      "in hough lines call\n",
      "(540, 960)\n",
      "in weighted image call\n",
      "(540, 960, 3)\n",
      "(540, 960, 3)\n",
      "in hough lines call\n",
      "(540, 960)\n",
      "in weighted image call\n",
      "(540, 960, 3)\n",
      "(540, 960, 3)\n",
      "in hough lines call\n",
      "(540, 960)\n",
      "in weighted image call\n",
      "(540, 960, 3)\n",
      "(540, 960, 3)\n"
     ]
    },
    {
     "name": "stderr",
     "output_type": "stream",
     "text": [
      "\r",
      " 29%|██▊       | 195/682 [00:05<00:14, 33.93it/s]"
     ]
    },
    {
     "name": "stdout",
     "output_type": "stream",
     "text": [
      "in hough lines call\n",
      "(540, 960)\n",
      "in weighted image call\n",
      "(540, 960, 3)\n",
      "(540, 960, 3)\n",
      "in hough lines call\n",
      "(540, 960)\n",
      "in weighted image call\n",
      "(540, 960, 3)\n",
      "(540, 960, 3)\n",
      "in hough lines call\n",
      "(540, 960)\n",
      "in weighted image call\n",
      "(540, 960, 3)\n",
      "(540, 960, 3)\n",
      "in hough lines call\n",
      "(540, 960)\n",
      "in weighted image call\n",
      "(540, 960, 3)\n",
      "(540, 960, 3)\n",
      "in hough lines call\n",
      "(540, 960)\n",
      "in weighted image call\n",
      "(540, 960, 3)\n",
      "(540, 960, 3)\n"
     ]
    },
    {
     "name": "stderr",
     "output_type": "stream",
     "text": [
      "\r",
      " 29%|██▉       | 199/682 [00:05<00:14, 34.07it/s]"
     ]
    },
    {
     "name": "stdout",
     "output_type": "stream",
     "text": [
      "in hough lines call\n",
      "(540, 960)\n",
      "in weighted image call\n",
      "(540, 960, 3)\n",
      "(540, 960, 3)\n",
      "in hough lines call\n",
      "(540, 960)\n",
      "in weighted image call\n",
      "(540, 960, 3)\n",
      "(540, 960, 3)\n",
      "in hough lines call\n",
      "(540, 960)\n",
      "in weighted image call\n",
      "(540, 960, 3)\n",
      "(540, 960, 3)\n"
     ]
    },
    {
     "name": "stderr",
     "output_type": "stream",
     "text": [
      "\r",
      " 30%|██▉       | 203/682 [00:05<00:13, 34.52it/s]"
     ]
    },
    {
     "name": "stdout",
     "output_type": "stream",
     "text": [
      "in hough lines call\n",
      "(540, 960)\n",
      "in weighted image call\n",
      "(540, 960, 3)\n",
      "(540, 960, 3)\n",
      "in hough lines call\n",
      "(540, 960)\n",
      "in weighted image call\n",
      "(540, 960, 3)\n",
      "(540, 960, 3)\n",
      "in hough lines call\n",
      "(540, 960)\n",
      "in weighted image call\n",
      "(540, 960, 3)\n",
      "(540, 960, 3)\n",
      "in hough lines call\n",
      "(540, 960)\n",
      "in weighted image call\n",
      "(540, 960, 3)\n",
      "(540, 960, 3)\n",
      "in hough lines call\n",
      "(540, 960)\n",
      "in weighted image call\n",
      "(540, 960, 3)\n",
      "(540, 960, 3)\n",
      "in hough lines call\n",
      "(540, 960)\n",
      "in weighted image call\n",
      "(540, 960, 3)\n",
      "(540, 960, 3)\n",
      "in hough lines call\n",
      "(540, 960)\n",
      "in weighted image call\n",
      "(540, 960, 3)\n",
      "(540, 960, 3)\n",
      "in hough lines call\n",
      "(540, 960)\n"
     ]
    },
    {
     "name": "stderr",
     "output_type": "stream",
     "text": [
      "\r",
      " 30%|███       | 207/682 [00:05<00:13, 34.09it/s]"
     ]
    },
    {
     "name": "stdout",
     "output_type": "stream",
     "text": [
      "in weighted image call\n",
      "(540, 960, 3)\n",
      "(540, 960, 3)\n",
      "in hough lines call\n",
      "(540, 960)\n",
      "in weighted image call\n",
      "(540, 960, 3)\n",
      "(540, 960, 3)\n",
      "in hough lines call\n",
      "(540, 960)\n",
      "in weighted image call\n",
      "(540, 960, 3)\n",
      "(540, 960, 3)\n",
      "in hough lines call\n",
      "(540, 960)\n",
      "in weighted image call\n",
      "(540, 960, 3)\n",
      "(540, 960, 3)\n"
     ]
    },
    {
     "name": "stderr",
     "output_type": "stream",
     "text": [
      "\r",
      " 31%|███       | 211/682 [00:06<00:14, 33.39it/s]"
     ]
    },
    {
     "name": "stdout",
     "output_type": "stream",
     "text": [
      "in hough lines call\n",
      "(540, 960)\n",
      "in weighted image call\n",
      "(540, 960, 3)\n",
      "(540, 960, 3)\n",
      "in hough lines call\n",
      "(540, 960)\n",
      "in weighted image call\n",
      "(540, 960, 3)\n",
      "(540, 960, 3)\n",
      "in hough lines call\n",
      "(540, 960)\n",
      "in weighted image call\n",
      "(540, 960, 3)\n",
      "(540, 960, 3)\n"
     ]
    },
    {
     "name": "stderr",
     "output_type": "stream",
     "text": [
      "\r",
      " 32%|███▏      | 215/682 [00:06<00:14, 33.32it/s]"
     ]
    },
    {
     "name": "stdout",
     "output_type": "stream",
     "text": [
      "in hough lines call\n",
      "(540, 960)\n",
      "in weighted image call\n",
      "(540, 960, 3)\n",
      "(540, 960, 3)\n",
      "in hough lines call\n",
      "(540, 960)\n",
      "in weighted image call\n",
      "(540, 960, 3)\n",
      "(540, 960, 3)\n",
      "in hough lines call\n",
      "(540, 960)\n",
      "in weighted image call\n",
      "(540, 960, 3)\n",
      "(540, 960, 3)\n",
      "in hough lines call\n",
      "(540, 960)\n",
      "in weighted image call\n",
      "(540, 960, 3)\n",
      "(540, 960, 3)\n"
     ]
    },
    {
     "name": "stderr",
     "output_type": "stream",
     "text": [
      "\r",
      " 32%|███▏      | 219/682 [00:06<00:14, 32.51it/s]"
     ]
    },
    {
     "name": "stdout",
     "output_type": "stream",
     "text": [
      "in hough lines call\n",
      "(540, 960)\n",
      "in weighted image call\n",
      "(540, 960, 3)\n",
      "(540, 960, 3)\n",
      "in hough lines call\n",
      "(540, 960)\n",
      "in weighted image call\n",
      "(540, 960, 3)\n",
      "(540, 960, 3)\n",
      "in hough lines call\n",
      "(540, 960)\n"
     ]
    },
    {
     "name": "stderr",
     "output_type": "stream",
     "text": [
      "\r",
      " 33%|███▎      | 223/682 [00:06<00:13, 33.01it/s]"
     ]
    },
    {
     "name": "stdout",
     "output_type": "stream",
     "text": [
      "in weighted image call\n",
      "(540, 960, 3)\n",
      "(540, 960, 3)\n",
      "in hough lines call\n",
      "(540, 960)\n",
      "in weighted image call\n",
      "(540, 960, 3)\n",
      "(540, 960, 3)\n",
      "in hough lines call\n",
      "(540, 960)\n",
      "in weighted image call\n",
      "(540, 960, 3)\n",
      "(540, 960, 3)\n",
      "in hough lines call\n",
      "(540, 960)\n",
      "in weighted image call\n",
      "(540, 960, 3)\n",
      "(540, 960, 3)\n",
      "in hough lines call\n",
      "(540, 960)\n",
      "in weighted image call\n",
      "(540, 960, 3)\n",
      "(540, 960, 3)\n",
      "in hough lines call\n",
      "(540, 960)\n",
      "in weighted image call\n",
      "(540, 960, 3)\n",
      "(540, 960, 3)\n",
      "in hough lines call\n",
      "(540, 960)\n",
      "in weighted image call\n",
      "(540, 960, 3)\n",
      "(540, 960, 3)\n"
     ]
    },
    {
     "name": "stderr",
     "output_type": "stream",
     "text": [
      "\r",
      " 33%|███▎      | 227/682 [00:06<00:14, 32.01it/s]"
     ]
    },
    {
     "name": "stdout",
     "output_type": "stream",
     "text": [
      "in hough lines call\n",
      "(540, 960)\n",
      "in weighted image call\n",
      "(540, 960, 3)\n",
      "(540, 960, 3)\n",
      "in hough lines call\n",
      "(540, 960)\n",
      "in weighted image call\n",
      "(540, 960, 3)\n",
      "(540, 960, 3)\n",
      "in hough lines call\n",
      "(540, 960)\n",
      "in weighted image call\n",
      "(540, 960, 3)\n",
      "(540, 960, 3)\n",
      "in hough lines call\n",
      "(540, 960)\n",
      "in weighted image call\n",
      "(540, 960, 3)\n",
      "(540, 960, 3)\n"
     ]
    },
    {
     "name": "stderr",
     "output_type": "stream",
     "text": [
      "\r",
      " 34%|███▍      | 231/682 [00:06<00:14, 30.40it/s]"
     ]
    },
    {
     "name": "stdout",
     "output_type": "stream",
     "text": [
      "in hough lines call\n",
      "(540, 960)\n",
      "in weighted image call\n",
      "(540, 960, 3)\n",
      "(540, 960, 3)\n",
      "in hough lines call\n",
      "(540, 960)\n",
      "in weighted image call\n",
      "(540, 960, 3)\n",
      "(540, 960, 3)\n"
     ]
    },
    {
     "name": "stderr",
     "output_type": "stream",
     "text": [
      "\r",
      " 34%|███▍      | 235/682 [00:06<00:14, 30.88it/s]"
     ]
    },
    {
     "name": "stdout",
     "output_type": "stream",
     "text": [
      "in hough lines call\n",
      "(540, 960)\n",
      "in weighted image call\n",
      "(540, 960, 3)\n",
      "(540, 960, 3)\n",
      "in hough lines call\n",
      "(540, 960)\n",
      "in weighted image call\n",
      "(540, 960, 3)\n",
      "(540, 960, 3)\n",
      "in hough lines call\n",
      "(540, 960)\n",
      "in weighted image call\n",
      "(540, 960, 3)\n",
      "(540, 960, 3)\n",
      "in hough lines call\n",
      "(540, 960)\n",
      "in weighted image call\n",
      "(540, 960, 3)\n",
      "(540, 960, 3)\n",
      "in hough lines call\n",
      "(540, 960)\n",
      "in weighted image call\n",
      "(540, 960, 3)\n",
      "(540, 960, 3)\n"
     ]
    },
    {
     "name": "stderr",
     "output_type": "stream",
     "text": [
      "\r",
      " 35%|███▌      | 239/682 [00:06<00:14, 31.39it/s]"
     ]
    },
    {
     "name": "stdout",
     "output_type": "stream",
     "text": [
      "in hough lines call\n",
      "(540, 960)\n",
      "in weighted image call\n",
      "(540, 960, 3)\n",
      "(540, 960, 3)\n",
      "in hough lines call\n",
      "(540, 960)\n",
      "in weighted image call\n",
      "(540, 960, 3)\n",
      "(540, 960, 3)\n"
     ]
    },
    {
     "name": "stderr",
     "output_type": "stream",
     "text": [
      "\r",
      " 36%|███▌      | 243/682 [00:07<00:13, 31.93it/s]"
     ]
    },
    {
     "name": "stdout",
     "output_type": "stream",
     "text": [
      "in hough lines call\n",
      "(540, 960)\n",
      "in weighted image call\n",
      "(540, 960, 3)\n",
      "(540, 960, 3)\n",
      "in hough lines call\n",
      "(540, 960)\n",
      "in weighted image call\n",
      "(540, 960, 3)\n",
      "(540, 960, 3)\n",
      "in hough lines call\n",
      "(540, 960)\n",
      "in weighted image call\n",
      "(540, 960, 3)\n",
      "(540, 960, 3)\n",
      "in hough lines call\n",
      "(540, 960)\n",
      "in weighted image call\n",
      "(540, 960, 3)\n",
      "(540, 960, 3)\n",
      "in hough lines call\n",
      "(540, 960)\n",
      "in weighted image call\n",
      "(540, 960, 3)\n",
      "(540, 960, 3)\n",
      "in hough lines call\n",
      "(540, 960)\n",
      "in weighted image call\n",
      "(540, 960, 3)\n",
      "(540, 960, 3)\n",
      "in hough lines call\n",
      "(540, 960)\n",
      "in weighted image call\n",
      "(540, 960, 3)\n",
      "(540, 960, 3)\n"
     ]
    },
    {
     "name": "stderr",
     "output_type": "stream",
     "text": [
      " 37%|███▋      | 251/682 [00:07<00:13, 32.95it/s]"
     ]
    },
    {
     "name": "stdout",
     "output_type": "stream",
     "text": [
      "in hough lines call\n",
      "(540, 960)\n",
      "in weighted image call\n",
      "(540, 960, 3)\n",
      "(540, 960, 3)\n",
      "in hough lines call\n",
      "(540, 960)\n",
      "in weighted image call\n",
      "(540, 960, 3)\n",
      "(540, 960, 3)\n",
      "in hough lines call\n",
      "(540, 960)\n",
      "in weighted image call\n",
      "(540, 960, 3)\n",
      "(540, 960, 3)\n",
      "in hough lines call\n",
      "(540, 960)\n",
      "in weighted image call\n",
      "(540, 960, 3)\n",
      "(540, 960, 3)\n",
      "in hough lines call\n",
      "(540, 960)\n",
      "in weighted image call\n",
      "(540, 960, 3)\n",
      "(540, 960, 3)\n",
      "in hough lines call\n",
      "(540, 960)\n",
      "in weighted image call\n",
      "(540, 960, 3)\n",
      "(540, 960, 3)\n",
      "in hough lines call\n",
      "(540, 960)\n",
      "in weighted image call\n",
      "(540, 960, 3)\n",
      "(540, 960, 3)\n"
     ]
    },
    {
     "name": "stderr",
     "output_type": "stream",
     "text": [
      "\r",
      " 37%|███▋      | 255/682 [00:07<00:12, 32.92it/s]"
     ]
    },
    {
     "name": "stdout",
     "output_type": "stream",
     "text": [
      "in hough lines call\n",
      "(540, 960)\n",
      "in weighted image call\n",
      "(540, 960, 3)\n",
      "(540, 960, 3)\n",
      "in hough lines call\n",
      "(540, 960)\n",
      "in weighted image call\n",
      "(540, 960, 3)\n",
      "(540, 960, 3)\n",
      "in hough lines call\n",
      "(540, 960)\n",
      "in weighted image call\n",
      "(540, 960, 3)\n",
      "(540, 960, 3)\n",
      "in hough lines call\n",
      "(540, 960)\n",
      "in weighted image call\n",
      "(540, 960, 3)\n",
      "(540, 960, 3)\n",
      "in hough lines call\n",
      "(540, 960)\n",
      "in weighted image call\n",
      "(540, 960, 3)\n",
      "(540, 960, 3)\n"
     ]
    },
    {
     "name": "stderr",
     "output_type": "stream",
     "text": [
      "\r",
      " 38%|███▊      | 259/682 [00:07<00:12, 33.07it/s]"
     ]
    },
    {
     "name": "stdout",
     "output_type": "stream",
     "text": [
      "in hough lines call\n",
      "(540, 960)\n",
      "in weighted image call\n",
      "(540, 960, 3)\n",
      "(540, 960, 3)\n",
      "in hough lines call\n",
      "(540, 960)\n",
      "in weighted image call\n",
      "(540, 960, 3)\n",
      "(540, 960, 3)\n"
     ]
    },
    {
     "name": "stderr",
     "output_type": "stream",
     "text": [
      "\r",
      " 39%|███▊      | 263/682 [00:07<00:12, 32.23it/s]"
     ]
    },
    {
     "name": "stdout",
     "output_type": "stream",
     "text": [
      "in hough lines call\n",
      "(540, 960)\n",
      "in weighted image call\n",
      "(540, 960, 3)\n",
      "(540, 960, 3)\n",
      "in hough lines call\n",
      "(540, 960)\n",
      "in weighted image call\n",
      "(540, 960, 3)\n",
      "(540, 960, 3)\n",
      "in hough lines call\n",
      "(540, 960)\n",
      "in weighted image call\n",
      "(540, 960, 3)\n",
      "(540, 960, 3)\n",
      "in hough lines call\n",
      "(540, 960)\n",
      "in weighted image call\n",
      "(540, 960, 3)\n",
      "(540, 960, 3)\n",
      "in hough lines call\n",
      "(540, 960)\n",
      "in weighted image call\n",
      "(540, 960, 3)\n",
      "(540, 960, 3)\n"
     ]
    },
    {
     "name": "stderr",
     "output_type": "stream",
     "text": [
      "\r",
      " 39%|███▉      | 267/682 [00:07<00:12, 32.32it/s]"
     ]
    },
    {
     "name": "stdout",
     "output_type": "stream",
     "text": [
      "in hough lines call\n",
      "(540, 960)\n",
      "in weighted image call\n",
      "(540, 960, 3)\n",
      "(540, 960, 3)\n",
      "in hough lines call\n",
      "(540, 960)\n",
      "in weighted image call\n",
      "(540, 960, 3)\n",
      "(540, 960, 3)\n"
     ]
    },
    {
     "name": "stderr",
     "output_type": "stream",
     "text": [
      "\r",
      " 40%|███▉      | 271/682 [00:07<00:12, 32.15it/s]"
     ]
    },
    {
     "name": "stdout",
     "output_type": "stream",
     "text": [
      "in hough lines call\n",
      "(540, 960)\n",
      "in weighted image call\n",
      "(540, 960, 3)\n",
      "(540, 960, 3)\n",
      "in hough lines call\n",
      "(540, 960)\n",
      "in weighted image call\n",
      "(540, 960, 3)\n",
      "(540, 960, 3)\n",
      "in hough lines call\n",
      "(540, 960)\n",
      "in weighted image call\n",
      "(540, 960, 3)\n",
      "(540, 960, 3)\n",
      "in hough lines call\n",
      "(540, 960)\n",
      "in weighted image call\n",
      "(540, 960, 3)\n",
      "(540, 960, 3)\n",
      "in hough lines call\n",
      "(540, 960)\n",
      "in weighted image call\n",
      "(540, 960, 3)\n",
      "(540, 960, 3)\n",
      "in hough lines call\n",
      "(540, 960)\n",
      "in weighted image call\n",
      "(540, 960, 3)\n",
      "(540, 960, 3)\n",
      "in hough lines call\n",
      "(540, 960)\n",
      "in weighted image call\n",
      "(540, 960, 3)\n",
      "(540, 960, 3)\n"
     ]
    },
    {
     "name": "stderr",
     "output_type": "stream",
     "text": [
      " 41%|████      | 279/682 [00:08<00:12, 32.08it/s]"
     ]
    },
    {
     "name": "stdout",
     "output_type": "stream",
     "text": [
      "in hough lines call\n",
      "(540, 960)\n",
      "in weighted image call\n",
      "(540, 960, 3)\n",
      "(540, 960, 3)\n",
      "in hough lines call\n",
      "(540, 960)\n",
      "in weighted image call\n",
      "(540, 960, 3)\n",
      "(540, 960, 3)\n",
      "in hough lines call\n",
      "(540, 960)\n",
      "in weighted image call\n",
      "(540, 960, 3)\n",
      "(540, 960, 3)\n",
      "in hough lines call\n",
      "(540, 960)\n",
      "in weighted image call\n",
      "(540, 960, 3)\n",
      "(540, 960, 3)\n",
      "in hough lines call\n",
      "(540, 960)\n",
      "in weighted image call\n",
      "(540, 960, 3)\n",
      "(540, 960, 3)\n",
      "in hough lines call\n",
      "(540, 960)\n",
      "in weighted image call\n",
      "(540, 960, 3)\n",
      "(540, 960, 3)\n",
      "in hough lines call\n",
      "(540, 960)\n"
     ]
    },
    {
     "name": "stderr",
     "output_type": "stream",
     "text": [
      "\r",
      " 41%|████▏     | 283/682 [00:08<00:12, 31.44it/s]"
     ]
    },
    {
     "name": "stdout",
     "output_type": "stream",
     "text": [
      "in weighted image call\n",
      "(540, 960, 3)\n",
      "(540, 960, 3)\n",
      "in hough lines call\n",
      "(540, 960)\n",
      "in weighted image call\n",
      "(540, 960, 3)\n",
      "(540, 960, 3)\n",
      "in hough lines call\n",
      "(540, 960)\n",
      "in weighted image call\n",
      "(540, 960, 3)\n",
      "(540, 960, 3)\n",
      "in hough lines call\n",
      "(540, 960)\n",
      "in weighted image call\n",
      "(540, 960, 3)\n",
      "(540, 960, 3)\n",
      "in hough lines call\n",
      "(540, 960)\n",
      "in weighted image call\n",
      "(540, 960, 3)\n",
      "(540, 960, 3)\n",
      "in hough lines call\n",
      "(540, 960)\n",
      "in weighted image call\n",
      "(540, 960, 3)\n",
      "(540, 960, 3)\n"
     ]
    },
    {
     "name": "stderr",
     "output_type": "stream",
     "text": [
      "\r",
      " 42%|████▏     | 287/682 [00:08<00:12, 32.48it/s]"
     ]
    },
    {
     "name": "stdout",
     "output_type": "stream",
     "text": [
      "in hough lines call\n",
      "(540, 960)\n",
      "in weighted image call\n",
      "(540, 960, 3)\n",
      "(540, 960, 3)\n"
     ]
    },
    {
     "name": "stderr",
     "output_type": "stream",
     "text": [
      "\r",
      " 43%|████▎     | 291/682 [00:08<00:12, 32.32it/s]"
     ]
    },
    {
     "name": "stdout",
     "output_type": "stream",
     "text": [
      "in hough lines call\n",
      "(540, 960)\n",
      "in weighted image call\n",
      "(540, 960, 3)\n",
      "(540, 960, 3)\n",
      "in hough lines call\n",
      "(540, 960)\n",
      "in weighted image call\n",
      "(540, 960, 3)\n",
      "(540, 960, 3)\n",
      "in hough lines call\n",
      "(540, 960)\n",
      "in weighted image call\n",
      "(540, 960, 3)\n",
      "(540, 960, 3)\n",
      "in hough lines call\n",
      "(540, 960)\n",
      "in weighted image call\n",
      "(540, 960, 3)\n",
      "(540, 960, 3)\n",
      "in hough lines call\n",
      "(540, 960)\n",
      "in weighted image call\n",
      "(540, 960, 3)\n",
      "(540, 960, 3)\n",
      "in hough lines call\n",
      "(540, 960)\n",
      "in weighted image call\n",
      "(540, 960, 3)\n",
      "(540, 960, 3)\n",
      "in hough lines call\n",
      "(540, 960)\n",
      "in weighted image call\n",
      "(540, 960, 3)\n",
      "(540, 960, 3)\n"
     ]
    },
    {
     "name": "stderr",
     "output_type": "stream",
     "text": [
      " 44%|████▍     | 299/682 [00:08<00:11, 32.71it/s]"
     ]
    },
    {
     "name": "stdout",
     "output_type": "stream",
     "text": [
      "in hough lines call\n",
      "(540, 960)\n",
      "in weighted image call\n",
      "(540, 960, 3)\n",
      "(540, 960, 3)\n",
      "in hough lines call\n",
      "(540, 960)\n",
      "in weighted image call\n",
      "(540, 960, 3)\n",
      "(540, 960, 3)\n",
      "in hough lines call\n",
      "(540, 960)\n",
      "in weighted image call\n",
      "(540, 960, 3)\n",
      "(540, 960, 3)\n",
      "in hough lines call\n",
      "(540, 960)\n",
      "in weighted image call\n",
      "(540, 960, 3)\n",
      "(540, 960, 3)\n",
      "in hough lines call\n",
      "(540, 960)\n",
      "in weighted image call\n",
      "(540, 960, 3)\n",
      "(540, 960, 3)\n",
      "in hough lines call\n",
      "(540, 960)\n",
      "in weighted image call\n",
      "(540, 960, 3)\n",
      "(540, 960, 3)\n",
      "in hough lines call\n",
      "(540, 960)\n",
      "in weighted image call\n",
      "(540, 960, 3)\n",
      "(540, 960, 3)\n"
     ]
    },
    {
     "name": "stderr",
     "output_type": "stream",
     "text": [
      " 45%|████▌     | 307/682 [00:09<00:11, 32.74it/s]"
     ]
    },
    {
     "name": "stdout",
     "output_type": "stream",
     "text": [
      "in hough lines call\n",
      "(540, 960)\n",
      "in weighted image call\n",
      "(540, 960, 3)\n",
      "(540, 960, 3)\n",
      "in hough lines call\n",
      "(540, 960)\n",
      "in weighted image call\n",
      "(540, 960, 3)\n",
      "(540, 960, 3)\n",
      "in hough lines call\n",
      "(540, 960)\n",
      "in weighted image call\n",
      "(540, 960, 3)\n",
      "(540, 960, 3)\n",
      "in hough lines call\n",
      "(540, 960)\n",
      "in weighted image call\n",
      "(540, 960, 3)\n",
      "(540, 960, 3)\n",
      "in hough lines call\n",
      "(540, 960)\n",
      "in weighted image call\n",
      "(540, 960, 3)\n",
      "(540, 960, 3)\n",
      "in hough lines call\n",
      "(540, 960)\n",
      "in weighted image call\n",
      "(540, 960, 3)\n",
      "(540, 960, 3)\n",
      "in hough lines call\n",
      "(540, 960)\n",
      "in weighted image call\n",
      "(540, 960, 3)\n",
      "(540, 960, 3)\n"
     ]
    },
    {
     "name": "stderr",
     "output_type": "stream",
     "text": [
      "\r",
      " 46%|████▌     | 311/682 [00:09<00:11, 32.03it/s]"
     ]
    },
    {
     "name": "stdout",
     "output_type": "stream",
     "text": [
      "in hough lines call\n",
      "(540, 960)\n",
      "in weighted image call\n",
      "(540, 960, 3)\n",
      "(540, 960, 3)\n",
      "in hough lines call\n",
      "(540, 960)\n",
      "in weighted image call\n",
      "(540, 960, 3)\n",
      "(540, 960, 3)\n",
      "in hough lines call\n",
      "(540, 960)\n",
      "in weighted image call\n",
      "(540, 960, 3)\n",
      "(540, 960, 3)\n",
      "in hough lines call\n",
      "(540, 960)\n",
      "in weighted image call\n",
      "(540, 960, 3)\n",
      "(540, 960, 3)\n",
      "in hough lines call\n",
      "(540, 960)\n",
      "in weighted image call\n",
      "(540, 960, 3)\n",
      "(540, 960, 3)\n",
      "in hough lines call\n",
      "(540, 960)\n",
      "in weighted image call\n",
      "(540, 960, 3)\n",
      "(540, 960, 3)\n"
     ]
    },
    {
     "name": "stderr",
     "output_type": "stream",
     "text": [
      "\r",
      " 46%|████▌     | 315/682 [00:09<00:11, 31.58it/s]"
     ]
    },
    {
     "name": "stdout",
     "output_type": "stream",
     "text": [
      "in hough lines call\n",
      "(540, 960)\n",
      "in weighted image call\n",
      "(540, 960, 3)\n",
      "(540, 960, 3)\n"
     ]
    },
    {
     "name": "stderr",
     "output_type": "stream",
     "text": [
      "\r",
      " 47%|████▋     | 319/682 [00:09<00:11, 32.74it/s]"
     ]
    },
    {
     "name": "stdout",
     "output_type": "stream",
     "text": [
      "in hough lines call\n",
      "(540, 960)\n",
      "in weighted image call\n",
      "(540, 960, 3)\n",
      "(540, 960, 3)\n",
      "in hough lines call\n",
      "(540, 960)\n",
      "in weighted image call\n",
      "(540, 960, 3)\n",
      "(540, 960, 3)\n",
      "in hough lines call\n",
      "(540, 960)\n",
      "in weighted image call\n",
      "(540, 960, 3)\n",
      "(540, 960, 3)\n",
      "in hough lines call\n",
      "(540, 960)\n",
      "in weighted image call\n",
      "(540, 960, 3)\n",
      "(540, 960, 3)\n",
      "in hough lines call\n",
      "(540, 960)\n",
      "in weighted image call\n",
      "(540, 960, 3)\n",
      "(540, 960, 3)\n",
      "in hough lines call\n",
      "(540, 960)\n",
      "in weighted image call\n",
      "(540, 960, 3)\n",
      "(540, 960, 3)\n",
      "in hough lines call\n",
      "(540, 960)\n",
      "in weighted image call\n",
      "(540, 960, 3)\n",
      "(540, 960, 3)\n"
     ]
    },
    {
     "name": "stderr",
     "output_type": "stream",
     "text": [
      " 48%|████▊     | 327/682 [00:09<00:10, 32.32it/s]"
     ]
    },
    {
     "name": "stdout",
     "output_type": "stream",
     "text": [
      "in hough lines call\n",
      "(540, 960)\n",
      "in weighted image call\n",
      "(540, 960, 3)\n",
      "(540, 960, 3)\n",
      "in hough lines call\n",
      "(540, 960)\n",
      "in weighted image call\n",
      "(540, 960, 3)\n",
      "(540, 960, 3)\n",
      "in hough lines call\n",
      "(540, 960)\n",
      "in weighted image call\n",
      "(540, 960, 3)\n",
      "(540, 960, 3)\n",
      "in hough lines call\n",
      "(540, 960)\n",
      "in weighted image call\n",
      "(540, 960, 3)\n",
      "(540, 960, 3)\n",
      "in hough lines call\n",
      "(540, 960)\n",
      "in weighted image call\n",
      "(540, 960, 3)\n",
      "(540, 960, 3)\n",
      "in hough lines call\n",
      "(540, 960)\n",
      "in weighted image call\n",
      "(540, 960, 3)\n",
      "(540, 960, 3)\n",
      "in hough lines call\n",
      "(540, 960)\n",
      "in weighted image call\n",
      "(540, 960, 3)\n",
      "(540, 960, 3)\n"
     ]
    },
    {
     "name": "stderr",
     "output_type": "stream",
     "text": [
      " 49%|████▉     | 335/682 [00:09<00:10, 32.25it/s]"
     ]
    },
    {
     "name": "stdout",
     "output_type": "stream",
     "text": [
      "in hough lines call\n",
      "(540, 960)\n",
      "in weighted image call\n",
      "(540, 960, 3)\n",
      "(540, 960, 3)\n",
      "in hough lines call\n",
      "(540, 960)\n",
      "in weighted image call\n",
      "(540, 960, 3)\n",
      "(540, 960, 3)\n",
      "in hough lines call\n",
      "(540, 960)\n",
      "in weighted image call\n",
      "(540, 960, 3)\n",
      "(540, 960, 3)\n",
      "in hough lines call\n",
      "(540, 960)\n",
      "in weighted image call\n",
      "(540, 960, 3)\n",
      "(540, 960, 3)\n",
      "in hough lines call\n",
      "(540, 960)\n",
      "in weighted image call\n",
      "(540, 960, 3)\n",
      "(540, 960, 3)\n",
      "in hough lines call\n",
      "(540, 960)\n",
      "in weighted image call\n",
      "(540, 960, 3)\n",
      "(540, 960, 3)\n",
      "in hough lines call\n",
      "(540, 960)\n",
      "in weighted image call\n",
      "(540, 960, 3)\n",
      "(540, 960, 3)\n"
     ]
    },
    {
     "name": "stderr",
     "output_type": "stream",
     "text": [
      "\r",
      " 50%|████▉     | 339/682 [00:10<00:10, 31.36it/s]"
     ]
    },
    {
     "name": "stdout",
     "output_type": "stream",
     "text": [
      "in hough lines call\n",
      "(540, 960)\n",
      "in weighted image call\n",
      "(540, 960, 3)\n",
      "(540, 960, 3)\n",
      "in hough lines call\n",
      "(540, 960)\n",
      "in weighted image call\n",
      "(540, 960, 3)\n",
      "(540, 960, 3)\n",
      "in hough lines call\n",
      "(540, 960)\n",
      "in weighted image call\n",
      "(540, 960, 3)\n",
      "(540, 960, 3)\n",
      "in hough lines call\n",
      "(540, 960)\n",
      "in weighted image call\n",
      "(540, 960, 3)\n",
      "(540, 960, 3)\n",
      "in hough lines call\n",
      "(540, 960)\n",
      "in weighted image call\n",
      "(540, 960, 3)\n",
      "(540, 960, 3)\n",
      "in hough lines call\n",
      "(540, 960)\n"
     ]
    },
    {
     "name": "stderr",
     "output_type": "stream",
     "text": [
      "\r",
      " 50%|█████     | 343/682 [00:10<00:10, 32.00it/s]"
     ]
    },
    {
     "name": "stdout",
     "output_type": "stream",
     "text": [
      "in weighted image call\n",
      "(540, 960, 3)\n",
      "(540, 960, 3)\n",
      "in hough lines call\n",
      "(540, 960)\n",
      "in weighted image call\n",
      "(540, 960, 3)\n",
      "(540, 960, 3)\n"
     ]
    },
    {
     "name": "stderr",
     "output_type": "stream",
     "text": [
      "\r",
      " 51%|█████     | 347/682 [00:10<00:10, 32.13it/s]"
     ]
    },
    {
     "name": "stdout",
     "output_type": "stream",
     "text": [
      "in hough lines call\n",
      "(540, 960)\n",
      "in weighted image call\n",
      "(540, 960, 3)\n",
      "(540, 960, 3)\n",
      "in hough lines call\n",
      "(540, 960)\n",
      "in weighted image call\n",
      "(540, 960, 3)\n",
      "(540, 960, 3)\n",
      "in hough lines call\n",
      "(540, 960)\n",
      "in weighted image call\n",
      "(540, 960, 3)\n",
      "(540, 960, 3)\n",
      "in hough lines call\n",
      "(540, 960)\n",
      "in weighted image call\n",
      "(540, 960, 3)\n",
      "(540, 960, 3)\n",
      "in hough lines call\n",
      "(540, 960)\n",
      "in weighted image call\n",
      "(540, 960, 3)\n",
      "(540, 960, 3)\n",
      "in hough lines call\n",
      "(540, 960)\n",
      "in weighted image call\n",
      "(540, 960, 3)\n",
      "(540, 960, 3)\n",
      "in hough lines call\n",
      "(540, 960)\n"
     ]
    },
    {
     "name": "stderr",
     "output_type": "stream",
     "text": [
      "\r",
      " 51%|█████▏    | 351/682 [00:10<00:10, 30.80it/s]"
     ]
    },
    {
     "name": "stdout",
     "output_type": "stream",
     "text": [
      "in weighted image call\n",
      "(540, 960, 3)\n",
      "(540, 960, 3)\n",
      "in hough lines call\n",
      "(540, 960)\n",
      "in weighted image call\n",
      "(540, 960, 3)\n",
      "(540, 960, 3)\n",
      "in hough lines call\n",
      "(540, 960)\n",
      "in weighted image call\n",
      "(540, 960, 3)\n",
      "(540, 960, 3)\n",
      "in hough lines call\n",
      "(540, 960)\n",
      "in weighted image call\n",
      "(540, 960, 3)\n",
      "(540, 960, 3)\n",
      "in hough lines call\n",
      "(540, 960)\n",
      "in weighted image call\n",
      "(540, 960, 3)\n",
      "(540, 960, 3)\n",
      "in hough lines call\n",
      "(540, 960)\n",
      "in weighted image call\n",
      "(540, 960, 3)\n",
      "(540, 960, 3)\n"
     ]
    },
    {
     "name": "stderr",
     "output_type": "stream",
     "text": [
      "\r",
      " 52%|█████▏    | 355/682 [00:10<00:10, 31.22it/s]"
     ]
    },
    {
     "name": "stdout",
     "output_type": "stream",
     "text": [
      "in hough lines call\n",
      "(540, 960)\n"
     ]
    },
    {
     "name": "stderr",
     "output_type": "stream",
     "text": [
      "\r",
      " 53%|█████▎    | 359/682 [00:10<00:10, 30.76it/s]"
     ]
    },
    {
     "name": "stdout",
     "output_type": "stream",
     "text": [
      "in weighted image call\n",
      "(540, 960, 3)\n",
      "(540, 960, 3)\n",
      "in hough lines call\n",
      "(540, 960)\n",
      "in weighted image call\n",
      "(540, 960, 3)\n",
      "(540, 960, 3)\n",
      "in hough lines call\n",
      "(540, 960)\n",
      "in weighted image call\n",
      "(540, 960, 3)\n",
      "(540, 960, 3)\n",
      "in hough lines call\n",
      "(540, 960)\n",
      "in weighted image call\n",
      "(540, 960, 3)\n",
      "(540, 960, 3)\n",
      "in hough lines call\n",
      "(540, 960)\n",
      "in weighted image call\n",
      "(540, 960, 3)\n",
      "(540, 960, 3)\n",
      "in hough lines call\n",
      "(540, 960)\n",
      "in weighted image call\n",
      "(540, 960, 3)\n",
      "(540, 960, 3)\n",
      "in hough lines call\n",
      "(540, 960)\n",
      "in weighted image call\n",
      "(540, 960, 3)\n",
      "(540, 960, 3)\n"
     ]
    },
    {
     "name": "stderr",
     "output_type": "stream",
     "text": [
      " 54%|█████▍    | 367/682 [00:10<00:09, 31.90it/s]"
     ]
    },
    {
     "name": "stdout",
     "output_type": "stream",
     "text": [
      "in hough lines call\n",
      "(540, 960)\n",
      "in weighted image call\n",
      "(540, 960, 3)\n",
      "(540, 960, 3)\n",
      "in hough lines call\n",
      "(540, 960)\n",
      "in weighted image call\n",
      "(540, 960, 3)\n",
      "(540, 960, 3)\n",
      "in hough lines call\n",
      "(540, 960)\n",
      "in weighted image call\n",
      "(540, 960, 3)\n",
      "(540, 960, 3)\n",
      "in hough lines call\n",
      "(540, 960)\n",
      "in weighted image call\n",
      "(540, 960, 3)\n",
      "(540, 960, 3)\n",
      "in hough lines call\n",
      "(540, 960)\n",
      "in weighted image call\n",
      "(540, 960, 3)\n",
      "(540, 960, 3)\n",
      "in hough lines call\n",
      "(540, 960)\n",
      "in weighted image call\n",
      "(540, 960, 3)\n",
      "(540, 960, 3)\n",
      "in hough lines call\n",
      "(540, 960)\n",
      "in weighted image call\n",
      "(540, 960, 3)\n",
      "(540, 960, 3)\n"
     ]
    },
    {
     "name": "stderr",
     "output_type": "stream",
     "text": [
      " 55%|█████▍    | 375/682 [00:11<00:09, 31.36it/s]"
     ]
    },
    {
     "name": "stdout",
     "output_type": "stream",
     "text": [
      "in hough lines call\n",
      "(540, 960)\n",
      "in weighted image call\n",
      "(540, 960, 3)\n",
      "(540, 960, 3)\n",
      "in hough lines call\n",
      "(540, 960)\n",
      "in weighted image call\n",
      "(540, 960, 3)\n",
      "(540, 960, 3)\n",
      "in hough lines call\n",
      "(540, 960)\n",
      "in weighted image call\n",
      "(540, 960, 3)\n",
      "(540, 960, 3)\n",
      "in hough lines call\n",
      "(540, 960)\n",
      "in weighted image call\n",
      "(540, 960, 3)\n",
      "(540, 960, 3)\n",
      "in hough lines call\n",
      "(540, 960)\n",
      "in weighted image call\n",
      "(540, 960, 3)\n",
      "(540, 960, 3)\n",
      "in hough lines call\n",
      "(540, 960)\n",
      "in weighted image call\n",
      "(540, 960, 3)\n",
      "(540, 960, 3)\n"
     ]
    },
    {
     "name": "stderr",
     "output_type": "stream",
     "text": [
      "\r",
      " 56%|█████▌    | 379/682 [00:11<00:10, 29.01it/s]"
     ]
    },
    {
     "name": "stdout",
     "output_type": "stream",
     "text": [
      "in hough lines call\n",
      "(540, 960)\n",
      "in weighted image call\n",
      "(540, 960, 3)\n",
      "(540, 960, 3)\n",
      "in hough lines call\n",
      "(540, 960)\n",
      "in weighted image call\n",
      "(540, 960, 3)\n",
      "(540, 960, 3)\n",
      "in hough lines call\n",
      "(540, 960)\n",
      "in weighted image call\n",
      "(540, 960, 3)\n",
      "(540, 960, 3)\n",
      "in hough lines call\n",
      "(540, 960)\n",
      "in weighted image call\n",
      "(540, 960, 3)\n",
      "(540, 960, 3)\n",
      "in hough lines call\n",
      "(540, 960)\n",
      "in weighted image call\n",
      "(540, 960, 3)\n",
      "(540, 960, 3)\n",
      "in hough lines call\n",
      "(540, 960)\n",
      "in weighted image call\n",
      "(540, 960, 3)\n",
      "(540, 960, 3)\n"
     ]
    },
    {
     "name": "stderr",
     "output_type": "stream",
     "text": [
      " 57%|█████▋    | 386/682 [00:11<00:10, 28.68it/s]"
     ]
    },
    {
     "name": "stdout",
     "output_type": "stream",
     "text": [
      "in hough lines call\n",
      "(540, 960)\n",
      "in weighted image call\n",
      "(540, 960, 3)\n",
      "(540, 960, 3)\n",
      "in hough lines call\n",
      "(540, 960)\n",
      "in weighted image call\n",
      "(540, 960, 3)\n",
      "(540, 960, 3)\n",
      "in hough lines call\n",
      "(540, 960)\n",
      "in weighted image call\n",
      "(540, 960, 3)\n",
      "(540, 960, 3)\n",
      "in hough lines call\n",
      "(540, 960)\n",
      "in weighted image call\n",
      "(540, 960, 3)\n",
      "(540, 960, 3)\n",
      "in hough lines call\n",
      "(540, 960)\n",
      "in weighted image call\n",
      "(540, 960, 3)\n",
      "(540, 960, 3)\n",
      "in hough lines call\n",
      "(540, 960)\n",
      "in weighted image call\n",
      "(540, 960, 3)\n",
      "(540, 960, 3)\n",
      "in hough lines call\n",
      "(540, 960)\n",
      "in weighted image call\n",
      "(540, 960, 3)\n",
      "(540, 960, 3)\n"
     ]
    },
    {
     "name": "stderr",
     "output_type": "stream",
     "text": [
      " 58%|█████▊    | 393/682 [00:11<00:10, 28.48it/s]"
     ]
    },
    {
     "name": "stdout",
     "output_type": "stream",
     "text": [
      "in hough lines call\n",
      "(540, 960)\n",
      "in weighted image call\n",
      "(540, 960, 3)\n",
      "(540, 960, 3)\n",
      "in hough lines call\n",
      "(540, 960)\n",
      "in weighted image call\n",
      "(540, 960, 3)\n",
      "(540, 960, 3)\n",
      "in hough lines call\n",
      "(540, 960)\n",
      "in weighted image call\n",
      "(540, 960, 3)\n",
      "(540, 960, 3)\n",
      "in hough lines call\n",
      "(540, 960)\n",
      "in weighted image call\n",
      "(540, 960, 3)\n",
      "(540, 960, 3)\n",
      "in hough lines call\n",
      "(540, 960)\n",
      "in weighted image call\n",
      "(540, 960, 3)\n",
      "(540, 960, 3)\n",
      "in hough lines call\n",
      "(540, 960)\n",
      "in weighted image call\n",
      "(540, 960, 3)\n",
      "(540, 960, 3)\n"
     ]
    },
    {
     "name": "stderr",
     "output_type": "stream",
     "text": [
      " 59%|█████▊    | 400/682 [00:12<00:09, 29.28it/s]"
     ]
    },
    {
     "name": "stdout",
     "output_type": "stream",
     "text": [
      "in hough lines call\n",
      "(540, 960)\n",
      "in weighted image call\n",
      "(540, 960, 3)\n",
      "(540, 960, 3)\n",
      "in hough lines call\n",
      "(540, 960)\n",
      "in weighted image call\n",
      "(540, 960, 3)\n",
      "(540, 960, 3)\n",
      "in hough lines call\n",
      "(540, 960)\n",
      "in weighted image call\n",
      "(540, 960, 3)\n",
      "(540, 960, 3)\n",
      "in hough lines call\n",
      "(540, 960)\n",
      "in weighted image call\n",
      "(540, 960, 3)\n",
      "(540, 960, 3)\n",
      "in hough lines call\n",
      "(540, 960)\n",
      "in weighted image call\n",
      "(540, 960, 3)\n",
      "(540, 960, 3)\n",
      "in hough lines call\n",
      "(540, 960)\n",
      "in weighted image call\n",
      "(540, 960, 3)\n",
      "(540, 960, 3)\n"
     ]
    },
    {
     "name": "stderr",
     "output_type": "stream",
     "text": [
      " 60%|█████▉    | 407/682 [00:12<00:08, 30.95it/s]"
     ]
    },
    {
     "name": "stdout",
     "output_type": "stream",
     "text": [
      "in hough lines call\n",
      "(540, 960)\n",
      "in weighted image call\n",
      "(540, 960, 3)\n",
      "(540, 960, 3)\n",
      "in hough lines call\n",
      "(540, 960)\n",
      "in weighted image call\n",
      "(540, 960, 3)\n",
      "(540, 960, 3)\n",
      "in hough lines call\n",
      "(540, 960)\n",
      "in weighted image call\n",
      "(540, 960, 3)\n",
      "(540, 960, 3)\n",
      "in hough lines call\n",
      "(540, 960)\n",
      "in weighted image call\n",
      "(540, 960, 3)\n",
      "(540, 960, 3)\n",
      "in hough lines call\n",
      "(540, 960)\n",
      "in weighted image call\n",
      "(540, 960, 3)\n",
      "(540, 960, 3)\n",
      "in hough lines call\n",
      "(540, 960)\n",
      "in weighted image call\n",
      "(540, 960, 3)\n",
      "(540, 960, 3)\n",
      "in hough lines call\n",
      "(540, 960)\n",
      "in weighted image call\n",
      "(540, 960, 3)\n",
      "(540, 960, 3)\n"
     ]
    },
    {
     "name": "stderr",
     "output_type": "stream",
     "text": [
      "\r",
      " 60%|██████    | 411/682 [00:12<00:08, 31.66it/s]"
     ]
    },
    {
     "name": "stdout",
     "output_type": "stream",
     "text": [
      "in hough lines call\n",
      "(540, 960)\n",
      "in weighted image call\n",
      "(540, 960, 3)\n",
      "(540, 960, 3)\n",
      "in hough lines call\n",
      "(540, 960)\n",
      "in weighted image call\n",
      "(540, 960, 3)\n",
      "(540, 960, 3)\n",
      "in hough lines call\n",
      "(540, 960)\n",
      "in weighted image call\n",
      "(540, 960, 3)\n",
      "(540, 960, 3)\n",
      "in hough lines call\n",
      "(540, 960)\n",
      "in weighted image call\n",
      "(540, 960, 3)\n",
      "(540, 960, 3)\n",
      "in hough lines call\n",
      "(540, 960)\n",
      "in weighted image call\n",
      "(540, 960, 3)\n",
      "(540, 960, 3)\n",
      "in hough lines call\n",
      "(540, 960)\n",
      "in weighted image call\n",
      "(540, 960, 3)\n",
      "(540, 960, 3)\n",
      "in hough lines call\n",
      "(540, 960)\n",
      "in weighted image call\n",
      "(540, 960, 3)\n",
      "(540, 960, 3)\n",
      "in hough lines call\n",
      "(540, 960)\n"
     ]
    },
    {
     "name": "stderr",
     "output_type": "stream",
     "text": [
      " 61%|██████▏   | 419/682 [00:12<00:07, 33.48it/s]"
     ]
    },
    {
     "name": "stdout",
     "output_type": "stream",
     "text": [
      "in weighted image call\n",
      "(540, 960, 3)\n",
      "(540, 960, 3)\n",
      "in hough lines call\n",
      "(540, 960)\n",
      "in weighted image call\n",
      "(540, 960, 3)\n",
      "(540, 960, 3)\n",
      "in hough lines call\n",
      "(540, 960)\n",
      "in weighted image call\n",
      "(540, 960, 3)\n",
      "(540, 960, 3)\n",
      "in hough lines call\n",
      "(540, 960)\n",
      "in weighted image call\n",
      "(540, 960, 3)\n",
      "(540, 960, 3)\n",
      "in hough lines call\n",
      "(540, 960)\n",
      "in weighted image call\n",
      "(540, 960, 3)\n",
      "(540, 960, 3)\n",
      "in hough lines call\n",
      "(540, 960)\n",
      "in weighted image call\n",
      "(540, 960, 3)\n",
      "(540, 960, 3)\n",
      "in hough lines call\n",
      "(540, 960)\n",
      "in weighted image call\n",
      "(540, 960, 3)\n",
      "(540, 960, 3)\n",
      "in hough lines call\n",
      "(540, 960)\n",
      "in weighted image call\n",
      "(540, 960, 3)\n",
      "(540, 960, 3)\n"
     ]
    },
    {
     "name": "stderr",
     "output_type": "stream",
     "text": [
      " 63%|██████▎   | 427/682 [00:12<00:07, 33.77it/s]"
     ]
    },
    {
     "name": "stdout",
     "output_type": "stream",
     "text": [
      "in hough lines call\n",
      "(540, 960)\n",
      "in weighted image call\n",
      "(540, 960, 3)\n",
      "(540, 960, 3)\n",
      "in hough lines call\n",
      "(540, 960)\n",
      "in weighted image call\n",
      "(540, 960, 3)\n",
      "(540, 960, 3)\n",
      "in hough lines call\n",
      "(540, 960)\n",
      "in weighted image call\n",
      "(540, 960, 3)\n",
      "(540, 960, 3)\n",
      "in hough lines call\n",
      "(540, 960)\n",
      "in weighted image call\n",
      "(540, 960, 3)\n",
      "(540, 960, 3)\n",
      "in hough lines call\n",
      "(540, 960)\n",
      "in weighted image call\n",
      "(540, 960, 3)\n",
      "(540, 960, 3)\n",
      "in hough lines call\n",
      "(540, 960)\n",
      "in weighted image call\n",
      "(540, 960, 3)\n",
      "(540, 960, 3)\n",
      "in hough lines call\n",
      "(540, 960)\n",
      "in weighted image call\n",
      "(540, 960, 3)\n",
      "(540, 960, 3)\n"
     ]
    },
    {
     "name": "stderr",
     "output_type": "stream",
     "text": [
      " 64%|██████▍   | 435/682 [00:13<00:07, 34.22it/s]"
     ]
    },
    {
     "name": "stdout",
     "output_type": "stream",
     "text": [
      "in hough lines call\n",
      "(540, 960)\n",
      "in weighted image call\n",
      "(540, 960, 3)\n",
      "(540, 960, 3)\n",
      "in hough lines call\n",
      "(540, 960)\n",
      "in weighted image call\n",
      "(540, 960, 3)\n",
      "(540, 960, 3)\n",
      "in hough lines call\n",
      "(540, 960)\n",
      "in weighted image call\n",
      "(540, 960, 3)\n",
      "(540, 960, 3)\n",
      "in hough lines call\n",
      "(540, 960)\n",
      "in weighted image call\n",
      "(540, 960, 3)\n",
      "(540, 960, 3)\n",
      "in hough lines call\n",
      "(540, 960)\n",
      "in weighted image call\n",
      "(540, 960, 3)\n",
      "(540, 960, 3)\n",
      "in hough lines call\n",
      "(540, 960)\n",
      "in weighted image call\n",
      "(540, 960, 3)\n",
      "(540, 960, 3)\n",
      "in hough lines call\n",
      "(540, 960)\n",
      "in weighted image call\n",
      "(540, 960, 3)\n",
      "(540, 960, 3)\n"
     ]
    },
    {
     "name": "stderr",
     "output_type": "stream",
     "text": [
      " 65%|██████▍   | 443/682 [00:13<00:06, 34.66it/s]"
     ]
    },
    {
     "name": "stdout",
     "output_type": "stream",
     "text": [
      "in hough lines call\n",
      "(540, 960)\n",
      "in weighted image call\n",
      "(540, 960, 3)\n",
      "(540, 960, 3)\n",
      "in hough lines call\n",
      "(540, 960)\n",
      "in weighted image call\n",
      "(540, 960, 3)\n",
      "(540, 960, 3)\n",
      "in hough lines call\n",
      "(540, 960)\n",
      "in weighted image call\n",
      "(540, 960, 3)\n",
      "(540, 960, 3)\n",
      "in hough lines call\n",
      "(540, 960)\n",
      "in weighted image call\n",
      "(540, 960, 3)\n",
      "(540, 960, 3)\n",
      "in hough lines call\n",
      "(540, 960)\n",
      "in weighted image call\n",
      "(540, 960, 3)\n",
      "(540, 960, 3)\n",
      "in hough lines call\n",
      "(540, 960)\n",
      "in weighted image call\n",
      "(540, 960, 3)\n",
      "(540, 960, 3)\n",
      "in hough lines call\n",
      "(540, 960)\n",
      "in weighted image call\n",
      "(540, 960, 3)\n",
      "(540, 960, 3)\n",
      "in hough lines call\n",
      "(540, 960)\n",
      "in weighted image call\n",
      "(540, 960, 3)\n",
      "(540, 960, 3)\n"
     ]
    },
    {
     "name": "stderr",
     "output_type": "stream",
     "text": [
      " 66%|██████▌   | 451/682 [00:13<00:06, 34.58it/s]"
     ]
    },
    {
     "name": "stdout",
     "output_type": "stream",
     "text": [
      "in hough lines call\n",
      "(540, 960)\n",
      "in weighted image call\n",
      "(540, 960, 3)\n",
      "(540, 960, 3)\n",
      "in hough lines call\n",
      "(540, 960)\n",
      "in weighted image call\n",
      "(540, 960, 3)\n",
      "(540, 960, 3)\n",
      "in hough lines call\n",
      "(540, 960)\n",
      "in weighted image call\n",
      "(540, 960, 3)\n",
      "(540, 960, 3)\n",
      "in hough lines call\n",
      "(540, 960)\n",
      "in weighted image call\n",
      "(540, 960, 3)\n",
      "(540, 960, 3)\n",
      "in hough lines call\n",
      "(540, 960)\n",
      "in weighted image call\n",
      "(540, 960, 3)\n",
      "(540, 960, 3)\n",
      "in hough lines call\n",
      "(540, 960)\n",
      "in weighted image call\n",
      "(540, 960, 3)\n",
      "(540, 960, 3)\n",
      "in hough lines call\n",
      "(540, 960)\n",
      "in weighted image call\n",
      "(540, 960, 3)\n",
      "(540, 960, 3)\n",
      "in hough lines call\n",
      "(540, 960)\n"
     ]
    },
    {
     "name": "stderr",
     "output_type": "stream",
     "text": [
      "\r",
      " 67%|██████▋   | 455/682 [00:13<00:06, 34.88it/s]"
     ]
    },
    {
     "name": "stdout",
     "output_type": "stream",
     "text": [
      "in weighted image call\n",
      "(540, 960, 3)\n",
      "(540, 960, 3)\n",
      "in hough lines call\n",
      "(540, 960)\n",
      "in weighted image call\n",
      "(540, 960, 3)\n",
      "(540, 960, 3)\n",
      "in hough lines call\n",
      "(540, 960)\n",
      "in weighted image call\n",
      "(540, 960, 3)\n",
      "(540, 960, 3)\n",
      "in hough lines call\n",
      "(540, 960)\n",
      "in weighted image call\n",
      "(540, 960, 3)\n",
      "(540, 960, 3)\n",
      "in hough lines call\n",
      "(540, 960)\n",
      "in weighted image call\n",
      "(540, 960, 3)\n",
      "(540, 960, 3)\n",
      "in hough lines call\n",
      "(540, 960)\n",
      "in weighted image call\n",
      "(540, 960, 3)\n",
      "(540, 960, 3)\n",
      "in hough lines call\n",
      "(540, 960)\n",
      "in weighted image call\n",
      "(540, 960, 3)\n",
      "(540, 960, 3)\n",
      "in hough lines call\n",
      "(540, 960)\n"
     ]
    },
    {
     "name": "stderr",
     "output_type": "stream",
     "text": [
      " 68%|██████▊   | 463/682 [00:13<00:06, 32.74it/s]"
     ]
    },
    {
     "name": "stdout",
     "output_type": "stream",
     "text": [
      "in weighted image call\n",
      "(540, 960, 3)\n",
      "(540, 960, 3)\n",
      "in hough lines call\n",
      "(540, 960)\n",
      "in weighted image call\n",
      "(540, 960, 3)\n",
      "(540, 960, 3)\n",
      "in hough lines call\n",
      "(540, 960)\n",
      "in weighted image call\n",
      "(540, 960, 3)\n",
      "(540, 960, 3)\n",
      "in hough lines call\n",
      "(540, 960)\n",
      "in weighted image call\n",
      "(540, 960, 3)\n",
      "(540, 960, 3)\n",
      "in hough lines call\n",
      "(540, 960)\n",
      "in weighted image call\n",
      "(540, 960, 3)\n",
      "(540, 960, 3)\n",
      "in hough lines call\n",
      "(540, 960)\n",
      "in weighted image call\n",
      "(540, 960, 3)\n",
      "(540, 960, 3)\n",
      "in hough lines call\n",
      "(540, 960)\n",
      "in weighted image call\n",
      "(540, 960, 3)\n",
      "(540, 960, 3)\n"
     ]
    },
    {
     "name": "stderr",
     "output_type": "stream",
     "text": [
      " 69%|██████▉   | 471/682 [00:14<00:06, 33.60it/s]"
     ]
    },
    {
     "name": "stdout",
     "output_type": "stream",
     "text": [
      "in hough lines call\n",
      "(540, 960)\n",
      "in weighted image call\n",
      "(540, 960, 3)\n",
      "(540, 960, 3)\n",
      "in hough lines call\n",
      "(540, 960)\n",
      "in weighted image call\n",
      "(540, 960, 3)\n",
      "(540, 960, 3)\n",
      "in hough lines call\n",
      "(540, 960)\n",
      "in weighted image call\n",
      "(540, 960, 3)\n",
      "(540, 960, 3)\n",
      "in hough lines call\n",
      "(540, 960)\n",
      "in weighted image call\n",
      "(540, 960, 3)\n",
      "(540, 960, 3)\n",
      "in hough lines call\n",
      "(540, 960)\n",
      "in weighted image call\n",
      "(540, 960, 3)\n",
      "(540, 960, 3)\n",
      "in hough lines call\n",
      "(540, 960)\n",
      "in weighted image call\n",
      "(540, 960, 3)\n",
      "(540, 960, 3)\n",
      "in hough lines call\n",
      "(540, 960)\n",
      "in weighted image call\n",
      "(540, 960, 3)\n",
      "(540, 960, 3)\n",
      "in hough lines call\n",
      "(540, 960)\n"
     ]
    },
    {
     "name": "stderr",
     "output_type": "stream",
     "text": [
      " 70%|███████   | 479/682 [00:14<00:05, 34.26it/s]"
     ]
    },
    {
     "name": "stdout",
     "output_type": "stream",
     "text": [
      "in weighted image call\n",
      "(540, 960, 3)\n",
      "(540, 960, 3)\n",
      "in hough lines call\n",
      "(540, 960)\n",
      "in weighted image call\n",
      "(540, 960, 3)\n",
      "(540, 960, 3)\n",
      "in hough lines call\n",
      "(540, 960)\n",
      "in weighted image call\n",
      "(540, 960, 3)\n",
      "(540, 960, 3)\n",
      "in hough lines call\n",
      "(540, 960)\n",
      "in weighted image call\n",
      "(540, 960, 3)\n",
      "(540, 960, 3)\n",
      "in hough lines call\n",
      "(540, 960)\n",
      "in weighted image call\n",
      "(540, 960, 3)\n",
      "(540, 960, 3)\n",
      "in hough lines call\n",
      "(540, 960)\n",
      "in weighted image call\n",
      "(540, 960, 3)\n",
      "(540, 960, 3)\n",
      "in hough lines call\n",
      "(540, 960)\n",
      "in weighted image call\n",
      "(540, 960, 3)\n",
      "(540, 960, 3)\n"
     ]
    },
    {
     "name": "stderr",
     "output_type": "stream",
     "text": [
      "\r",
      " 71%|███████   | 483/682 [00:14<00:05, 33.62it/s]"
     ]
    },
    {
     "name": "stdout",
     "output_type": "stream",
     "text": [
      "in hough lines call\n",
      "(540, 960)\n",
      "in weighted image call\n",
      "(540, 960, 3)\n",
      "(540, 960, 3)\n",
      "in hough lines call\n",
      "(540, 960)\n",
      "in weighted image call\n",
      "(540, 960, 3)\n",
      "(540, 960, 3)\n",
      "in hough lines call\n",
      "(540, 960)\n",
      "in weighted image call\n",
      "(540, 960, 3)\n",
      "(540, 960, 3)\n",
      "in hough lines call\n",
      "(540, 960)\n",
      "in weighted image call\n",
      "(540, 960, 3)\n",
      "(540, 960, 3)\n",
      "in hough lines call\n",
      "(540, 960)\n",
      "in weighted image call\n",
      "(540, 960, 3)\n",
      "(540, 960, 3)\n",
      "in hough lines call\n",
      "(540, 960)\n",
      "in weighted image call\n",
      "(540, 960, 3)\n",
      "(540, 960, 3)\n",
      "in hough lines call\n",
      "(540, 960)\n",
      "in weighted image call\n",
      "(540, 960, 3)\n",
      "(540, 960, 3)\n"
     ]
    },
    {
     "name": "stderr",
     "output_type": "stream",
     "text": [
      " 72%|███████▏  | 491/682 [00:14<00:05, 33.67it/s]"
     ]
    },
    {
     "name": "stdout",
     "output_type": "stream",
     "text": [
      "in hough lines call\n",
      "(540, 960)\n",
      "in weighted image call\n",
      "(540, 960, 3)\n",
      "(540, 960, 3)\n",
      "in hough lines call\n",
      "(540, 960)\n",
      "in weighted image call\n",
      "(540, 960, 3)\n",
      "(540, 960, 3)\n",
      "in hough lines call\n",
      "(540, 960)\n",
      "in weighted image call\n",
      "(540, 960, 3)\n",
      "(540, 960, 3)\n",
      "in hough lines call\n",
      "(540, 960)\n",
      "in weighted image call\n",
      "(540, 960, 3)\n",
      "(540, 960, 3)\n",
      "in hough lines call\n",
      "(540, 960)\n",
      "in weighted image call\n",
      "(540, 960, 3)\n",
      "(540, 960, 3)\n",
      "in hough lines call\n",
      "(540, 960)\n",
      "in weighted image call\n",
      "(540, 960, 3)\n",
      "(540, 960, 3)\n",
      "in hough lines call\n",
      "(540, 960)\n",
      "in weighted image call\n",
      "(540, 960, 3)\n",
      "(540, 960, 3)\n"
     ]
    },
    {
     "name": "stderr",
     "output_type": "stream",
     "text": [
      " 73%|███████▎  | 499/682 [00:14<00:05, 33.55it/s]"
     ]
    },
    {
     "name": "stdout",
     "output_type": "stream",
     "text": [
      "in hough lines call\n",
      "(540, 960)\n",
      "in weighted image call\n",
      "(540, 960, 3)\n",
      "(540, 960, 3)\n",
      "in hough lines call\n",
      "(540, 960)\n",
      "in weighted image call\n",
      "(540, 960, 3)\n",
      "(540, 960, 3)\n",
      "in hough lines call\n",
      "(540, 960)\n",
      "in weighted image call\n",
      "(540, 960, 3)\n",
      "(540, 960, 3)\n",
      "in hough lines call\n",
      "(540, 960)\n",
      "in weighted image call\n",
      "(540, 960, 3)\n",
      "(540, 960, 3)\n",
      "in hough lines call\n",
      "(540, 960)\n",
      "in weighted image call\n",
      "(540, 960, 3)\n",
      "(540, 960, 3)\n",
      "in hough lines call\n",
      "(540, 960)\n",
      "in weighted image call\n",
      "(540, 960, 3)\n",
      "(540, 960, 3)\n",
      "in hough lines call\n",
      "(540, 960)\n",
      "in weighted image call\n",
      "(540, 960, 3)\n",
      "(540, 960, 3)\n"
     ]
    },
    {
     "name": "stderr",
     "output_type": "stream",
     "text": [
      "\r",
      " 74%|███████▍  | 503/682 [00:15<00:05, 33.03it/s]"
     ]
    },
    {
     "name": "stdout",
     "output_type": "stream",
     "text": [
      "in hough lines call\n",
      "(540, 960)\n",
      "in weighted image call\n",
      "(540, 960, 3)\n",
      "(540, 960, 3)\n",
      "in hough lines call\n",
      "(540, 960)\n",
      "in weighted image call\n",
      "(540, 960, 3)\n",
      "(540, 960, 3)\n",
      "in hough lines call\n",
      "(540, 960)\n",
      "in weighted image call\n",
      "(540, 960, 3)\n",
      "(540, 960, 3)\n",
      "in hough lines call\n",
      "(540, 960)\n",
      "in weighted image call\n",
      "(540, 960, 3)\n",
      "(540, 960, 3)\n",
      "in hough lines call\n",
      "(540, 960)\n",
      "in weighted image call\n",
      "(540, 960, 3)\n",
      "(540, 960, 3)\n",
      "in hough lines call\n",
      "(540, 960)\n",
      "in weighted image call\n",
      "(540, 960, 3)\n",
      "(540, 960, 3)\n",
      "in hough lines call\n",
      "(540, 960)\n"
     ]
    },
    {
     "name": "stderr",
     "output_type": "stream",
     "text": [
      " 75%|███████▍  | 511/682 [00:15<00:05, 32.60it/s]"
     ]
    },
    {
     "name": "stdout",
     "output_type": "stream",
     "text": [
      "in weighted image call\n",
      "(540, 960, 3)\n",
      "(540, 960, 3)\n",
      "in hough lines call\n",
      "(540, 960)\n",
      "in weighted image call\n",
      "(540, 960, 3)\n",
      "(540, 960, 3)\n",
      "in hough lines call\n",
      "(540, 960)\n",
      "in weighted image call\n",
      "(540, 960, 3)\n",
      "(540, 960, 3)\n",
      "in hough lines call\n",
      "(540, 960)\n",
      "in weighted image call\n",
      "(540, 960, 3)\n",
      "(540, 960, 3)\n",
      "in hough lines call\n",
      "(540, 960)\n",
      "in weighted image call\n",
      "(540, 960, 3)\n",
      "(540, 960, 3)\n",
      "in hough lines call\n",
      "(540, 960)\n",
      "in weighted image call\n",
      "(540, 960, 3)\n",
      "(540, 960, 3)\n",
      "in hough lines call\n",
      "(540, 960)\n",
      "in weighted image call\n",
      "(540, 960, 3)\n",
      "(540, 960, 3)\n"
     ]
    },
    {
     "name": "stderr",
     "output_type": "stream",
     "text": [
      " 76%|███████▌  | 519/682 [00:15<00:05, 32.46it/s]"
     ]
    },
    {
     "name": "stdout",
     "output_type": "stream",
     "text": [
      "in hough lines call\n",
      "(540, 960)\n",
      "in weighted image call\n",
      "(540, 960, 3)\n",
      "(540, 960, 3)\n",
      "in hough lines call\n",
      "(540, 960)\n",
      "in weighted image call\n",
      "(540, 960, 3)\n",
      "(540, 960, 3)\n",
      "in hough lines call\n",
      "(540, 960)\n",
      "in weighted image call\n",
      "(540, 960, 3)\n",
      "(540, 960, 3)\n",
      "in hough lines call\n",
      "(540, 960)\n",
      "in weighted image call\n",
      "(540, 960, 3)\n",
      "(540, 960, 3)\n",
      "in hough lines call\n",
      "(540, 960)\n",
      "in weighted image call\n",
      "(540, 960, 3)\n",
      "(540, 960, 3)\n",
      "in hough lines call\n",
      "(540, 960)\n",
      "in weighted image call\n",
      "(540, 960, 3)\n",
      "(540, 960, 3)\n",
      "in hough lines call\n",
      "(540, 960)\n",
      "in weighted image call\n",
      "(540, 960, 3)\n",
      "(540, 960, 3)\n"
     ]
    },
    {
     "name": "stderr",
     "output_type": "stream",
     "text": [
      " 77%|███████▋  | 527/682 [00:15<00:04, 33.80it/s]"
     ]
    },
    {
     "name": "stdout",
     "output_type": "stream",
     "text": [
      "in hough lines call\n",
      "(540, 960)\n",
      "in weighted image call\n",
      "(540, 960, 3)\n",
      "(540, 960, 3)\n",
      "in hough lines call\n",
      "(540, 960)\n",
      "in weighted image call\n",
      "(540, 960, 3)\n",
      "(540, 960, 3)\n",
      "in hough lines call\n",
      "(540, 960)\n",
      "in weighted image call\n",
      "(540, 960, 3)\n",
      "(540, 960, 3)\n",
      "in hough lines call\n",
      "(540, 960)\n",
      "in weighted image call\n",
      "(540, 960, 3)\n",
      "(540, 960, 3)\n",
      "in hough lines call\n",
      "(540, 960)\n",
      "in weighted image call\n",
      "(540, 960, 3)\n",
      "(540, 960, 3)\n",
      "in hough lines call\n",
      "(540, 960)\n",
      "in weighted image call\n",
      "(540, 960, 3)\n",
      "(540, 960, 3)\n",
      "in hough lines call\n",
      "(540, 960)\n",
      "in weighted image call\n",
      "(540, 960, 3)\n",
      "(540, 960, 3)\n"
     ]
    },
    {
     "name": "stderr",
     "output_type": "stream",
     "text": [
      " 78%|███████▊  | 535/682 [00:16<00:04, 34.78it/s]"
     ]
    },
    {
     "name": "stdout",
     "output_type": "stream",
     "text": [
      "in hough lines call\n",
      "(540, 960)\n",
      "in weighted image call\n",
      "(540, 960, 3)\n",
      "(540, 960, 3)\n",
      "in hough lines call\n",
      "(540, 960)\n",
      "in weighted image call\n",
      "(540, 960, 3)\n",
      "(540, 960, 3)\n",
      "in hough lines call\n",
      "(540, 960)\n",
      "in weighted image call\n",
      "(540, 960, 3)\n",
      "(540, 960, 3)\n",
      "in hough lines call\n",
      "(540, 960)\n",
      "in weighted image call\n",
      "(540, 960, 3)\n",
      "(540, 960, 3)\n",
      "in hough lines call\n",
      "(540, 960)\n",
      "in weighted image call\n",
      "(540, 960, 3)\n",
      "(540, 960, 3)\n",
      "in hough lines call\n",
      "(540, 960)\n",
      "in weighted image call\n",
      "(540, 960, 3)\n",
      "(540, 960, 3)\n",
      "in hough lines call\n",
      "(540, 960)\n",
      "in weighted image call\n",
      "(540, 960, 3)\n",
      "(540, 960, 3)\n",
      "in hough lines call\n",
      "(540, 960)\n",
      "in weighted image call\n",
      "(540, 960, 3)\n",
      "(540, 960, 3)\n"
     ]
    },
    {
     "name": "stderr",
     "output_type": "stream",
     "text": [
      "\r",
      " 79%|███████▉  | 539/682 [00:16<00:04, 33.97it/s]"
     ]
    },
    {
     "name": "stdout",
     "output_type": "stream",
     "text": [
      "in hough lines call\n",
      "(540, 960)\n",
      "in weighted image call\n",
      "(540, 960, 3)\n",
      "(540, 960, 3)\n",
      "in hough lines call\n",
      "(540, 960)\n",
      "in weighted image call\n",
      "(540, 960, 3)\n",
      "(540, 960, 3)\n",
      "in hough lines call\n",
      "(540, 960)\n",
      "in weighted image call\n",
      "(540, 960, 3)\n",
      "(540, 960, 3)\n",
      "in hough lines call\n",
      "(540, 960)\n",
      "in weighted image call\n",
      "(540, 960, 3)\n",
      "(540, 960, 3)\n",
      "in hough lines call\n",
      "(540, 960)\n",
      "in weighted image call\n",
      "(540, 960, 3)\n",
      "(540, 960, 3)\n",
      "in hough lines call\n",
      "(540, 960)\n",
      "in weighted image call\n",
      "(540, 960, 3)\n",
      "(540, 960, 3)\n",
      "in hough lines call\n",
      "(540, 960)\n",
      "in weighted image call\n",
      "(540, 960, 3)\n",
      "(540, 960, 3)\n"
     ]
    },
    {
     "name": "stderr",
     "output_type": "stream",
     "text": [
      " 80%|████████  | 547/682 [00:16<00:04, 33.52it/s]"
     ]
    },
    {
     "name": "stdout",
     "output_type": "stream",
     "text": [
      "in hough lines call\n",
      "(540, 960)\n",
      "in weighted image call\n",
      "(540, 960, 3)\n",
      "(540, 960, 3)\n",
      "in hough lines call\n",
      "(540, 960)\n",
      "in weighted image call\n",
      "(540, 960, 3)\n",
      "(540, 960, 3)\n",
      "in hough lines call\n",
      "(540, 960)\n",
      "in weighted image call\n",
      "(540, 960, 3)\n",
      "(540, 960, 3)\n",
      "in hough lines call\n",
      "(540, 960)\n",
      "in weighted image call\n",
      "(540, 960, 3)\n",
      "(540, 960, 3)\n",
      "in hough lines call\n",
      "(540, 960)\n",
      "in weighted image call\n",
      "(540, 960, 3)\n",
      "(540, 960, 3)\n",
      "in hough lines call\n",
      "(540, 960)\n",
      "in weighted image call\n",
      "(540, 960, 3)\n",
      "(540, 960, 3)\n",
      "in hough lines call\n",
      "(540, 960)\n",
      "in weighted image call\n",
      "(540, 960, 3)\n",
      "(540, 960, 3)\n"
     ]
    },
    {
     "name": "stderr",
     "output_type": "stream",
     "text": [
      " 81%|████████▏ | 555/682 [00:16<00:03, 33.66it/s]"
     ]
    },
    {
     "name": "stdout",
     "output_type": "stream",
     "text": [
      "in hough lines call\n",
      "(540, 960)\n",
      "in weighted image call\n",
      "(540, 960, 3)\n",
      "(540, 960, 3)\n",
      "in hough lines call\n",
      "(540, 960)\n",
      "in weighted image call\n",
      "(540, 960, 3)\n",
      "(540, 960, 3)\n",
      "in hough lines call\n",
      "(540, 960)\n",
      "in weighted image call\n",
      "(540, 960, 3)\n",
      "(540, 960, 3)\n",
      "in hough lines call\n",
      "(540, 960)\n",
      "in weighted image call\n",
      "(540, 960, 3)\n",
      "(540, 960, 3)\n",
      "in hough lines call\n",
      "(540, 960)\n",
      "in weighted image call\n",
      "(540, 960, 3)\n",
      "(540, 960, 3)\n",
      "in hough lines call\n",
      "(540, 960)\n",
      "in weighted image call\n",
      "(540, 960, 3)\n",
      "(540, 960, 3)\n",
      "in hough lines call\n",
      "(540, 960)\n",
      "in weighted image call\n",
      "(540, 960, 3)\n",
      "(540, 960, 3)\n"
     ]
    },
    {
     "name": "stderr",
     "output_type": "stream",
     "text": [
      " 83%|████████▎ | 563/682 [00:16<00:03, 33.70it/s]"
     ]
    },
    {
     "name": "stdout",
     "output_type": "stream",
     "text": [
      "in hough lines call\n",
      "(540, 960)\n",
      "in weighted image call\n",
      "(540, 960, 3)\n",
      "(540, 960, 3)\n",
      "in hough lines call\n",
      "(540, 960)\n",
      "in weighted image call\n",
      "(540, 960, 3)\n",
      "(540, 960, 3)\n",
      "in hough lines call\n",
      "(540, 960)\n",
      "in weighted image call\n",
      "(540, 960, 3)\n",
      "(540, 960, 3)\n",
      "in hough lines call\n",
      "(540, 960)\n",
      "in weighted image call\n",
      "(540, 960, 3)\n",
      "(540, 960, 3)\n",
      "in hough lines call\n",
      "(540, 960)\n",
      "in weighted image call\n",
      "(540, 960, 3)\n",
      "(540, 960, 3)\n",
      "in hough lines call\n",
      "(540, 960)\n",
      "in weighted image call\n",
      "(540, 960, 3)\n",
      "(540, 960, 3)\n",
      "in hough lines call\n",
      "(540, 960)\n",
      "in weighted image call\n",
      "(540, 960, 3)\n",
      "(540, 960, 3)\n"
     ]
    },
    {
     "name": "stderr",
     "output_type": "stream",
     "text": [
      "\r",
      " 83%|████████▎ | 567/682 [00:17<00:03, 33.26it/s]"
     ]
    },
    {
     "name": "stdout",
     "output_type": "stream",
     "text": [
      "in hough lines call\n",
      "(540, 960)\n",
      "in weighted image call\n",
      "(540, 960, 3)\n",
      "(540, 960, 3)\n",
      "in hough lines call\n",
      "(540, 960)\n",
      "in weighted image call\n",
      "(540, 960, 3)\n",
      "(540, 960, 3)\n",
      "in hough lines call\n",
      "(540, 960)\n",
      "in weighted image call\n",
      "(540, 960, 3)\n",
      "(540, 960, 3)\n",
      "in hough lines call\n",
      "(540, 960)\n",
      "in weighted image call\n",
      "(540, 960, 3)\n",
      "(540, 960, 3)\n",
      "in hough lines call\n",
      "(540, 960)\n",
      "in weighted image call\n",
      "(540, 960, 3)\n",
      "(540, 960, 3)\n",
      "in hough lines call\n",
      "(540, 960)\n",
      "in weighted image call\n",
      "(540, 960, 3)\n",
      "(540, 960, 3)\n",
      "in hough lines call\n",
      "(540, 960)\n",
      "in weighted image call\n",
      "(540, 960, 3)\n",
      "(540, 960, 3)\n",
      "in hough lines call\n",
      "(540, 960)\n"
     ]
    },
    {
     "name": "stderr",
     "output_type": "stream",
     "text": [
      " 84%|████████▍ | 575/682 [00:17<00:03, 33.78it/s]"
     ]
    },
    {
     "name": "stdout",
     "output_type": "stream",
     "text": [
      "in weighted image call\n",
      "(540, 960, 3)\n",
      "(540, 960, 3)\n",
      "in hough lines call\n",
      "(540, 960)\n",
      "in weighted image call\n",
      "(540, 960, 3)\n",
      "(540, 960, 3)\n",
      "in hough lines call\n",
      "(540, 960)\n",
      "in weighted image call\n",
      "(540, 960, 3)\n",
      "(540, 960, 3)\n",
      "in hough lines call\n",
      "(540, 960)\n",
      "in weighted image call\n",
      "(540, 960, 3)\n",
      "(540, 960, 3)\n",
      "in hough lines call\n",
      "(540, 960)\n",
      "in weighted image call\n",
      "(540, 960, 3)\n",
      "(540, 960, 3)\n",
      "in hough lines call\n",
      "(540, 960)\n",
      "in weighted image call\n",
      "(540, 960, 3)\n",
      "(540, 960, 3)\n",
      "in hough lines call\n",
      "(540, 960)\n",
      "in weighted image call\n",
      "(540, 960, 3)\n",
      "(540, 960, 3)\n"
     ]
    },
    {
     "name": "stderr",
     "output_type": "stream",
     "text": [
      " 85%|████████▌ | 583/682 [00:17<00:02, 33.35it/s]"
     ]
    },
    {
     "name": "stdout",
     "output_type": "stream",
     "text": [
      "in hough lines call\n",
      "(540, 960)\n",
      "in weighted image call\n",
      "(540, 960, 3)\n",
      "(540, 960, 3)\n",
      "in hough lines call\n",
      "(540, 960)\n",
      "in weighted image call\n",
      "(540, 960, 3)\n",
      "(540, 960, 3)\n",
      "in hough lines call\n",
      "(540, 960)\n",
      "in weighted image call\n",
      "(540, 960, 3)\n",
      "(540, 960, 3)\n",
      "in hough lines call\n",
      "(540, 960)\n",
      "in weighted image call\n",
      "(540, 960, 3)\n",
      "(540, 960, 3)\n",
      "in hough lines call\n",
      "(540, 960)\n",
      "in weighted image call\n",
      "(540, 960, 3)\n",
      "(540, 960, 3)\n",
      "in hough lines call\n",
      "(540, 960)\n",
      "in weighted image call\n",
      "(540, 960, 3)\n",
      "(540, 960, 3)\n",
      "in hough lines call\n",
      "(540, 960)\n",
      "in weighted image call\n",
      "(540, 960, 3)\n",
      "(540, 960, 3)\n"
     ]
    },
    {
     "name": "stderr",
     "output_type": "stream",
     "text": [
      " 87%|████████▋ | 591/682 [00:17<00:02, 33.80it/s]"
     ]
    },
    {
     "name": "stdout",
     "output_type": "stream",
     "text": [
      "in hough lines call\n",
      "(540, 960)\n",
      "in weighted image call\n",
      "(540, 960, 3)\n",
      "(540, 960, 3)\n",
      "in hough lines call\n",
      "(540, 960)\n",
      "in weighted image call\n",
      "(540, 960, 3)\n",
      "(540, 960, 3)\n",
      "in hough lines call\n",
      "(540, 960)\n",
      "in weighted image call\n",
      "(540, 960, 3)\n",
      "(540, 960, 3)\n",
      "in hough lines call\n",
      "(540, 960)\n",
      "in weighted image call\n",
      "(540, 960, 3)\n",
      "(540, 960, 3)\n",
      "in hough lines call\n",
      "(540, 960)\n",
      "in weighted image call\n",
      "(540, 960, 3)\n",
      "(540, 960, 3)\n",
      "in hough lines call\n",
      "(540, 960)\n",
      "in weighted image call\n",
      "(540, 960, 3)\n",
      "(540, 960, 3)\n",
      "in hough lines call\n",
      "(540, 960)\n",
      "in weighted image call\n",
      "(540, 960, 3)\n",
      "(540, 960, 3)\n",
      "in hough lines call\n",
      "(540, 960)\n"
     ]
    },
    {
     "name": "stderr",
     "output_type": "stream",
     "text": [
      "\r",
      " 87%|████████▋ | 595/682 [00:17<00:02, 33.54it/s]"
     ]
    },
    {
     "name": "stdout",
     "output_type": "stream",
     "text": [
      "in weighted image call\n",
      "(540, 960, 3)\n",
      "(540, 960, 3)\n",
      "in hough lines call\n",
      "(540, 960)\n",
      "in weighted image call\n",
      "(540, 960, 3)\n",
      "(540, 960, 3)\n",
      "in hough lines call\n",
      "(540, 960)\n",
      "in weighted image call\n",
      "(540, 960, 3)\n",
      "(540, 960, 3)\n",
      "in hough lines call\n",
      "(540, 960)\n",
      "in weighted image call\n",
      "(540, 960, 3)\n",
      "(540, 960, 3)\n",
      "in hough lines call\n",
      "(540, 960)\n",
      "in weighted image call\n",
      "(540, 960, 3)\n",
      "(540, 960, 3)\n",
      "in hough lines call\n",
      "(540, 960)\n",
      "in weighted image call\n",
      "(540, 960, 3)\n",
      "(540, 960, 3)\n",
      "in hough lines call\n",
      "(540, 960)\n",
      "in weighted image call\n",
      "(540, 960, 3)\n",
      "(540, 960, 3)\n",
      "in hough lines call\n",
      "(540, 960)\n"
     ]
    },
    {
     "name": "stderr",
     "output_type": "stream",
     "text": [
      " 88%|████████▊ | 603/682 [00:18<00:02, 33.69it/s]"
     ]
    },
    {
     "name": "stdout",
     "output_type": "stream",
     "text": [
      "in weighted image call\n",
      "(540, 960, 3)\n",
      "(540, 960, 3)\n",
      "in hough lines call\n",
      "(540, 960)\n",
      "in weighted image call\n",
      "(540, 960, 3)\n",
      "(540, 960, 3)\n",
      "in hough lines call\n",
      "(540, 960)\n",
      "in weighted image call\n",
      "(540, 960, 3)\n",
      "(540, 960, 3)\n",
      "in hough lines call\n",
      "(540, 960)\n",
      "in weighted image call\n",
      "(540, 960, 3)\n",
      "(540, 960, 3)\n",
      "in hough lines call\n",
      "(540, 960)\n",
      "in weighted image call\n",
      "(540, 960, 3)\n",
      "(540, 960, 3)\n",
      "in hough lines call\n",
      "(540, 960)\n",
      "in weighted image call\n",
      "(540, 960, 3)\n",
      "(540, 960, 3)\n",
      "in hough lines call\n",
      "(540, 960)\n",
      "in weighted image call\n",
      "(540, 960, 3)\n",
      "(540, 960, 3)\n"
     ]
    },
    {
     "name": "stderr",
     "output_type": "stream",
     "text": [
      " 90%|████████▉ | 611/682 [00:18<00:02, 33.98it/s]"
     ]
    },
    {
     "name": "stdout",
     "output_type": "stream",
     "text": [
      "in hough lines call\n",
      "(540, 960)\n",
      "in weighted image call\n",
      "(540, 960, 3)\n",
      "(540, 960, 3)\n",
      "in hough lines call\n",
      "(540, 960)\n",
      "in weighted image call\n",
      "(540, 960, 3)\n",
      "(540, 960, 3)\n",
      "in hough lines call\n",
      "(540, 960)\n",
      "in weighted image call\n",
      "(540, 960, 3)\n",
      "(540, 960, 3)\n",
      "in hough lines call\n",
      "(540, 960)\n",
      "in weighted image call\n",
      "(540, 960, 3)\n",
      "(540, 960, 3)\n",
      "in hough lines call\n",
      "(540, 960)\n",
      "in weighted image call\n",
      "(540, 960, 3)\n",
      "(540, 960, 3)\n",
      "in hough lines call\n",
      "(540, 960)\n",
      "in weighted image call\n",
      "(540, 960, 3)\n",
      "(540, 960, 3)\n",
      "in hough lines call\n",
      "(540, 960)\n",
      "in weighted image call\n",
      "(540, 960, 3)\n",
      "(540, 960, 3)\n"
     ]
    },
    {
     "name": "stderr",
     "output_type": "stream",
     "text": [
      " 91%|█████████ | 619/682 [00:18<00:01, 33.41it/s]"
     ]
    },
    {
     "name": "stdout",
     "output_type": "stream",
     "text": [
      "in hough lines call\n",
      "(540, 960)\n",
      "in weighted image call\n",
      "(540, 960, 3)\n",
      "(540, 960, 3)\n",
      "in hough lines call\n",
      "(540, 960)\n",
      "in weighted image call\n",
      "(540, 960, 3)\n",
      "(540, 960, 3)\n",
      "in hough lines call\n",
      "(540, 960)\n",
      "in weighted image call\n",
      "(540, 960, 3)\n",
      "(540, 960, 3)\n",
      "in hough lines call\n",
      "(540, 960)\n",
      "in weighted image call\n",
      "(540, 960, 3)\n",
      "(540, 960, 3)\n",
      "in hough lines call\n",
      "(540, 960)\n",
      "in weighted image call\n",
      "(540, 960, 3)\n",
      "(540, 960, 3)\n",
      "in hough lines call\n",
      "(540, 960)\n",
      "in weighted image call\n",
      "(540, 960, 3)\n",
      "(540, 960, 3)\n",
      "in hough lines call\n",
      "(540, 960)\n",
      "in weighted image call\n",
      "(540, 960, 3)\n",
      "(540, 960, 3)\n"
     ]
    },
    {
     "name": "stderr",
     "output_type": "stream",
     "text": [
      " 92%|█████████▏| 627/682 [00:18<00:01, 34.95it/s]"
     ]
    },
    {
     "name": "stdout",
     "output_type": "stream",
     "text": [
      "in hough lines call\n",
      "(540, 960)\n",
      "in weighted image call\n",
      "(540, 960, 3)\n",
      "(540, 960, 3)\n",
      "in hough lines call\n",
      "(540, 960)\n",
      "in weighted image call\n",
      "(540, 960, 3)\n",
      "(540, 960, 3)\n",
      "in hough lines call\n",
      "(540, 960)\n",
      "in weighted image call\n",
      "(540, 960, 3)\n",
      "(540, 960, 3)\n",
      "in hough lines call\n",
      "(540, 960)\n",
      "in weighted image call\n",
      "(540, 960, 3)\n",
      "(540, 960, 3)\n",
      "in hough lines call\n",
      "(540, 960)\n",
      "in weighted image call\n",
      "(540, 960, 3)\n",
      "(540, 960, 3)\n",
      "in hough lines call\n",
      "(540, 960)\n",
      "in weighted image call\n",
      "(540, 960, 3)\n",
      "(540, 960, 3)\n",
      "in hough lines call\n",
      "(540, 960)\n",
      "in weighted image call\n",
      "(540, 960, 3)\n",
      "(540, 960, 3)\n",
      "in hough lines call\n",
      "(540, 960)\n",
      "in weighted image call\n",
      "(540, 960, 3)\n",
      "(540, 960, 3)\n"
     ]
    },
    {
     "name": "stderr",
     "output_type": "stream",
     "text": [
      "\r",
      " 93%|█████████▎| 631/682 [00:18<00:01, 34.11it/s]"
     ]
    },
    {
     "name": "stdout",
     "output_type": "stream",
     "text": [
      "in hough lines call\n",
      "(540, 960)\n",
      "in weighted image call\n",
      "(540, 960, 3)\n",
      "(540, 960, 3)\n",
      "in hough lines call\n",
      "(540, 960)\n",
      "in weighted image call\n",
      "(540, 960, 3)\n",
      "(540, 960, 3)\n",
      "in hough lines call\n",
      "(540, 960)\n",
      "in weighted image call\n",
      "(540, 960, 3)\n",
      "(540, 960, 3)\n",
      "in hough lines call\n",
      "(540, 960)\n",
      "in weighted image call\n",
      "(540, 960, 3)\n",
      "(540, 960, 3)\n",
      "in hough lines call\n",
      "(540, 960)\n",
      "in weighted image call\n",
      "(540, 960, 3)\n",
      "(540, 960, 3)\n",
      "in hough lines call\n",
      "(540, 960)\n",
      "in weighted image call\n",
      "(540, 960, 3)\n",
      "(540, 960, 3)\n",
      "in hough lines call\n",
      "(540, 960)\n",
      "in weighted image call\n",
      "(540, 960, 3)\n",
      "(540, 960, 3)\n",
      "in hough lines call\n",
      "(540, 960)\n",
      "in weighted image call\n",
      "(540, 960, 3)\n",
      "(540, 960, 3)\n"
     ]
    },
    {
     "name": "stderr",
     "output_type": "stream",
     "text": [
      " 94%|█████████▎| 639/682 [00:19<00:01, 33.86it/s]"
     ]
    },
    {
     "name": "stdout",
     "output_type": "stream",
     "text": [
      "in hough lines call\n",
      "(540, 960)\n",
      "in weighted image call\n",
      "(540, 960, 3)\n",
      "(540, 960, 3)\n",
      "in hough lines call\n",
      "(540, 960)\n",
      "in weighted image call\n",
      "(540, 960, 3)\n",
      "(540, 960, 3)\n",
      "in hough lines call\n",
      "(540, 960)\n",
      "in weighted image call\n",
      "(540, 960, 3)\n",
      "(540, 960, 3)\n",
      "in hough lines call\n",
      "(540, 960)\n",
      "in weighted image call\n",
      "(540, 960, 3)\n",
      "(540, 960, 3)\n",
      "in hough lines call\n",
      "(540, 960)\n",
      "in weighted image call\n",
      "(540, 960, 3)\n",
      "(540, 960, 3)\n",
      "in hough lines call\n",
      "(540, 960)\n",
      "in weighted image call\n",
      "(540, 960, 3)\n",
      "(540, 960, 3)\n",
      "in hough lines call\n",
      "(540, 960)\n",
      "in weighted image call\n",
      "(540, 960, 3)\n",
      "(540, 960, 3)\n"
     ]
    },
    {
     "name": "stderr",
     "output_type": "stream",
     "text": [
      " 95%|█████████▍| 647/682 [00:19<00:01, 33.65it/s]"
     ]
    },
    {
     "name": "stdout",
     "output_type": "stream",
     "text": [
      "in hough lines call\n",
      "(540, 960)\n",
      "in weighted image call\n",
      "(540, 960, 3)\n",
      "(540, 960, 3)\n",
      "in hough lines call\n",
      "(540, 960)\n",
      "in weighted image call\n",
      "(540, 960, 3)\n",
      "(540, 960, 3)\n",
      "in hough lines call\n",
      "(540, 960)\n",
      "in weighted image call\n",
      "(540, 960, 3)\n",
      "(540, 960, 3)\n",
      "in hough lines call\n",
      "(540, 960)\n",
      "in weighted image call\n",
      "(540, 960, 3)\n",
      "(540, 960, 3)\n",
      "in hough lines call\n",
      "(540, 960)\n",
      "in weighted image call\n",
      "(540, 960, 3)\n",
      "(540, 960, 3)\n",
      "in hough lines call\n",
      "(540, 960)\n",
      "in weighted image call\n",
      "(540, 960, 3)\n",
      "(540, 960, 3)\n",
      "in hough lines call\n",
      "(540, 960)\n",
      "in weighted image call\n",
      "(540, 960, 3)\n",
      "(540, 960, 3)\n",
      "in hough lines call"
     ]
    },
    {
     "name": "stderr",
     "output_type": "stream",
     "text": [
      " 96%|█████████▌| 655/682 [00:19<00:00, 34.39it/s]"
     ]
    },
    {
     "name": "stdout",
     "output_type": "stream",
     "text": [
      "\n",
      "(540, 960)\n",
      "in weighted image call\n",
      "(540, 960, 3)\n",
      "(540, 960, 3)\n",
      "in hough lines call\n",
      "(540, 960)\n",
      "in weighted image call\n",
      "(540, 960, 3)\n",
      "(540, 960, 3)\n",
      "in hough lines call\n",
      "(540, 960)\n",
      "in weighted image call\n",
      "(540, 960, 3)\n",
      "(540, 960, 3)\n",
      "in hough lines call\n",
      "(540, 960)\n",
      "in weighted image call\n",
      "(540, 960, 3)\n",
      "(540, 960, 3)\n",
      "in hough lines call\n",
      "(540, 960)\n",
      "in weighted image call\n",
      "(540, 960, 3)\n",
      "(540, 960, 3)\n",
      "in hough lines call\n",
      "(540, 960)\n",
      "in weighted image call\n",
      "(540, 960, 3)\n",
      "(540, 960, 3)\n",
      "in hough lines call\n",
      "(540, 960)\n",
      "in weighted image call\n",
      "(540, 960, 3)\n",
      "(540, 960, 3)\n"
     ]
    },
    {
     "name": "stderr",
     "output_type": "stream",
     "text": [
      " 97%|█████████▋| 663/682 [00:19<00:00, 33.96it/s]"
     ]
    },
    {
     "name": "stdout",
     "output_type": "stream",
     "text": [
      "in hough lines call\n",
      "(540, 960)\n",
      "in weighted image call\n",
      "(540, 960, 3)\n",
      "(540, 960, 3)\n",
      "in hough lines call\n",
      "(540, 960)\n",
      "in weighted image call\n",
      "(540, 960, 3)\n",
      "(540, 960, 3)\n",
      "in hough lines call\n",
      "(540, 960)\n",
      "in weighted image call\n",
      "(540, 960, 3)\n",
      "(540, 960, 3)\n",
      "in hough lines call\n",
      "(540, 960)\n",
      "in weighted image call\n",
      "(540, 960, 3)\n",
      "(540, 960, 3)\n",
      "in hough lines call\n",
      "(540, 960)\n",
      "in weighted image call\n",
      "(540, 960, 3)\n",
      "(540, 960, 3)\n",
      "in hough lines call\n",
      "(540, 960)\n",
      "in weighted image call\n",
      "(540, 960, 3)\n",
      "(540, 960, 3)\n",
      "in hough lines call\n",
      "(540, 960)\n",
      "in weighted image call\n",
      "(540, 960, 3)\n",
      "(540, 960, 3)\n"
     ]
    },
    {
     "name": "stderr",
     "output_type": "stream",
     "text": [
      "\r",
      " 98%|█████████▊| 667/682 [00:20<00:00, 32.82it/s]"
     ]
    },
    {
     "name": "stdout",
     "output_type": "stream",
     "text": [
      "in hough lines call\n",
      "(540, 960)\n",
      "in weighted image call\n",
      "(540, 960, 3)\n",
      "(540, 960, 3)\n",
      "in hough lines call\n",
      "(540, 960)\n",
      "in weighted image call\n",
      "(540, 960, 3)\n",
      "(540, 960, 3)\n",
      "in hough lines call\n",
      "(540, 960)\n",
      "in weighted image call\n",
      "(540, 960, 3)\n",
      "(540, 960, 3)\n",
      "in hough lines call\n",
      "(540, 960)\n",
      "in weighted image call\n",
      "(540, 960, 3)\n",
      "(540, 960, 3)\n",
      "in hough lines call\n",
      "(540, 960)\n",
      "in weighted image call\n",
      "(540, 960, 3)\n",
      "(540, 960, 3)\n",
      "in hough lines call\n",
      "(540, 960)\n",
      "in weighted image call\n",
      "(540, 960, 3)\n",
      "(540, 960, 3)\n",
      "in hough lines call\n",
      "(540, 960)\n",
      "in weighted image call\n",
      "(540, 960, 3)\n",
      "(540, 960, 3)\n"
     ]
    },
    {
     "name": "stderr",
     "output_type": "stream",
     "text": [
      " 99%|█████████▉| 675/682 [00:20<00:00, 32.12it/s]"
     ]
    },
    {
     "name": "stdout",
     "output_type": "stream",
     "text": [
      "in hough lines call\n",
      "(540, 960)\n",
      "in weighted image call\n",
      "(540, 960, 3)\n",
      "(540, 960, 3)\n",
      "in hough lines call\n",
      "(540, 960)\n",
      "in weighted image call\n",
      "(540, 960, 3)\n",
      "(540, 960, 3)\n",
      "in hough lines call\n",
      "(540, 960)\n",
      "in weighted image call\n",
      "(540, 960, 3)\n",
      "(540, 960, 3)\n",
      "in hough lines call\n",
      "(540, 960)\n",
      "in weighted image call\n",
      "(540, 960, 3)\n",
      "(540, 960, 3)\n",
      "in hough lines call\n",
      "(540, 960)\n",
      "in weighted image call\n",
      "(540, 960, 3)\n",
      "(540, 960, 3)\n",
      "in hough lines call\n",
      "(540, 960)\n",
      "in weighted image call\n",
      "(540, 960, 3)\n",
      "(540, 960, 3)\n",
      "in hough lines call\n",
      "(540, 960)\n",
      "in weighted image call\n",
      "(540, 960, 3)\n",
      "(540, 960, 3)\n"
     ]
    },
    {
     "name": "stderr",
     "output_type": "stream",
     "text": [
      "100%|█████████▉| 681/682 [00:20<00:00, 33.33it/s]\n"
     ]
    },
    {
     "name": "stdout",
     "output_type": "stream",
     "text": [
      "in hough lines call\n",
      "(540, 960)\n",
      "in weighted image call\n",
      "(540, 960, 3)\n",
      "(540, 960, 3)\n",
      "in hough lines call\n",
      "(540, 960)\n",
      "in weighted image call\n",
      "(540, 960, 3)\n",
      "(540, 960, 3)\n",
      "in hough lines call\n",
      "(540, 960)\n",
      "in weighted image call\n",
      "(540, 960, 3)\n",
      "(540, 960, 3)\n",
      "in hough lines call\n",
      "(540, 960)\n",
      "in weighted image call\n",
      "(540, 960, 3)\n",
      "(540, 960, 3)\n",
      "[MoviePy] Done.\n",
      "[MoviePy] >>>> Video ready: test_videos/yellow.mp4 \n",
      "\n",
      "CPU times: user 32.5 s, sys: 1.05 s, total: 33.5 s\n",
      "Wall time: 20.7 s\n"
     ]
    }
   ],
   "source": [
    "y_output = 'test_videos/yellow.mp4'\n",
    "clip1 = VideoFileClip(\"test_videos/solidYellowLeft.mp4\")\n",
    "y_clip = clip1.fl_image(process_image) \n",
    "%time y_clip.write_videofile(y_output, audio=False)"
   ]
  },
  {
   "cell_type": "code",
   "execution_count": 14,
   "metadata": {},
   "outputs": [
    {
     "data": {
      "text/html": [
       "\n",
       "<video width=\"960\" height=\"540\" controls>\n",
       "  <source src=\"test_videos/yellow.mp4\">\n",
       "</video>\n"
      ],
      "text/plain": [
       "<IPython.core.display.HTML object>"
      ]
     },
     "execution_count": 14,
     "metadata": {},
     "output_type": "execute_result"
    }
   ],
   "source": [
    "HTML(\"\"\"\n",
    "<video width=\"960\" height=\"540\" controls>\n",
    "  <source src=\"{0}\">\n",
    "</video>\n",
    "\"\"\".format(y_output))"
   ]
  },
  {
   "cell_type": "markdown",
   "metadata": {},
   "source": [
    "## Writeup and Submission\n",
    "\n",
    "If you're satisfied with your video outputs, it's time to make the report writeup in a pdf or markdown file. Once you have this Ipython notebook ready along with the writeup, it's time to submit for review! Here is a [link](https://github.com/udacity/CarND-LaneLines-P1/blob/master/writeup_template.md) to the writeup template file.\n"
   ]
  },
  {
   "cell_type": "markdown",
   "metadata": {
    "collapsed": true
   },
   "source": [
    "## Optional Challenge\n",
    "\n",
    "Try your lane finding pipeline on the video below.  Does it still work?  Can you figure out a way to make it more robust?  If you're up for the challenge, modify your pipeline so it works with this video and submit it along with the rest of your project!"
   ]
  },
  {
   "cell_type": "code",
   "execution_count": 15,
   "metadata": {},
   "outputs": [
    {
     "name": "stdout",
     "output_type": "stream",
     "text": [
      "in hough lines call\n",
      "(540, 960)\n",
      "in weighted image call\n",
      "(540, 960, 3)\n",
      "(540, 960, 3)\n",
      "[MoviePy] >>>> Building video test_videos_output/challenge.mp4\n",
      "[MoviePy] Writing video test_videos_output/challenge.mp4\n"
     ]
    },
    {
     "name": "stderr",
     "output_type": "stream",
     "text": [
      "\r",
      "  0%|          | 0/251 [00:00<?, ?it/s]"
     ]
    },
    {
     "name": "stdout",
     "output_type": "stream",
     "text": [
      "in hough lines call\n",
      "(540, 960)\n",
      "in weighted image call\n",
      "(540, 960, 3)\n",
      "(540, 960, 3)\n",
      "in hough lines call\n",
      "(540, 960)\n",
      "in weighted image call\n",
      "(540, 960, 3)\n",
      "(540, 960, 3)\n"
     ]
    },
    {
     "name": "stderr",
     "output_type": "stream",
     "text": [
      "\n"
     ]
    },
    {
     "ename": "OSError",
     "evalue": "[Errno 32] Broken pipe\n\nMoviePy error: FFMPEG encountered the following error while writing file test_videos_output/challenge.mp4:\n\n b'test_videos_output/challenge.mp4: No such file or directory\\n'",
     "output_type": "error",
     "traceback": [
      "\u001b[0;31m---------------------------------------------------------------------------\u001b[0m",
      "\u001b[0;31mBrokenPipeError\u001b[0m                           Traceback (most recent call last)",
      "\u001b[0;32m~/anaconda3/envs/carnd-term1/lib/python3.5/site-packages/moviepy/video/io/ffmpeg_writer.py\u001b[0m in \u001b[0;36mwrite_frame\u001b[0;34m(self, img_array)\u001b[0m\n\u001b[1;32m    133\u001b[0m             \u001b[0;32mif\u001b[0m \u001b[0mPY3\u001b[0m\u001b[0;34m:\u001b[0m\u001b[0;34m\u001b[0m\u001b[0m\n\u001b[0;32m--> 134\u001b[0;31m                \u001b[0mself\u001b[0m\u001b[0;34m.\u001b[0m\u001b[0mproc\u001b[0m\u001b[0;34m.\u001b[0m\u001b[0mstdin\u001b[0m\u001b[0;34m.\u001b[0m\u001b[0mwrite\u001b[0m\u001b[0;34m(\u001b[0m\u001b[0mimg_array\u001b[0m\u001b[0;34m.\u001b[0m\u001b[0mtobytes\u001b[0m\u001b[0;34m(\u001b[0m\u001b[0;34m)\u001b[0m\u001b[0;34m)\u001b[0m\u001b[0;34m\u001b[0m\u001b[0m\n\u001b[0m\u001b[1;32m    135\u001b[0m             \u001b[0;32melse\u001b[0m\u001b[0;34m:\u001b[0m\u001b[0;34m\u001b[0m\u001b[0m\n",
      "\u001b[0;31mBrokenPipeError\u001b[0m: [Errno 32] Broken pipe",
      "\nDuring handling of the above exception, another exception occurred:\n",
      "\u001b[0;31mOSError\u001b[0m                                   Traceback (most recent call last)",
      "\u001b[0;32m<timed eval>\u001b[0m in \u001b[0;36m<module>\u001b[0;34m()\u001b[0m\n",
      "\u001b[0;32m<decorator-gen-175>\u001b[0m in \u001b[0;36mwrite_videofile\u001b[0;34m(self, filename, fps, codec, bitrate, audio, audio_fps, preset, audio_nbytes, audio_codec, audio_bitrate, audio_bufsize, temp_audiofile, rewrite_audio, remove_temp, write_logfile, verbose, threads, ffmpeg_params, progress_bar)\u001b[0m\n",
      "\u001b[0;32m~/anaconda3/envs/carnd-term1/lib/python3.5/site-packages/moviepy/decorators.py\u001b[0m in \u001b[0;36mrequires_duration\u001b[0;34m(f, clip, *a, **k)\u001b[0m\n\u001b[1;32m     52\u001b[0m         \u001b[0;32mraise\u001b[0m \u001b[0mValueError\u001b[0m\u001b[0;34m(\u001b[0m\u001b[0;34m\"Attribute 'duration' not set\"\u001b[0m\u001b[0;34m)\u001b[0m\u001b[0;34m\u001b[0m\u001b[0m\n\u001b[1;32m     53\u001b[0m     \u001b[0;32melse\u001b[0m\u001b[0;34m:\u001b[0m\u001b[0;34m\u001b[0m\u001b[0m\n\u001b[0;32m---> 54\u001b[0;31m         \u001b[0;32mreturn\u001b[0m \u001b[0mf\u001b[0m\u001b[0;34m(\u001b[0m\u001b[0mclip\u001b[0m\u001b[0;34m,\u001b[0m \u001b[0;34m*\u001b[0m\u001b[0ma\u001b[0m\u001b[0;34m,\u001b[0m \u001b[0;34m**\u001b[0m\u001b[0mk\u001b[0m\u001b[0;34m)\u001b[0m\u001b[0;34m\u001b[0m\u001b[0m\n\u001b[0m\u001b[1;32m     55\u001b[0m \u001b[0;34m\u001b[0m\u001b[0m\n\u001b[1;32m     56\u001b[0m \u001b[0;34m\u001b[0m\u001b[0m\n",
      "\u001b[0;32m<decorator-gen-174>\u001b[0m in \u001b[0;36mwrite_videofile\u001b[0;34m(self, filename, fps, codec, bitrate, audio, audio_fps, preset, audio_nbytes, audio_codec, audio_bitrate, audio_bufsize, temp_audiofile, rewrite_audio, remove_temp, write_logfile, verbose, threads, ffmpeg_params, progress_bar)\u001b[0m\n",
      "\u001b[0;32m~/anaconda3/envs/carnd-term1/lib/python3.5/site-packages/moviepy/decorators.py\u001b[0m in \u001b[0;36muse_clip_fps_by_default\u001b[0;34m(f, clip, *a, **k)\u001b[0m\n\u001b[1;32m    135\u001b[0m              for (k,v) in k.items()}\n\u001b[1;32m    136\u001b[0m \u001b[0;34m\u001b[0m\u001b[0m\n\u001b[0;32m--> 137\u001b[0;31m     \u001b[0;32mreturn\u001b[0m \u001b[0mf\u001b[0m\u001b[0;34m(\u001b[0m\u001b[0mclip\u001b[0m\u001b[0;34m,\u001b[0m \u001b[0;34m*\u001b[0m\u001b[0mnew_a\u001b[0m\u001b[0;34m,\u001b[0m \u001b[0;34m**\u001b[0m\u001b[0mnew_kw\u001b[0m\u001b[0;34m)\u001b[0m\u001b[0;34m\u001b[0m\u001b[0m\n\u001b[0m",
      "\u001b[0;32m<decorator-gen-173>\u001b[0m in \u001b[0;36mwrite_videofile\u001b[0;34m(self, filename, fps, codec, bitrate, audio, audio_fps, preset, audio_nbytes, audio_codec, audio_bitrate, audio_bufsize, temp_audiofile, rewrite_audio, remove_temp, write_logfile, verbose, threads, ffmpeg_params, progress_bar)\u001b[0m\n",
      "\u001b[0;32m~/anaconda3/envs/carnd-term1/lib/python3.5/site-packages/moviepy/decorators.py\u001b[0m in \u001b[0;36mconvert_masks_to_RGB\u001b[0;34m(f, clip, *a, **k)\u001b[0m\n\u001b[1;32m     20\u001b[0m     \u001b[0;32mif\u001b[0m \u001b[0mclip\u001b[0m\u001b[0;34m.\u001b[0m\u001b[0mismask\u001b[0m\u001b[0;34m:\u001b[0m\u001b[0;34m\u001b[0m\u001b[0m\n\u001b[1;32m     21\u001b[0m         \u001b[0mclip\u001b[0m \u001b[0;34m=\u001b[0m \u001b[0mclip\u001b[0m\u001b[0;34m.\u001b[0m\u001b[0mto_RGB\u001b[0m\u001b[0;34m(\u001b[0m\u001b[0;34m)\u001b[0m\u001b[0;34m\u001b[0m\u001b[0m\n\u001b[0;32m---> 22\u001b[0;31m     \u001b[0;32mreturn\u001b[0m \u001b[0mf\u001b[0m\u001b[0;34m(\u001b[0m\u001b[0mclip\u001b[0m\u001b[0;34m,\u001b[0m \u001b[0;34m*\u001b[0m\u001b[0ma\u001b[0m\u001b[0;34m,\u001b[0m \u001b[0;34m**\u001b[0m\u001b[0mk\u001b[0m\u001b[0;34m)\u001b[0m\u001b[0;34m\u001b[0m\u001b[0m\n\u001b[0m\u001b[1;32m     23\u001b[0m \u001b[0;34m\u001b[0m\u001b[0m\n\u001b[1;32m     24\u001b[0m \u001b[0;34m@\u001b[0m\u001b[0mdecorator\u001b[0m\u001b[0;34m.\u001b[0m\u001b[0mdecorator\u001b[0m\u001b[0;34m\u001b[0m\u001b[0m\n",
      "\u001b[0;32m~/anaconda3/envs/carnd-term1/lib/python3.5/site-packages/moviepy/video/VideoClip.py\u001b[0m in \u001b[0;36mwrite_videofile\u001b[0;34m(self, filename, fps, codec, bitrate, audio, audio_fps, preset, audio_nbytes, audio_codec, audio_bitrate, audio_bufsize, temp_audiofile, rewrite_audio, remove_temp, write_logfile, verbose, threads, ffmpeg_params, progress_bar)\u001b[0m\n\u001b[1;32m    347\u001b[0m                            \u001b[0mverbose\u001b[0m\u001b[0;34m=\u001b[0m\u001b[0mverbose\u001b[0m\u001b[0;34m,\u001b[0m \u001b[0mthreads\u001b[0m\u001b[0;34m=\u001b[0m\u001b[0mthreads\u001b[0m\u001b[0;34m,\u001b[0m\u001b[0;34m\u001b[0m\u001b[0m\n\u001b[1;32m    348\u001b[0m                            \u001b[0mffmpeg_params\u001b[0m\u001b[0;34m=\u001b[0m\u001b[0mffmpeg_params\u001b[0m\u001b[0;34m,\u001b[0m\u001b[0;34m\u001b[0m\u001b[0m\n\u001b[0;32m--> 349\u001b[0;31m                            progress_bar=progress_bar)\n\u001b[0m\u001b[1;32m    350\u001b[0m \u001b[0;34m\u001b[0m\u001b[0m\n\u001b[1;32m    351\u001b[0m         \u001b[0;32mif\u001b[0m \u001b[0mremove_temp\u001b[0m \u001b[0;32mand\u001b[0m \u001b[0mmake_audio\u001b[0m\u001b[0;34m:\u001b[0m\u001b[0;34m\u001b[0m\u001b[0m\n",
      "\u001b[0;32m~/anaconda3/envs/carnd-term1/lib/python3.5/site-packages/moviepy/video/io/ffmpeg_writer.py\u001b[0m in \u001b[0;36mffmpeg_write_video\u001b[0;34m(clip, filename, fps, codec, bitrate, preset, withmask, write_logfile, audiofile, verbose, threads, ffmpeg_params, progress_bar)\u001b[0m\n\u001b[1;32m    214\u001b[0m             \u001b[0mframe\u001b[0m \u001b[0;34m=\u001b[0m \u001b[0mnp\u001b[0m\u001b[0;34m.\u001b[0m\u001b[0mdstack\u001b[0m\u001b[0;34m(\u001b[0m\u001b[0;34m[\u001b[0m\u001b[0mframe\u001b[0m\u001b[0;34m,\u001b[0m\u001b[0mmask\u001b[0m\u001b[0;34m]\u001b[0m\u001b[0;34m)\u001b[0m\u001b[0;34m\u001b[0m\u001b[0m\n\u001b[1;32m    215\u001b[0m \u001b[0;34m\u001b[0m\u001b[0m\n\u001b[0;32m--> 216\u001b[0;31m         \u001b[0mwriter\u001b[0m\u001b[0;34m.\u001b[0m\u001b[0mwrite_frame\u001b[0m\u001b[0;34m(\u001b[0m\u001b[0mframe\u001b[0m\u001b[0;34m)\u001b[0m\u001b[0;34m\u001b[0m\u001b[0m\n\u001b[0m\u001b[1;32m    217\u001b[0m \u001b[0;34m\u001b[0m\u001b[0m\n\u001b[1;32m    218\u001b[0m     \u001b[0mwriter\u001b[0m\u001b[0;34m.\u001b[0m\u001b[0mclose\u001b[0m\u001b[0;34m(\u001b[0m\u001b[0;34m)\u001b[0m\u001b[0;34m\u001b[0m\u001b[0m\n",
      "\u001b[0;32m~/anaconda3/envs/carnd-term1/lib/python3.5/site-packages/moviepy/video/io/ffmpeg_writer.py\u001b[0m in \u001b[0;36mwrite_frame\u001b[0;34m(self, img_array)\u001b[0m\n\u001b[1;32m    176\u001b[0m \u001b[0;34m\u001b[0m\u001b[0m\n\u001b[1;32m    177\u001b[0m \u001b[0;34m\u001b[0m\u001b[0m\n\u001b[0;32m--> 178\u001b[0;31m             \u001b[0;32mraise\u001b[0m \u001b[0mIOError\u001b[0m\u001b[0;34m(\u001b[0m\u001b[0merror\u001b[0m\u001b[0;34m)\u001b[0m\u001b[0;34m\u001b[0m\u001b[0m\n\u001b[0m\u001b[1;32m    179\u001b[0m \u001b[0;34m\u001b[0m\u001b[0m\n\u001b[1;32m    180\u001b[0m     \u001b[0;32mdef\u001b[0m \u001b[0mclose\u001b[0m\u001b[0;34m(\u001b[0m\u001b[0mself\u001b[0m\u001b[0;34m)\u001b[0m\u001b[0;34m:\u001b[0m\u001b[0;34m\u001b[0m\u001b[0m\n",
      "\u001b[0;31mOSError\u001b[0m: [Errno 32] Broken pipe\n\nMoviePy error: FFMPEG encountered the following error while writing file test_videos_output/challenge.mp4:\n\n b'test_videos_output/challenge.mp4: No such file or directory\\n'"
     ]
    }
   ],
   "source": [
    "challenge_output = 'test_videos_output/challenge.mp4'\n",
    "## To speed up the testing process you may want to try your pipeline on a shorter subclip of the video\n",
    "## To do so add .subclip(start_second,end_second) to the end of the line below\n",
    "## Where start_second and end_second are integer values representing the start and end of the subclip\n",
    "## You may also uncomment the following line for a subclip of the first 5 seconds\n",
    "##clip3 = VideoFileClip('test_videos/challenge.mp4').subclip(0,5)\n",
    "clip3 = VideoFileClip('test_videos/challenge.mp4')\n",
    "challenge_clip = clip3.fl_image(process_image)\n",
    "%time challenge_clip.write_videofile(challenge_output, audio=False)"
   ]
  },
  {
   "cell_type": "code",
   "execution_count": 16,
   "metadata": {},
   "outputs": [
    {
     "data": {
      "text/html": [
       "\n",
       "<video width=\"960\" height=\"540\" controls>\n",
       "  <source src=\"test_videos_output/challenge.mp4\">\n",
       "</video>\n"
      ],
      "text/plain": [
       "<IPython.core.display.HTML object>"
      ]
     },
     "execution_count": 16,
     "metadata": {},
     "output_type": "execute_result"
    }
   ],
   "source": [
    "HTML(\"\"\"\n",
    "<video width=\"960\" height=\"540\" controls>\n",
    "  <source src=\"{0}\">\n",
    "</video>\n",
    "\"\"\".format(challenge_output))"
   ]
  },
  {
   "cell_type": "code",
   "execution_count": null,
   "metadata": {},
   "outputs": [],
   "source": []
  }
 ],
 "metadata": {
  "anaconda-cloud": {},
  "kernelspec": {
   "display_name": "Python 3",
   "language": "python",
   "name": "python3"
  },
  "language_info": {
   "codemirror_mode": {
    "name": "ipython",
    "version": 3
   },
   "file_extension": ".py",
   "mimetype": "text/x-python",
   "name": "python",
   "nbconvert_exporter": "python",
   "pygments_lexer": "ipython3",
   "version": "3.5.2"
  },
  "widgets": {
   "state": {},
   "version": "1.1.2"
  }
 },
 "nbformat": 4,
 "nbformat_minor": 1
}
